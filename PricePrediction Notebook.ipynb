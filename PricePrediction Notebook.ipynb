{
  "nbformat": 4,
  "nbformat_minor": 0,
  "metadata": {
    "colab": {
      "provenance": [],
      "collapsed_sections": []
    },
    "kernelspec": {
      "display_name": "Python 3",
      "name": "python3"
    },
    "language_info": {
      "name": "python"
    }
  },
  "cells": [
    {
      "cell_type": "code",
      "metadata": {
        "id": "E9eE5cfbCojS"
      },
      "source": [
        "import numpy as np\n",
        "import pandas as pd\n",
        "from sklearn import preprocessing"
      ],
      "execution_count": null,
      "outputs": []
    },
    {
      "cell_type": "code",
      "metadata": {
        "colab": {
          "base_uri": "https://localhost:8080/",
          "height": 203
        },
        "id": "zOmHlJnPCvXu",
        "outputId": "309e203e-9655-4c2d-b74a-8fd7508432d3"
      },
      "source": [
        "df=pd.read_csv('/content/FInalDatasetRealEstateScrapping.csv')\n",
        "df.head(5)"
      ],
      "execution_count": null,
      "outputs": [
        {
          "output_type": "execute_result",
          "data": {
            "text/html": [
              "<div>\n",
              "<style scoped>\n",
              "    .dataframe tbody tr th:only-of-type {\n",
              "        vertical-align: middle;\n",
              "    }\n",
              "\n",
              "    .dataframe tbody tr th {\n",
              "        vertical-align: top;\n",
              "    }\n",
              "\n",
              "    .dataframe thead th {\n",
              "        text-align: right;\n",
              "    }\n",
              "</style>\n",
              "<table border=\"1\" class=\"dataframe\">\n",
              "  <thead>\n",
              "    <tr style=\"text-align: right;\">\n",
              "      <th></th>\n",
              "      <th>address_name</th>\n",
              "      <th>address_price</th>\n",
              "      <th>address_areaSQFT</th>\n",
              "      <th>address_bhk</th>\n",
              "      <th>address_type</th>\n",
              "      <th>city</th>\n",
              "    </tr>\n",
              "  </thead>\n",
              "  <tbody>\n",
              "    <tr>\n",
              "      <th>0</th>\n",
              "      <td>Mangrouli</td>\n",
              "      <td>14.00</td>\n",
              "      <td>891</td>\n",
              "      <td>NaN</td>\n",
              "      <td>NaN</td>\n",
              "      <td>agra</td>\n",
              "    </tr>\n",
              "    <tr>\n",
              "      <th>1</th>\n",
              "      <td>Rakabganj</td>\n",
              "      <td>3.00</td>\n",
              "      <td>4400</td>\n",
              "      <td>5.0</td>\n",
              "      <td>Independent House</td>\n",
              "      <td>agra</td>\n",
              "    </tr>\n",
              "    <tr>\n",
              "      <th>2</th>\n",
              "      <td>Baroli Ahir</td>\n",
              "      <td>35.00</td>\n",
              "      <td>1232</td>\n",
              "      <td>3.0</td>\n",
              "      <td>Apartment</td>\n",
              "      <td>agra</td>\n",
              "    </tr>\n",
              "    <tr>\n",
              "      <th>3</th>\n",
              "      <td>New Suraksha Vihar Phase 2</td>\n",
              "      <td>31.50</td>\n",
              "      <td>890</td>\n",
              "      <td>3.0</td>\n",
              "      <td>Independent House</td>\n",
              "      <td>agra</td>\n",
              "    </tr>\n",
              "    <tr>\n",
              "      <th>4</th>\n",
              "      <td>Arjun Nagar</td>\n",
              "      <td>1.39</td>\n",
              "      <td>2250</td>\n",
              "      <td>6.0</td>\n",
              "      <td>Independent House</td>\n",
              "      <td>agra</td>\n",
              "    </tr>\n",
              "  </tbody>\n",
              "</table>\n",
              "</div>"
            ],
            "text/plain": [
              "                 address_name  address_price  ...       address_type  city\n",
              "0                   Mangrouli          14.00  ...                NaN  agra\n",
              "1                   Rakabganj           3.00  ...  Independent House  agra\n",
              "2                 Baroli Ahir          35.00  ...          Apartment  agra\n",
              "3  New Suraksha Vihar Phase 2          31.50  ...  Independent House  agra\n",
              "4                 Arjun Nagar           1.39  ...  Independent House  agra\n",
              "\n",
              "[5 rows x 6 columns]"
            ]
          },
          "metadata": {},
          "execution_count": 37
        }
      ]
    },
    {
      "cell_type": "markdown",
      "metadata": {
        "id": "IPfGlCMSEvCi"
      },
      "source": [
        "since scrapped data has value for sqft and bhk interchanged for chennai\n",
        "we need to correct it"
      ]
    },
    {
      "cell_type": "code",
      "metadata": {
        "id": "4-S_eJfAhbqS"
      },
      "source": [
        "df['address_type'].fillna('Apartment',inplace=True)"
      ],
      "execution_count": null,
      "outputs": []
    },
    {
      "cell_type": "markdown",
      "metadata": {
        "id": "SXBKRTPxFjrT"
      },
      "source": [
        "for lucknow builder and bhk are inter changed"
      ]
    },
    {
      "cell_type": "code",
      "metadata": {
        "id": "_YxUH3zFFbgo"
      },
      "source": [
        "# m=df['city']=='Lucknow'\n",
        "# df.loc[m, ['address_builder', 'address_bhk']] = (\n",
        "#     df.loc[m, ['address_bhk', 'address_builder']].values)"
      ],
      "execution_count": null,
      "outputs": []
    },
    {
      "cell_type": "code",
      "metadata": {
        "id": "KaxrBCCDmLlO"
      },
      "source": [],
      "execution_count": null,
      "outputs": []
    },
    {
      "cell_type": "code",
      "metadata": {
        "id": "XbShh0NmGVSh"
      },
      "source": [
        "df.to_csv('corrected.csv')"
      ],
      "execution_count": null,
      "outputs": []
    },
    {
      "cell_type": "markdown",
      "metadata": {
        "id": "OiIxXzPPGWRg"
      },
      "source": [
        "replacing all null values of builder by seller"
      ]
    },
    {
      "cell_type": "code",
      "metadata": {
        "id": "RUfnQkKcHPvv"
      },
      "source": [
        "# df['address_builder'].fillna('seller',inplace=True)"
      ],
      "execution_count": null,
      "outputs": []
    },
    {
      "cell_type": "markdown",
      "metadata": {
        "id": "RFXeWVUFIDLv"
      },
      "source": [
        "similarly for other columns"
      ]
    },
    {
      "cell_type": "code",
      "metadata": {
        "colab": {
          "base_uri": "https://localhost:8080/"
        },
        "id": "3XdyW5LzHntS",
        "outputId": "db77dce0-9d39-438b-a01e-309fa4ba7ecf"
      },
      "source": [
        "df.isna().sum()"
      ],
      "execution_count": null,
      "outputs": [
        {
          "output_type": "execute_result",
          "data": {
            "text/plain": [
              "address_name           0\n",
              "address_price          0\n",
              "address_areaSQFT       0\n",
              "address_bhk         5200\n",
              "address_type           0\n",
              "city                   0\n",
              "dtype: int64"
            ]
          },
          "metadata": {},
          "execution_count": 42
        }
      ]
    },
    {
      "cell_type": "code",
      "metadata": {
        "colab": {
          "base_uri": "https://localhost:8080/"
        },
        "id": "X-oY9-06zB1X",
        "outputId": "c40419d5-6f35-4103-e697-4cce289c63c2"
      },
      "source": [
        "median=df['address_bhk'].median()\n",
        "df['address_bhk'].fillna(median,inplace=True)\n",
        "df.isna().sum()"
      ],
      "execution_count": null,
      "outputs": [
        {
          "output_type": "execute_result",
          "data": {
            "text/plain": [
              "address_name        0\n",
              "address_price       0\n",
              "address_areaSQFT    0\n",
              "address_bhk         0\n",
              "address_type        0\n",
              "city                0\n",
              "dtype: int64"
            ]
          },
          "metadata": {},
          "execution_count": 43
        }
      ]
    },
    {
      "cell_type": "code",
      "metadata": {
        "colab": {
          "base_uri": "https://localhost:8080/"
        },
        "id": "aH44MB5rJGv_",
        "outputId": "6c685b6f-39fe-41f7-8004-ec0d0a87d6a8"
      },
      "source": [
        "df = df.dropna(how='any',axis=0)\n",
        "df.isna().sum()"
      ],
      "execution_count": null,
      "outputs": [
        {
          "output_type": "execute_result",
          "data": {
            "text/plain": [
              "address_name        0\n",
              "address_price       0\n",
              "address_areaSQFT    0\n",
              "address_bhk         0\n",
              "address_type        0\n",
              "city                0\n",
              "dtype: int64"
            ]
          },
          "metadata": {},
          "execution_count": 44
        }
      ]
    },
    {
      "cell_type": "markdown",
      "metadata": {
        "id": "seMKIyMLJLZT"
      },
      "source": [
        "Successfully Null values are managed in dataset"
      ]
    },
    {
      "cell_type": "code",
      "metadata": {
        "id": "X0CPbmUYMEWI"
      },
      "source": [
        "# m=df['address_areaSQFT']\n",
        "# list=[]\n",
        "# for k in m:\n",
        "#    l= [int(i) for i in k.split() if i.isdigit()]\n",
        "#    list.append(l)\n",
        "# df['address_areaSQFT']=pd.DataFrame(list)"
      ],
      "execution_count": null,
      "outputs": []
    },
    {
      "cell_type": "code",
      "metadata": {
        "colab": {
          "base_uri": "https://localhost:8080/"
        },
        "id": "mjUxZZ62JPEG",
        "outputId": "6862ab82-2488-430d-dfb9-dc6a28b88256"
      },
      "source": [
        "df.isna().sum()"
      ],
      "execution_count": null,
      "outputs": [
        {
          "output_type": "execute_result",
          "data": {
            "text/plain": [
              "address_name        0\n",
              "address_price       0\n",
              "address_areaSQFT    0\n",
              "address_bhk         0\n",
              "address_type        0\n",
              "city                0\n",
              "dtype: int64"
            ]
          },
          "metadata": {},
          "execution_count": 46
        }
      ]
    },
    {
      "cell_type": "code",
      "metadata": {
        "colab": {
          "base_uri": "https://localhost:8080/"
        },
        "id": "Wx25VQYDPdYV",
        "outputId": "b194e1c3-7ef5-4fc2-a3cc-4cc8dc0d1ba6"
      },
      "source": [
        "median=df['address_areaSQFT'].median()\n",
        "df['address_areaSQFT'].fillna(median,inplace=True)\n",
        "df.isna().sum()"
      ],
      "execution_count": null,
      "outputs": [
        {
          "output_type": "execute_result",
          "data": {
            "text/plain": [
              "address_name        0\n",
              "address_price       0\n",
              "address_areaSQFT    0\n",
              "address_bhk         0\n",
              "address_type        0\n",
              "city                0\n",
              "dtype: int64"
            ]
          },
          "metadata": {},
          "execution_count": 47
        }
      ]
    },
    {
      "cell_type": "code",
      "metadata": {
        "id": "vzs4OpalQI4S"
      },
      "source": [
        "m=df['address_price']\n",
        "l=[]\n",
        "for k in m:\n",
        "  if k<=5.0:\n",
        "    l.append(k*100)\n",
        "  else:\n",
        "    l.append(k)\n",
        "df['address_price']=pd.DataFrame(l)\n"
      ],
      "execution_count": null,
      "outputs": []
    },
    {
      "cell_type": "code",
      "metadata": {
        "id": "juXjMAgnPo2x"
      },
      "source": [
        "df.isna().sum()\n",
        "df.dropna(inplace=True)\n",
        "df.to_csv(\"corrected.csv\", index=False)\n",
        "df=pd.read_csv('/content/corrected.csv', index_col=False)"
      ],
      "execution_count": null,
      "outputs": []
    },
    {
      "cell_type": "code",
      "metadata": {
        "colab": {
          "base_uri": "https://localhost:8080/",
          "height": 357
        },
        "id": "-A-BcpADSNXM",
        "outputId": "0b19c619-ffb4-412b-d107-1b332e7bb08a"
      },
      "source": [
        "df.head(10)"
      ],
      "execution_count": null,
      "outputs": [
        {
          "output_type": "execute_result",
          "data": {
            "text/html": [
              "<div>\n",
              "<style scoped>\n",
              "    .dataframe tbody tr th:only-of-type {\n",
              "        vertical-align: middle;\n",
              "    }\n",
              "\n",
              "    .dataframe tbody tr th {\n",
              "        vertical-align: top;\n",
              "    }\n",
              "\n",
              "    .dataframe thead th {\n",
              "        text-align: right;\n",
              "    }\n",
              "</style>\n",
              "<table border=\"1\" class=\"dataframe\">\n",
              "  <thead>\n",
              "    <tr style=\"text-align: right;\">\n",
              "      <th></th>\n",
              "      <th>address_name</th>\n",
              "      <th>address_price</th>\n",
              "      <th>address_areaSQFT</th>\n",
              "      <th>address_bhk</th>\n",
              "      <th>address_type</th>\n",
              "      <th>city</th>\n",
              "    </tr>\n",
              "  </thead>\n",
              "  <tbody>\n",
              "    <tr>\n",
              "      <th>0</th>\n",
              "      <td>Mangrouli</td>\n",
              "      <td>14.00</td>\n",
              "      <td>891</td>\n",
              "      <td>3.0</td>\n",
              "      <td>Apartment</td>\n",
              "      <td>agra</td>\n",
              "    </tr>\n",
              "    <tr>\n",
              "      <th>1</th>\n",
              "      <td>Rakabganj</td>\n",
              "      <td>300.00</td>\n",
              "      <td>4400</td>\n",
              "      <td>5.0</td>\n",
              "      <td>Independent House</td>\n",
              "      <td>agra</td>\n",
              "    </tr>\n",
              "    <tr>\n",
              "      <th>2</th>\n",
              "      <td>Baroli Ahir</td>\n",
              "      <td>35.00</td>\n",
              "      <td>1232</td>\n",
              "      <td>3.0</td>\n",
              "      <td>Apartment</td>\n",
              "      <td>agra</td>\n",
              "    </tr>\n",
              "    <tr>\n",
              "      <th>3</th>\n",
              "      <td>New Suraksha Vihar Phase 2</td>\n",
              "      <td>31.50</td>\n",
              "      <td>890</td>\n",
              "      <td>3.0</td>\n",
              "      <td>Independent House</td>\n",
              "      <td>agra</td>\n",
              "    </tr>\n",
              "    <tr>\n",
              "      <th>4</th>\n",
              "      <td>Arjun Nagar</td>\n",
              "      <td>139.00</td>\n",
              "      <td>2250</td>\n",
              "      <td>6.0</td>\n",
              "      <td>Independent House</td>\n",
              "      <td>agra</td>\n",
              "    </tr>\n",
              "    <tr>\n",
              "      <th>5</th>\n",
              "      <td>Dayal Bagh</td>\n",
              "      <td>11.11</td>\n",
              "      <td>1111</td>\n",
              "      <td>1.0</td>\n",
              "      <td>Studio Apartment</td>\n",
              "      <td>agra</td>\n",
              "    </tr>\n",
              "    <tr>\n",
              "      <th>6</th>\n",
              "      <td>Kamla Nagar</td>\n",
              "      <td>68.00</td>\n",
              "      <td>1700</td>\n",
              "      <td>3.0</td>\n",
              "      <td>Apartment</td>\n",
              "      <td>agra</td>\n",
              "    </tr>\n",
              "    <tr>\n",
              "      <th>7</th>\n",
              "      <td>Mangrouli</td>\n",
              "      <td>15.00</td>\n",
              "      <td>588</td>\n",
              "      <td>3.0</td>\n",
              "      <td>Apartment</td>\n",
              "      <td>agra</td>\n",
              "    </tr>\n",
              "    <tr>\n",
              "      <th>8</th>\n",
              "      <td>Sewla Jatt</td>\n",
              "      <td>22.50</td>\n",
              "      <td>810</td>\n",
              "      <td>3.0</td>\n",
              "      <td>Independent House</td>\n",
              "      <td>agra</td>\n",
              "    </tr>\n",
              "    <tr>\n",
              "      <th>9</th>\n",
              "      <td>Rohta</td>\n",
              "      <td>26.00</td>\n",
              "      <td>1080</td>\n",
              "      <td>4.0</td>\n",
              "      <td>Independent House</td>\n",
              "      <td>agra</td>\n",
              "    </tr>\n",
              "  </tbody>\n",
              "</table>\n",
              "</div>"
            ],
            "text/plain": [
              "                 address_name  address_price  ...       address_type  city\n",
              "0                   Mangrouli          14.00  ...          Apartment  agra\n",
              "1                   Rakabganj         300.00  ...  Independent House  agra\n",
              "2                 Baroli Ahir          35.00  ...          Apartment  agra\n",
              "3  New Suraksha Vihar Phase 2          31.50  ...  Independent House  agra\n",
              "4                 Arjun Nagar         139.00  ...  Independent House  agra\n",
              "5                  Dayal Bagh          11.11  ...   Studio Apartment  agra\n",
              "6                 Kamla Nagar          68.00  ...          Apartment  agra\n",
              "7                   Mangrouli          15.00  ...          Apartment  agra\n",
              "8                  Sewla Jatt          22.50  ...  Independent House  agra\n",
              "9                       Rohta          26.00  ...  Independent House  agra\n",
              "\n",
              "[10 rows x 6 columns]"
            ]
          },
          "metadata": {},
          "execution_count": 50
        }
      ]
    },
    {
      "cell_type": "code",
      "metadata": {
        "id": "4_vfJLpjfDdW"
      },
      "source": [
        "df1=df\n",
        "\n",
        "location_stats = df1.groupby('address_name')['address_name'].agg('count').sort_values(ascending=False)"
      ],
      "execution_count": null,
      "outputs": []
    },
    {
      "cell_type": "code",
      "metadata": {
        "colab": {
          "base_uri": "https://localhost:8080/"
        },
        "id": "gVAlNMUtfhi5",
        "outputId": "809f302d-5f06-41c3-884d-5bcbbfe3d5d6"
      },
      "source": [
        "location_stats_less_than_10 = location_stats[location_stats<=10]\n",
        "location_stats_less_than_10"
      ],
      "execution_count": null,
      "outputs": [
        {
          "output_type": "execute_result",
          "data": {
            "text/plain": [
              "Series([], Name: address_name, dtype: int64)"
            ]
          },
          "metadata": {},
          "execution_count": 52
        }
      ]
    },
    {
      "cell_type": "code",
      "metadata": {
        "colab": {
          "base_uri": "https://localhost:8080/"
        },
        "id": "eKQRofa4fnyJ",
        "outputId": "3d143813-fb73-46dd-fb86-379370aaae50"
      },
      "source": [
        "df1.address_name=df1.address_name.apply(lambda x:'other' if x in location_stats_less_than_10 else x)\n",
        "df2=df1[df1.address_name!='other']\n",
        "df2.dropna()\n",
        "stats=df2.groupby('address_name')['address_name'].agg('count')\n",
        "print(stats)"
      ],
      "execution_count": null,
      "outputs": [
        {
          "output_type": "stream",
          "name": "stdout",
          "text": [
            "address_name\n",
            "Agra Cantt             200\n",
            "Amritsar Cantonment    200\n",
            "Anjanapura             200\n",
            "Arjun Nagar            200\n",
            "Baba Phoola Singh      200\n",
            "                      ... \n",
            "West Tambaram          200\n",
            "Yeida                  200\n",
            "Yeshwantpur            200\n",
            "dwarka sector 17       200\n",
            "laxmi nagar            200\n",
            "Name: address_name, Length: 154, dtype: int64\n"
          ]
        }
      ]
    },
    {
      "cell_type": "code",
      "metadata": {
        "colab": {
          "base_uri": "https://localhost:8080/"
        },
        "id": "aQGWRcUIheI7",
        "outputId": "7b43a573-06e1-49ea-91ef-9372939d6cfa"
      },
      "source": [
        "df2.groupby('city')['city'].agg('count')"
      ],
      "execution_count": null,
      "outputs": [
        {
          "output_type": "execute_result",
          "data": {
            "text/plain": [
              "city\n",
              "agra         4000\n",
              "ahemdabad    4000\n",
              "amritsar     4000\n",
              "banglore     4000\n",
              "chennai      4000\n",
              "delhi        4000\n",
              "hyderabad    4000\n",
              "lucknow      4000\n",
              "mumbai       4000\n",
              "noida        4000\n",
              "Name: city, dtype: int64"
            ]
          },
          "metadata": {},
          "execution_count": 54
        }
      ]
    },
    {
      "cell_type": "code",
      "metadata": {
        "id": "jZvDJ9CmkRbu"
      },
      "source": [
        "cities=df2.city.unique()"
      ],
      "execution_count": null,
      "outputs": []
    },
    {
      "cell_type": "code",
      "metadata": {
        "id": "vpcKPfZUh0qc"
      },
      "source": [
        "for city in cities:\n",
        "   df3=df2[df2['city']==city]['address_name']\n",
        "   df3=df3.unique()\n",
        "   df3=pd.DataFrame(df3)\n",
        "  #  df3.to_csv('/content/cityWiseData/'+city+\"Unique.csv\")\n",
        "\n",
        "df5=df2.copy()\n",
        "df6=df2.copy()\n"
      ],
      "execution_count": null,
      "outputs": []
    },
    {
      "cell_type": "markdown",
      "metadata": {
        "id": "DJgPU6MMo23Z"
      },
      "source": [
        "TRYING REGRESSION"
      ]
    },
    {
      "cell_type": "code",
      "metadata": {
        "id": "aFz0nI_qrCBI"
      },
      "source": [
        "from sklearn.model_selection import train_test_split\n",
        "# y=df3['address_price']\n",
        "# X=df3.drop('address_price',axis=\"columns\")\n",
        "# X_train, X_test, y_train, y_test = train_test_split(X, y, test_size=0.30, random_state=10)"
      ],
      "execution_count": null,
      "outputs": []
    },
    {
      "cell_type": "code",
      "metadata": {
        "id": "P_HVlGHd1F7_"
      },
      "source": [],
      "execution_count": null,
      "outputs": []
    },
    {
      "cell_type": "code",
      "metadata": {
        "id": "Za-bJmVWpjEz"
      },
      "source": [
        "from sklearn.model_selection import ShuffleSplit\n",
        "from sklearn.model_selection import cross_val_score\n",
        "# cv = ShuffleSplit(n_splits=4, test_size=0.25, random_state=0) \n",
        "# cross_val_score(LinearRegression(), X,y, cv=cv)"
      ],
      "execution_count": null,
      "outputs": []
    },
    {
      "cell_type": "code",
      "metadata": {
        "id": "zsKiQuvPsQ-k"
      },
      "source": [
        "from sklearn.tree import DecisionTreeRegressor\n",
        "\n",
        "# dr=DecisionTreeRegressor(criterion='mae', splitter='best',)\n",
        "# dr.fit(X_train,y_train)\n",
        "\n",
        "# dr.score(X_test,y_test)"
      ],
      "execution_count": null,
      "outputs": []
    },
    {
      "cell_type": "code",
      "metadata": {
        "id": "3H1d9P87ysIG"
      },
      "source": [
        "from sklearn import preprocessing\n",
        "label_encoder = preprocessing.LabelEncoder()"
      ],
      "execution_count": null,
      "outputs": []
    },
    {
      "cell_type": "code",
      "metadata": {
        "id": "mLkvCMPeyuYm"
      },
      "source": [
        "from sklearn.preprocessing import MinMaxScaler"
      ],
      "execution_count": null,
      "outputs": []
    },
    {
      "cell_type": "code",
      "metadata": {
        "id": "q1oc7IPfzMaB"
      },
      "source": [
        "temp2= label_encoder.fit_transform(df5['address_name'])\n",
        "temp1=label_encoder.inverse_transform(temp2)\n",
        "df5['address_name']=temp2"
      ],
      "execution_count": null,
      "outputs": []
    },
    {
      "cell_type": "code",
      "metadata": {
        "colab": {
          "base_uri": "https://localhost:8080/"
        },
        "id": "d_62CuvRFKtw",
        "outputId": "92be86e5-d9b9-4a02-9c9b-57d825554688"
      },
      "source": [
        "print(temp1)\n",
        "print(temp2)\n",
        "address_dict={}\n",
        "i=0\n",
        "for city in temp1:\n",
        "    address_dict[city]=temp2[i]\n",
        "    i+=1\n",
        "\n",
        "print(address_dict)\n",
        "    "
      ],
      "execution_count": null,
      "outputs": [
        {
          "output_type": "stream",
          "name": "stdout",
          "text": [
            "['Mangrouli' 'Rakabganj' 'Baroli Ahir' ... 'Sanath Nagar' 'Banjara Hills'\n",
            " 'Tellapur']\n",
            "[ 67  91   9 ...  97   8 126]\n",
            "{'Mangrouli': 67, 'Rakabganj': 91, 'Baroli Ahir': 9, 'New Suraksha Vihar Phase 2': 83, 'Arjun Nagar': 3, 'Dayal Bagh': 23, 'Kamla Nagar': 50, 'Sewla Jatt': 116, 'Rohta': 95, 'Agra Cantt': 0, 'Sector 143B': 103, 'Sector 150': 104, 'Sector 78': 110, 'Sector 36': 107, 'Sector 82': 112, 'Sector 143': 102, 'Sector 128': 101, 'Sector 92': 113, 'Sector 22D Yamuna Expressway': 106, 'Sector 62': 108, 'Sector 93': 114, 'Sector 110': 100, 'Sector 167': 105, 'Sector 74': 109, 'Yeida': 150, 'Ellisbridge': 29, 'Vatva': 144, 'Ranip': 92, 'Tragad': 132, 'Gota': 35, 'Kasindra': 53, 'Chanakyapuri': 16, 'Navrangpura': 82, 'Bavla': 10, 'Vastral': 143, 'Chandkheda': 17, 'Wadaj': 148, 'Bopal': 13, 'Shela': 119, 'Changodar': 18, 'Maninagar': 69, 'Vasant Kunj': 141, 'Mehrauli': 72, 'Tughlakabad': 133, 'Dwarka Sector 15': 28, 'Greater Kailash': 37, 'dwarka sector 17': 152, 'laxmi nagar': 153, 'Uttam Nagar': 137, 'Sector 8 Rohini': 111, 'Najafgarh': 78, 'Shahdara': 117, 'Paschim Vihar': 87, 'Patel Nagar': 88, 'Sector-B Vasant Kunj': 115, 'Hari Nagar': 44, 'Dwarka Mor': 27, 'Tilak Nagar': 130, 'Thaiyur': 127, 'Sholinganallur': 121, 'Mugalivakkam': 76, 'Gowrivakkam': 36, 'Padur': 85, 'Guduvancheri': 39, 'West Tambaram': 149, 'Vanagaram': 140, 'Besant Nagar': 11, 'Perumbakkam': 89, 'Kandigai': 51, 'Chromepet': 22, 'Perungalathur': 90, 'Valasaravakkam': 138, 'Thiruporur': 129, 'Kelambakkam': 54, 'Tiruvottiyur': 131, 'Singaperumal Koil': 122, 'Urapakkam': 136, 'Narayanaghatta': 80, 'Jakkur': 49, 'Subramanyapura': 123, 'Sarjapur': 98, 'Bilekahalli': 12, 'Krishnarajapura': 59, 'JP Nagar Phase 9': 48, 'Yeshwantpur': 151, 'Kengeri': 55, 'Hoskote': 47, 'Kogilu': 57, 'Devanahalli': 24, 'Brookefield': 15, 'Anjanapura': 2, 'Hebbal': 46, 'Gunjur': 41, 'Amritsar Cantonment': 1, 'Ranjit Avenue': 93, 'Meerankot Road': 71, 'Loharka road': 61, 'Mahal': 62, 'Mirankot Road': 74, 'G T Road': 30, 'Gumtala': 40, 'Verka': 145, 'Green Field Colony': 38, 'Sultanwind': 124, 'Vallah': 139, 'MajithaVerka By Pass': 63, 'Baba Phoola Singh': 4, 'Nanngli': 79, 'Diva': 25, 'Panvel': 86, 'Mira Road East': 73, 'Virar': 146, 'Dronagiri': 26, 'Vashi': 142, 'Ulwe': 135, 'Karjat': 52, 'Goregaon East': 34, 'Borivali East': 14, 'Nilje Gaon': 84, 'Ghatkopar West': 32, 'Malad East': 64, 'Mulund West': 77, 'Rasayani': 94, 'Thane West': 128, 'Chembur': 20, 'Ghatkopar East': 31, 'Uattardhona': 134, 'Sushant Golf City': 125, 'Vrindavan Yojna': 147, 'Mohanlalganj': 75, 'Gomti Nagar': 33, 'Matiyari': 70, 'Haibat Mau Mawaiya': 43, 'Guramba': 42, 'Bakkas': 6, 'Sarojini Nagar': 99, 'Sainikpuri': 96, 'Shamshabad': 118, 'Manikonda': 68, 'Kismatpur': 56, 'Bachupally': 5, 'Chengicherla': 21, 'LB Nagar': 60, 'Narsingi': 81, 'Hayathnagar': 45, 'Manchirevula': 66, 'Bandlaguda Jagir': 7, 'Mallampet': 65, 'Kollur': 58, 'Sheriguda': 120, 'Cheeriyal': 19, 'Sanath Nagar': 97, 'Banjara Hills': 8, 'Tellapur': 126}\n"
          ]
        }
      ]
    },
    {
      "cell_type": "code",
      "metadata": {
        "colab": {
          "base_uri": "https://localhost:8080/"
        },
        "id": "7pltGpXr0eMP",
        "outputId": "ee9c9fef-1e49-4d85-e3df-e732cb678d44"
      },
      "source": [
        "# df5=df5[df5.city!='banglore']\n",
        "\n",
        "\n",
        "temp2= label_encoder.fit_transform(df5['city'])\n",
        "temp1=label_encoder.inverse_transform(temp2)\n",
        "df5['city']=temp2\n",
        "\n",
        "city_check={}\n",
        "i=0\n",
        "for city in temp1:\n",
        "    city_check[city]=temp2[i]\n",
        "    i+=1\n",
        "\n",
        "print(city_check)\n",
        "\n",
        "\n",
        "y=df5['address_price']\n",
        "# df5=df5.drop('address_builder',axis='columns')\n",
        "df5=df5.drop('address_price',axis='columns')\n",
        "# column='address_areaSQFT'\n",
        "# df5[column] = MinMaxScaler().fit_transform(np.array(df5[column]).reshape(-1,1))\n",
        "X=df5\n",
        "X1=df5\n",
        "Y1=y"
      ],
      "execution_count": null,
      "outputs": [
        {
          "output_type": "stream",
          "name": "stdout",
          "text": [
            "{'agra': 0, 'noida': 9, 'ahemdabad': 1, 'delhi': 5, 'chennai': 4, 'banglore': 3, 'amritsar': 2, 'mumbai': 8, 'lucknow': 7, 'hyderabad': 6}\n"
          ]
        }
      ]
    },
    {
      "cell_type": "code",
      "metadata": {
        "colab": {
          "base_uri": "https://localhost:8080/"
        },
        "id": "pAloXpsn1wVI",
        "outputId": "2acb4e9d-2af7-4ce4-bfb5-e29602c67333"
      },
      "source": [
        "temp2= label_encoder.fit_transform(df5['address_type'])\n",
        "temp1=label_encoder.inverse_transform(temp2)\n",
        "df5['address_type']=temp2\n",
        "\n",
        "address_type_check={}\n",
        "i=0\n",
        "for city in temp1:\n",
        "    address_type_check[city]=temp2[i]\n",
        "    i+=1\n",
        "\n",
        "print(address_type_check)"
      ],
      "execution_count": null,
      "outputs": [
        {
          "output_type": "stream",
          "name": "stdout",
          "text": [
            "{'Apartment': 0, 'Independent House': 2, 'Studio Apartment': 3, 'Villa': 4, 'Independent Floor': 1}\n"
          ]
        }
      ]
    },
    {
      "cell_type": "code",
      "metadata": {
        "colab": {
          "base_uri": "https://localhost:8080/"
        },
        "id": "Cvu1tnz4maos",
        "outputId": "8216e0a4-baa7-4ecc-b997-ad5537098b53"
      },
      "source": [
        "print(Y1)"
      ],
      "execution_count": null,
      "outputs": [
        {
          "output_type": "stream",
          "name": "stdout",
          "text": [
            "0         14.00\n",
            "1        300.00\n",
            "2         35.00\n",
            "3         31.50\n",
            "4        139.00\n",
            "          ...  \n",
            "39995     45.09\n",
            "39996    275.00\n",
            "39997    124.00\n",
            "39998    239.00\n",
            "39999    116.00\n",
            "Name: address_price, Length: 40000, dtype: float64\n"
          ]
        }
      ]
    },
    {
      "cell_type": "code",
      "metadata": {
        "id": "graAm0Oa0eS0"
      },
      "source": [
        "X_train, X_test, y_train, y_test = train_test_split(X, y, test_size=0.30, random_state=10)\n",
        "dr=DecisionTreeRegressor(criterion='mae', splitter='best',)\n",
        "dr.fit(X_train,y_train)\n",
        "dr.score(X_test,y_test)"
      ],
      "execution_count": null,
      "outputs": []
    },
    {
      "cell_type": "code",
      "metadata": {
        "colab": {
          "base_uri": "https://localhost:8080/",
          "height": 417
        },
        "id": "dMCFUdmfNFOX",
        "outputId": "473bc0b2-066c-4a69-caeb-4a9cdf4182e5"
      },
      "source": [
        "X_train"
      ],
      "execution_count": null,
      "outputs": [
        {
          "output_type": "execute_result",
          "data": {
            "text/html": [
              "<div>\n",
              "<style scoped>\n",
              "    .dataframe tbody tr th:only-of-type {\n",
              "        vertical-align: middle;\n",
              "    }\n",
              "\n",
              "    .dataframe tbody tr th {\n",
              "        vertical-align: top;\n",
              "    }\n",
              "\n",
              "    .dataframe thead th {\n",
              "        text-align: right;\n",
              "    }\n",
              "</style>\n",
              "<table border=\"1\" class=\"dataframe\">\n",
              "  <thead>\n",
              "    <tr style=\"text-align: right;\">\n",
              "      <th></th>\n",
              "      <th>address_name</th>\n",
              "      <th>address_areaSQFT</th>\n",
              "      <th>address_bhk</th>\n",
              "      <th>address_type</th>\n",
              "      <th>city</th>\n",
              "    </tr>\n",
              "  </thead>\n",
              "  <tbody>\n",
              "    <tr>\n",
              "      <th>33113</th>\n",
              "      <td>147</td>\n",
              "      <td>1425</td>\n",
              "      <td>3.0</td>\n",
              "      <td>0</td>\n",
              "      <td>7</td>\n",
              "    </tr>\n",
              "    <tr>\n",
              "      <th>23268</th>\n",
              "      <td>55</td>\n",
              "      <td>1670</td>\n",
              "      <td>3.0</td>\n",
              "      <td>0</td>\n",
              "      <td>3</td>\n",
              "    </tr>\n",
              "    <tr>\n",
              "      <th>25562</th>\n",
              "      <td>93</td>\n",
              "      <td>850</td>\n",
              "      <td>2.0</td>\n",
              "      <td>0</td>\n",
              "      <td>2</td>\n",
              "    </tr>\n",
              "    <tr>\n",
              "      <th>28539</th>\n",
              "      <td>31</td>\n",
              "      <td>686</td>\n",
              "      <td>2.0</td>\n",
              "      <td>0</td>\n",
              "      <td>8</td>\n",
              "    </tr>\n",
              "    <tr>\n",
              "      <th>7419</th>\n",
              "      <td>150</td>\n",
              "      <td>450</td>\n",
              "      <td>3.0</td>\n",
              "      <td>0</td>\n",
              "      <td>9</td>\n",
              "    </tr>\n",
              "    <tr>\n",
              "      <th>...</th>\n",
              "      <td>...</td>\n",
              "      <td>...</td>\n",
              "      <td>...</td>\n",
              "      <td>...</td>\n",
              "      <td>...</td>\n",
              "    </tr>\n",
              "    <tr>\n",
              "      <th>10201</th>\n",
              "      <td>144</td>\n",
              "      <td>1296</td>\n",
              "      <td>2.0</td>\n",
              "      <td>0</td>\n",
              "      <td>1</td>\n",
              "    </tr>\n",
              "    <tr>\n",
              "      <th>9372</th>\n",
              "      <td>148</td>\n",
              "      <td>1836</td>\n",
              "      <td>3.0</td>\n",
              "      <td>0</td>\n",
              "      <td>1</td>\n",
              "    </tr>\n",
              "    <tr>\n",
              "      <th>28017</th>\n",
              "      <td>128</td>\n",
              "      <td>301</td>\n",
              "      <td>1.0</td>\n",
              "      <td>0</td>\n",
              "      <td>8</td>\n",
              "    </tr>\n",
              "    <tr>\n",
              "      <th>29199</th>\n",
              "      <td>31</td>\n",
              "      <td>686</td>\n",
              "      <td>2.0</td>\n",
              "      <td>0</td>\n",
              "      <td>8</td>\n",
              "    </tr>\n",
              "    <tr>\n",
              "      <th>17673</th>\n",
              "      <td>138</td>\n",
              "      <td>1513</td>\n",
              "      <td>3.0</td>\n",
              "      <td>0</td>\n",
              "      <td>4</td>\n",
              "    </tr>\n",
              "  </tbody>\n",
              "</table>\n",
              "<p>28000 rows × 5 columns</p>\n",
              "</div>"
            ],
            "text/plain": [
              "       address_name  address_areaSQFT  address_bhk  address_type  city\n",
              "33113           147              1425          3.0             0     7\n",
              "23268            55              1670          3.0             0     3\n",
              "25562            93               850          2.0             0     2\n",
              "28539            31               686          2.0             0     8\n",
              "7419            150               450          3.0             0     9\n",
              "...             ...               ...          ...           ...   ...\n",
              "10201           144              1296          2.0             0     1\n",
              "9372            148              1836          3.0             0     1\n",
              "28017           128               301          1.0             0     8\n",
              "29199            31               686          2.0             0     8\n",
              "17673           138              1513          3.0             0     4\n",
              "\n",
              "[28000 rows x 5 columns]"
            ]
          },
          "metadata": {},
          "execution_count": 69
        }
      ]
    },
    {
      "cell_type": "code",
      "metadata": {
        "colab": {
          "base_uri": "https://localhost:8080/"
        },
        "id": "I-Yvp8jR5gev",
        "outputId": "77f2f74c-6ea5-4de9-c089-805c15534d93"
      },
      "source": [
        "df5.city.unique()"
      ],
      "execution_count": null,
      "outputs": [
        {
          "output_type": "execute_result",
          "data": {
            "text/plain": [
              "array([0, 9, 1, 5, 4, 3, 2, 8, 7, 6])"
            ]
          },
          "metadata": {},
          "execution_count": 70
        }
      ]
    },
    {
      "cell_type": "code",
      "metadata": {
        "colab": {
          "base_uri": "https://localhost:8080/",
          "height": 417
        },
        "id": "rNrcOWwx7o_b",
        "outputId": "2563cf30-9306-4db3-b7de-2bb0f91f3621"
      },
      "source": [
        "df5"
      ],
      "execution_count": null,
      "outputs": [
        {
          "output_type": "execute_result",
          "data": {
            "text/html": [
              "<div>\n",
              "<style scoped>\n",
              "    .dataframe tbody tr th:only-of-type {\n",
              "        vertical-align: middle;\n",
              "    }\n",
              "\n",
              "    .dataframe tbody tr th {\n",
              "        vertical-align: top;\n",
              "    }\n",
              "\n",
              "    .dataframe thead th {\n",
              "        text-align: right;\n",
              "    }\n",
              "</style>\n",
              "<table border=\"1\" class=\"dataframe\">\n",
              "  <thead>\n",
              "    <tr style=\"text-align: right;\">\n",
              "      <th></th>\n",
              "      <th>address_name</th>\n",
              "      <th>address_areaSQFT</th>\n",
              "      <th>address_bhk</th>\n",
              "      <th>address_type</th>\n",
              "      <th>city</th>\n",
              "    </tr>\n",
              "  </thead>\n",
              "  <tbody>\n",
              "    <tr>\n",
              "      <th>0</th>\n",
              "      <td>67</td>\n",
              "      <td>891</td>\n",
              "      <td>3.0</td>\n",
              "      <td>0</td>\n",
              "      <td>0</td>\n",
              "    </tr>\n",
              "    <tr>\n",
              "      <th>1</th>\n",
              "      <td>91</td>\n",
              "      <td>4400</td>\n",
              "      <td>5.0</td>\n",
              "      <td>2</td>\n",
              "      <td>0</td>\n",
              "    </tr>\n",
              "    <tr>\n",
              "      <th>2</th>\n",
              "      <td>9</td>\n",
              "      <td>1232</td>\n",
              "      <td>3.0</td>\n",
              "      <td>0</td>\n",
              "      <td>0</td>\n",
              "    </tr>\n",
              "    <tr>\n",
              "      <th>3</th>\n",
              "      <td>83</td>\n",
              "      <td>890</td>\n",
              "      <td>3.0</td>\n",
              "      <td>2</td>\n",
              "      <td>0</td>\n",
              "    </tr>\n",
              "    <tr>\n",
              "      <th>4</th>\n",
              "      <td>3</td>\n",
              "      <td>2250</td>\n",
              "      <td>6.0</td>\n",
              "      <td>2</td>\n",
              "      <td>0</td>\n",
              "    </tr>\n",
              "    <tr>\n",
              "      <th>...</th>\n",
              "      <td>...</td>\n",
              "      <td>...</td>\n",
              "      <td>...</td>\n",
              "      <td>...</td>\n",
              "      <td>...</td>\n",
              "    </tr>\n",
              "    <tr>\n",
              "      <th>39995</th>\n",
              "      <td>19</td>\n",
              "      <td>1503</td>\n",
              "      <td>3.0</td>\n",
              "      <td>0</td>\n",
              "      <td>6</td>\n",
              "    </tr>\n",
              "    <tr>\n",
              "      <th>39996</th>\n",
              "      <td>118</td>\n",
              "      <td>3800</td>\n",
              "      <td>5.0</td>\n",
              "      <td>4</td>\n",
              "      <td>6</td>\n",
              "    </tr>\n",
              "    <tr>\n",
              "      <th>39997</th>\n",
              "      <td>97</td>\n",
              "      <td>2294</td>\n",
              "      <td>3.0</td>\n",
              "      <td>0</td>\n",
              "      <td>6</td>\n",
              "    </tr>\n",
              "    <tr>\n",
              "      <th>39998</th>\n",
              "      <td>8</td>\n",
              "      <td>2085</td>\n",
              "      <td>3.0</td>\n",
              "      <td>0</td>\n",
              "      <td>6</td>\n",
              "    </tr>\n",
              "    <tr>\n",
              "      <th>39999</th>\n",
              "      <td>126</td>\n",
              "      <td>1935</td>\n",
              "      <td>3.0</td>\n",
              "      <td>0</td>\n",
              "      <td>6</td>\n",
              "    </tr>\n",
              "  </tbody>\n",
              "</table>\n",
              "<p>40000 rows × 5 columns</p>\n",
              "</div>"
            ],
            "text/plain": [
              "       address_name  address_areaSQFT  address_bhk  address_type  city\n",
              "0                67               891          3.0             0     0\n",
              "1                91              4400          5.0             2     0\n",
              "2                 9              1232          3.0             0     0\n",
              "3                83               890          3.0             2     0\n",
              "4                 3              2250          6.0             2     0\n",
              "...             ...               ...          ...           ...   ...\n",
              "39995            19              1503          3.0             0     6\n",
              "39996           118              3800          5.0             4     6\n",
              "39997            97              2294          3.0             0     6\n",
              "39998             8              2085          3.0             0     6\n",
              "39999           126              1935          3.0             0     6\n",
              "\n",
              "[40000 rows x 5 columns]"
            ]
          },
          "metadata": {},
          "execution_count": 71
        }
      ]
    },
    {
      "cell_type": "code",
      "metadata": {
        "id": "nrXdE9fi7jx5"
      },
      "source": [
        "from sklearn.preprocessing import MinMaxScaler\n",
        "import numpy as np\n",
        "\n",
        "df_sklearn = df5.copy()\n",
        "# column = 'address_name'\n",
        "# df_sklearn[column] = MinMaxScaler().fit_transform(np.array(df_sklearn[column]).reshape(-1,1))\n",
        "\n",
        "# column = 'address_areaSQFT'\n",
        "# df_sklearn[column] = MinMaxScaler().fit_transform(np.array(df_sklearn[column]).reshape(-1,1))\n",
        "\n",
        "# column = 'address_bhk'\n",
        "# df_sklearn[column] = MinMaxScaler().fit_transform(np.array(df_sklearn[column]).reshape(-1,1))\n",
        "\n",
        "\n",
        "X=df_sklearn\n",
        "X_train, X_test, y_train, y_test = train_test_split(X, y, test_size=0.30, random_state=10)\n",
        "\n",
        " \n"
      ],
      "execution_count": null,
      "outputs": []
    },
    {
      "cell_type": "code",
      "metadata": {
        "id": "BRpW2OIw8LEW"
      },
      "source": [
        "y_pred=dr.predict(X_test)\n",
        "for i in range (0,len(y_pred)):\n",
        "     print(y_pred[i])"
      ],
      "execution_count": null,
      "outputs": []
    },
    {
      "cell_type": "code",
      "metadata": {
        "colab": {
          "base_uri": "https://localhost:8080/"
        },
        "id": "05PLxYvU9JuO",
        "outputId": "11da3119-4c2a-491f-9f1f-20ead21c35ec"
      },
      "source": [
        "print(cities)"
      ],
      "execution_count": null,
      "outputs": [
        {
          "output_type": "stream",
          "name": "stdout",
          "text": [
            "['agra' 'noida' 'ahemdabad' 'delhi' 'chennai' 'banglore' 'amritsar'\n",
            " 'mumbai' 'lucknow' 'hyderabad']\n"
          ]
        }
      ]
    },
    {
      "cell_type": "code",
      "metadata": {
        "colab": {
          "base_uri": "https://localhost:8080/",
          "height": 417
        },
        "id": "zdnrXJdlD0bO",
        "outputId": "0501573a-a1a9-4bcf-e84c-5342536d4c0b"
      },
      "source": [
        "df6"
      ],
      "execution_count": null,
      "outputs": [
        {
          "output_type": "execute_result",
          "data": {
            "text/html": [
              "<div>\n",
              "<style scoped>\n",
              "    .dataframe tbody tr th:only-of-type {\n",
              "        vertical-align: middle;\n",
              "    }\n",
              "\n",
              "    .dataframe tbody tr th {\n",
              "        vertical-align: top;\n",
              "    }\n",
              "\n",
              "    .dataframe thead th {\n",
              "        text-align: right;\n",
              "    }\n",
              "</style>\n",
              "<table border=\"1\" class=\"dataframe\">\n",
              "  <thead>\n",
              "    <tr style=\"text-align: right;\">\n",
              "      <th></th>\n",
              "      <th>address_name</th>\n",
              "      <th>address_price</th>\n",
              "      <th>address_areaSQFT</th>\n",
              "      <th>address_bhk</th>\n",
              "      <th>address_type</th>\n",
              "      <th>city</th>\n",
              "    </tr>\n",
              "  </thead>\n",
              "  <tbody>\n",
              "    <tr>\n",
              "      <th>0</th>\n",
              "      <td>Mangrouli</td>\n",
              "      <td>14.00</td>\n",
              "      <td>891</td>\n",
              "      <td>3.0</td>\n",
              "      <td>Apartment</td>\n",
              "      <td>agra</td>\n",
              "    </tr>\n",
              "    <tr>\n",
              "      <th>1</th>\n",
              "      <td>Rakabganj</td>\n",
              "      <td>300.00</td>\n",
              "      <td>4400</td>\n",
              "      <td>5.0</td>\n",
              "      <td>Independent House</td>\n",
              "      <td>agra</td>\n",
              "    </tr>\n",
              "    <tr>\n",
              "      <th>2</th>\n",
              "      <td>Baroli Ahir</td>\n",
              "      <td>35.00</td>\n",
              "      <td>1232</td>\n",
              "      <td>3.0</td>\n",
              "      <td>Apartment</td>\n",
              "      <td>agra</td>\n",
              "    </tr>\n",
              "    <tr>\n",
              "      <th>3</th>\n",
              "      <td>New Suraksha Vihar Phase 2</td>\n",
              "      <td>31.50</td>\n",
              "      <td>890</td>\n",
              "      <td>3.0</td>\n",
              "      <td>Independent House</td>\n",
              "      <td>agra</td>\n",
              "    </tr>\n",
              "    <tr>\n",
              "      <th>4</th>\n",
              "      <td>Arjun Nagar</td>\n",
              "      <td>139.00</td>\n",
              "      <td>2250</td>\n",
              "      <td>6.0</td>\n",
              "      <td>Independent House</td>\n",
              "      <td>agra</td>\n",
              "    </tr>\n",
              "    <tr>\n",
              "      <th>...</th>\n",
              "      <td>...</td>\n",
              "      <td>...</td>\n",
              "      <td>...</td>\n",
              "      <td>...</td>\n",
              "      <td>...</td>\n",
              "      <td>...</td>\n",
              "    </tr>\n",
              "    <tr>\n",
              "      <th>39995</th>\n",
              "      <td>Cheeriyal</td>\n",
              "      <td>45.09</td>\n",
              "      <td>1503</td>\n",
              "      <td>3.0</td>\n",
              "      <td>Apartment</td>\n",
              "      <td>hyderabad</td>\n",
              "    </tr>\n",
              "    <tr>\n",
              "      <th>39996</th>\n",
              "      <td>Shamshabad</td>\n",
              "      <td>275.00</td>\n",
              "      <td>3800</td>\n",
              "      <td>5.0</td>\n",
              "      <td>Villa</td>\n",
              "      <td>hyderabad</td>\n",
              "    </tr>\n",
              "    <tr>\n",
              "      <th>39997</th>\n",
              "      <td>Sanath Nagar</td>\n",
              "      <td>124.00</td>\n",
              "      <td>2294</td>\n",
              "      <td>3.0</td>\n",
              "      <td>Apartment</td>\n",
              "      <td>hyderabad</td>\n",
              "    </tr>\n",
              "    <tr>\n",
              "      <th>39998</th>\n",
              "      <td>Banjara Hills</td>\n",
              "      <td>239.00</td>\n",
              "      <td>2085</td>\n",
              "      <td>3.0</td>\n",
              "      <td>Apartment</td>\n",
              "      <td>hyderabad</td>\n",
              "    </tr>\n",
              "    <tr>\n",
              "      <th>39999</th>\n",
              "      <td>Tellapur</td>\n",
              "      <td>116.00</td>\n",
              "      <td>1935</td>\n",
              "      <td>3.0</td>\n",
              "      <td>Apartment</td>\n",
              "      <td>hyderabad</td>\n",
              "    </tr>\n",
              "  </tbody>\n",
              "</table>\n",
              "<p>40000 rows × 6 columns</p>\n",
              "</div>"
            ],
            "text/plain": [
              "                     address_name  address_price  ...       address_type       city\n",
              "0                       Mangrouli          14.00  ...          Apartment       agra\n",
              "1                       Rakabganj         300.00  ...  Independent House       agra\n",
              "2                     Baroli Ahir          35.00  ...          Apartment       agra\n",
              "3      New Suraksha Vihar Phase 2          31.50  ...  Independent House       agra\n",
              "4                     Arjun Nagar         139.00  ...  Independent House       agra\n",
              "...                           ...            ...  ...                ...        ...\n",
              "39995                   Cheeriyal          45.09  ...          Apartment  hyderabad\n",
              "39996                  Shamshabad         275.00  ...              Villa  hyderabad\n",
              "39997                Sanath Nagar         124.00  ...          Apartment  hyderabad\n",
              "39998               Banjara Hills         239.00  ...          Apartment  hyderabad\n",
              "39999                    Tellapur         116.00  ...          Apartment  hyderabad\n",
              "\n",
              "[40000 rows x 6 columns]"
            ]
          },
          "metadata": {},
          "execution_count": 75
        }
      ]
    },
    {
      "cell_type": "code",
      "metadata": {
        "id": "vR5wdmQeBi8t"
      },
      "source": [
        "from sklearn.metrics import r2_score\n",
        "for city in cities:\n",
        "  print(city)\n",
        "  df7=df6[df6.city==city]\n",
        "  y=df7['address_price']\n",
        "  df7=df7.drop('address_price',axis='columns')\n",
        "  # df7=df7.drop('address_builder',axis='columns')\n",
        "  df7=df7.drop('city',axis='columns')\n",
        "  df7['address_name']= label_encoder.fit_transform(df7['address_name'])\n",
        "  X=df7\n",
        "  X_train, X_test, y_train, y_test = train_test_split(X, y, test_size=0.20, random_state=10)\n",
        "   "
      ],
      "execution_count": null,
      "outputs": []
    },
    {
      "cell_type": "code",
      "metadata": {
        "id": "elcxWVN0Q8Lf"
      },
      "source": [
        "X=X1\n",
        "y=Y1\n",
        "X_train, X_test, y_train, y_test = train_test_split(X, y, test_size=0.30, random_state=10)"
      ],
      "execution_count": null,
      "outputs": []
    },
    {
      "cell_type": "code",
      "metadata": {
        "id": "DwgW-bAzQ2aV",
        "colab": {
          "base_uri": "https://localhost:8080/"
        },
        "outputId": "ac9d2867-5754-4d5b-a1cb-f10dcf92313f"
      },
      "source": [
        "from sklearn.model_selection import ShuffleSplit\n",
        "from sklearn.linear_model import LinearRegression\n",
        "from sklearn.model_selection import cross_val_score\n",
        "from sklearn.metrics import mean_squared_error\n",
        "cv = ShuffleSplit(n_splits=4, test_size=0.30, random_state=0) \n",
        "cross_val_score(DecisionTreeRegressor(), X,y, cv=cv)\n"
      ],
      "execution_count": null,
      "outputs": [
        {
          "output_type": "execute_result",
          "data": {
            "text/plain": [
              "array([0.99997823, 0.9999774 , 0.99997686, 0.99997395])"
            ]
          },
          "metadata": {},
          "execution_count": 78
        }
      ]
    },
    {
      "cell_type": "code",
      "metadata": {
        "id": "XvForyd5RTpY",
        "colab": {
          "base_uri": "https://localhost:8080/"
        },
        "outputId": "8072e4c3-8418-48ec-a025-c22d2c90e5d0"
      },
      "source": [
        "dr=LinearRegression()\n",
        "dr.fit(X_train,y_train)\n",
        "\n",
        "dr.score(X_test,y_test)"
      ],
      "execution_count": null,
      "outputs": [
        {
          "output_type": "execute_result",
          "data": {
            "text/plain": [
              "0.20615929174839354"
            ]
          },
          "metadata": {},
          "execution_count": 79
        }
      ]
    },
    {
      "cell_type": "code",
      "metadata": {
        "id": "3a3EFG_yWBrN",
        "colab": {
          "base_uri": "https://localhost:8080/"
        },
        "outputId": "6899c71c-bf1c-419c-c47c-23154e1cafa4"
      },
      "source": [
        "y_pred=dr.predict(X_test)\n",
        "errors = mean_squared_error(y_test,y_pred)\n",
        "print(errors)"
      ],
      "execution_count": null,
      "outputs": [
        {
          "output_type": "stream",
          "name": "stdout",
          "text": [
            "4905.4799545933265\n"
          ]
        }
      ]
    },
    {
      "cell_type": "code",
      "metadata": {
        "id": "Bq8yNh0nZEIn",
        "colab": {
          "base_uri": "https://localhost:8080/"
        },
        "outputId": "07cfa820-7838-4ca8-b169-9b9ac523afbb"
      },
      "source": [
        "from sklearn.metrics import mean_absolute_error\n",
        "print(\"MAE\",mean_absolute_error(y_test,y_pred))"
      ],
      "execution_count": null,
      "outputs": [
        {
          "output_type": "stream",
          "name": "stdout",
          "text": [
            "MAE 41.68410889752497\n"
          ]
        }
      ]
    },
    {
      "cell_type": "code",
      "metadata": {
        "id": "AHe_o46YZGeu",
        "colab": {
          "base_uri": "https://localhost:8080/"
        },
        "outputId": "ee0ed508-58c8-49c8-a805-b05074c504e4"
      },
      "source": [
        "from sklearn.metrics import r2_score\n",
        "r2 = r2_score(y_test,y_pred)\n",
        "print(r2)"
      ],
      "execution_count": null,
      "outputs": [
        {
          "output_type": "stream",
          "name": "stdout",
          "text": [
            "0.20615929174839354\n"
          ]
        }
      ]
    },
    {
      "cell_type": "code",
      "metadata": {
        "id": "n0hGM3UNRbsQ",
        "colab": {
          "base_uri": "https://localhost:8080/"
        },
        "outputId": "7ffae90d-7067-4f07-c489-3860af57ce01"
      },
      "source": [
        "y_train"
      ],
      "execution_count": null,
      "outputs": [
        {
          "output_type": "execute_result",
          "data": {
            "text/plain": [
              "33113     74.92\n",
              "23268     83.50\n",
              "25562     15.00\n",
              "28539    168.00\n",
              "7419      11.49\n",
              "          ...  \n",
              "10201     25.50\n",
              "9372      85.66\n",
              "28017     39.99\n",
              "29199    168.00\n",
              "17673    120.00\n",
              "Name: address_price, Length: 28000, dtype: float64"
            ]
          },
          "metadata": {},
          "execution_count": 83
        }
      ]
    },
    {
      "cell_type": "code",
      "metadata": {
        "id": "WjViLt6f4nuN",
        "colab": {
          "base_uri": "https://localhost:8080/"
        },
        "outputId": "3ba3f695-4d85-4463-d901-8d935920790c"
      },
      "source": [
        "from sklearn.linear_model import Ridge\n",
        "dr=Ridge()\n",
        "dr.fit(X_train,y_train)\n",
        "dr.score(X_test,y_test)"
      ],
      "execution_count": null,
      "outputs": [
        {
          "output_type": "execute_result",
          "data": {
            "text/plain": [
              "0.20615928438914166"
            ]
          },
          "metadata": {},
          "execution_count": 84
        }
      ]
    },
    {
      "cell_type": "code",
      "metadata": {
        "id": "TNOjE-WY6gIS",
        "colab": {
          "base_uri": "https://localhost:8080/"
        },
        "outputId": "d50932da-78e0-4be4-80bc-1e1e5f5f42b4"
      },
      "source": [
        "from sklearn.ensemble import RandomForestClassifier\n",
        "dr=DecisionTreeRegressor(criterion='mae',splitter='random',max_depth=10)\n",
        "dr.fit(X_train,y_train)\n",
        "dr.score(X_test,y_test)"
      ],
      "execution_count": null,
      "outputs": [
        {
          "output_type": "stream",
          "name": "stderr",
          "text": [
            "/usr/local/lib/python3.7/dist-packages/sklearn/tree/_classes.py:370: FutureWarning: Criterion 'mae' was deprecated in v1.0 and will be removed in version 1.2. Use `criterion='absolute_error'` which is equivalent.\n",
            "  FutureWarning,\n"
          ]
        },
        {
          "output_type": "execute_result",
          "data": {
            "text/plain": [
              "0.787782040478136"
            ]
          },
          "metadata": {},
          "execution_count": 85
        }
      ]
    },
    {
      "cell_type": "code",
      "metadata": {
        "id": "KoMHl38fOyGf",
        "colab": {
          "base_uri": "https://localhost:8080/"
        },
        "outputId": "49b87254-686d-4f9e-d90b-8d874b55bfcc"
      },
      "source": [
        "cv = ShuffleSplit(n_splits=4, test_size=0.30, random_state=0) \n",
        "cross_val_score(DecisionTreeRegressor(criterion='mae',splitter='random',max_depth=10), X,y, cv=cv)"
      ],
      "execution_count": null,
      "outputs": [
        {
          "output_type": "stream",
          "name": "stderr",
          "text": [
            "/usr/local/lib/python3.7/dist-packages/sklearn/tree/_classes.py:370: FutureWarning: Criterion 'mae' was deprecated in v1.0 and will be removed in version 1.2. Use `criterion='absolute_error'` which is equivalent.\n",
            "  FutureWarning,\n",
            "/usr/local/lib/python3.7/dist-packages/sklearn/tree/_classes.py:370: FutureWarning: Criterion 'mae' was deprecated in v1.0 and will be removed in version 1.2. Use `criterion='absolute_error'` which is equivalent.\n",
            "  FutureWarning,\n",
            "/usr/local/lib/python3.7/dist-packages/sklearn/tree/_classes.py:370: FutureWarning: Criterion 'mae' was deprecated in v1.0 and will be removed in version 1.2. Use `criterion='absolute_error'` which is equivalent.\n",
            "  FutureWarning,\n",
            "/usr/local/lib/python3.7/dist-packages/sklearn/tree/_classes.py:370: FutureWarning: Criterion 'mae' was deprecated in v1.0 and will be removed in version 1.2. Use `criterion='absolute_error'` which is equivalent.\n",
            "  FutureWarning,\n"
          ]
        },
        {
          "output_type": "execute_result",
          "data": {
            "text/plain": [
              "array([0.93173986, 0.94729795, 0.95055976, 0.94811008])"
            ]
          },
          "metadata": {},
          "execution_count": 86
        }
      ]
    },
    {
      "cell_type": "code",
      "metadata": {
        "id": "A7z4We6jcEqt"
      },
      "source": [],
      "execution_count": null,
      "outputs": []
    },
    {
      "cell_type": "code",
      "metadata": {
        "id": "OJa1LP6w7jte",
        "colab": {
          "base_uri": "https://localhost:8080/"
        },
        "outputId": "363087a6-9d6c-476f-e23d-934b88fc4f74"
      },
      "source": [
        "from sklearn import svm\n",
        "dr=svm.SVR()\n",
        "dr.fit(X_train,y_train)\n",
        "dr.score(X_test,y_test)"
      ],
      "execution_count": null,
      "outputs": [
        {
          "output_type": "execute_result",
          "data": {
            "text/plain": [
              "0.23755342773536636"
            ]
          },
          "metadata": {},
          "execution_count": 87
        }
      ]
    },
    {
      "cell_type": "code",
      "metadata": {
        "id": "BzJB_b-T7wZZ",
        "colab": {
          "base_uri": "https://localhost:8080/"
        },
        "outputId": "24590dce-2826-40c8-e848-94465f893954"
      },
      "source": [
        "from sklearn import linear_model\n",
        "dr = linear_model.Lasso(alpha=0.1)\n",
        "dr.fit(X_train,y_train)\n",
        "dr.score(X_test,y_test)"
      ],
      "execution_count": null,
      "outputs": [
        {
          "output_type": "execute_result",
          "data": {
            "text/plain": [
              "0.2061581008081994"
            ]
          },
          "metadata": {},
          "execution_count": 88
        }
      ]
    },
    {
      "cell_type": "code",
      "metadata": {
        "id": "1zgEOpCQRyJy",
        "colab": {
          "base_uri": "https://localhost:8080/"
        },
        "outputId": "f84c673d-5f09-431e-e464-35bb8d06504d"
      },
      "source": [
        "!pip install xgboost\n",
        "!pip install lightgbm\n",
        "!pip install catboost\n",
        "from catboost import CatBoostRegressor\n",
        "from sklearn.ensemble import AdaBoostRegressor\n",
        "from sklearn.datasets import make_regression\n",
        "import xgboost\n",
        "import lightgbm as lgb"
      ],
      "execution_count": null,
      "outputs": [
        {
          "output_type": "stream",
          "name": "stdout",
          "text": [
            "Requirement already satisfied: xgboost in /usr/local/lib/python3.7/dist-packages (0.90)\n",
            "Requirement already satisfied: numpy in /usr/local/lib/python3.7/dist-packages (from xgboost) (1.19.5)\n",
            "Requirement already satisfied: scipy in /usr/local/lib/python3.7/dist-packages (from xgboost) (1.4.1)\n",
            "Requirement already satisfied: lightgbm in /usr/local/lib/python3.7/dist-packages (2.2.3)\n",
            "Requirement already satisfied: scipy in /usr/local/lib/python3.7/dist-packages (from lightgbm) (1.4.1)\n",
            "Requirement already satisfied: numpy in /usr/local/lib/python3.7/dist-packages (from lightgbm) (1.19.5)\n",
            "Requirement already satisfied: scikit-learn in /usr/local/lib/python3.7/dist-packages (from lightgbm) (1.0.1)\n",
            "Requirement already satisfied: joblib>=0.11 in /usr/local/lib/python3.7/dist-packages (from scikit-learn->lightgbm) (1.1.0)\n",
            "Requirement already satisfied: threadpoolctl>=2.0.0 in /usr/local/lib/python3.7/dist-packages (from scikit-learn->lightgbm) (3.0.0)\n",
            "Collecting catboost\n",
            "  Downloading catboost-1.0.3-cp37-none-manylinux1_x86_64.whl (76.3 MB)\n",
            "\u001b[K     |████████████████████████████████| 76.3 MB 1.3 MB/s \n",
            "\u001b[?25hRequirement already satisfied: numpy>=1.16.0 in /usr/local/lib/python3.7/dist-packages (from catboost) (1.19.5)\n",
            "Requirement already satisfied: matplotlib in /usr/local/lib/python3.7/dist-packages (from catboost) (3.2.2)\n",
            "Requirement already satisfied: graphviz in /usr/local/lib/python3.7/dist-packages (from catboost) (0.10.1)\n",
            "Requirement already satisfied: plotly in /usr/local/lib/python3.7/dist-packages (from catboost) (4.4.1)\n",
            "Requirement already satisfied: scipy in /usr/local/lib/python3.7/dist-packages (from catboost) (1.4.1)\n",
            "Requirement already satisfied: pandas>=0.24.0 in /usr/local/lib/python3.7/dist-packages (from catboost) (1.1.5)\n",
            "Requirement already satisfied: six in /usr/local/lib/python3.7/dist-packages (from catboost) (1.15.0)\n",
            "Requirement already satisfied: python-dateutil>=2.7.3 in /usr/local/lib/python3.7/dist-packages (from pandas>=0.24.0->catboost) (2.8.2)\n",
            "Requirement already satisfied: pytz>=2017.2 in /usr/local/lib/python3.7/dist-packages (from pandas>=0.24.0->catboost) (2018.9)\n",
            "Requirement already satisfied: pyparsing!=2.0.4,!=2.1.2,!=2.1.6,>=2.0.1 in /usr/local/lib/python3.7/dist-packages (from matplotlib->catboost) (3.0.6)\n",
            "Requirement already satisfied: kiwisolver>=1.0.1 in /usr/local/lib/python3.7/dist-packages (from matplotlib->catboost) (1.3.2)\n",
            "Requirement already satisfied: cycler>=0.10 in /usr/local/lib/python3.7/dist-packages (from matplotlib->catboost) (0.11.0)\n",
            "Requirement already satisfied: retrying>=1.3.3 in /usr/local/lib/python3.7/dist-packages (from plotly->catboost) (1.3.3)\n",
            "Installing collected packages: catboost\n",
            "Successfully installed catboost-1.0.3\n"
          ]
        }
      ]
    },
    {
      "cell_type": "code",
      "metadata": {
        "id": "U0xZT7LCPPnp",
        "colab": {
          "base_uri": "https://localhost:8080/",
          "height": 1000
        },
        "outputId": "fef0b24f-279a-4124-e037-2a8cb00422b0"
      },
      "source": [
        "from sklearn.model_selection import GridSearchCV\n",
        "from sklearn.linear_model import Lasso\n",
        "from sklearn.tree import DecisionTreeRegressor\n",
        "\n",
        "def find_best_model_using_gridsearch(X, y):\n",
        "    algos = {\n",
        "        'decision_tree': {\n",
        "            'model': DecisionTreeRegressor(),\n",
        "            'params': {\n",
        "                'criterion': ['mse','mae'],\n",
        "                'splitter': ['best', 'random'],\n",
        "                'max_depth':[4,8,9]\n",
        "            }\n",
        "        },\n",
        "        'ada':\n",
        "        {\n",
        "            'model':AdaBoostRegressor(random_state=0),\n",
        "            'params':{\n",
        "                'n_estimators':[200,150],\n",
        "                'learning_rate':[1.5,1]\n",
        "            }\n",
        "        },\n",
        "        'xgboost':\n",
        "        {\n",
        "            'model':xgboost.XGBRegressor(),\n",
        "            'params':{\n",
        "                'n_estimators':[10,15],\n",
        "                 'max_depth':[20,15]\n",
        "\n",
        "            }\n",
        "        },\n",
        "        'lightGBM':\n",
        "        {\n",
        "            'model':lgb.LGBMRegressor(),\n",
        "             'params':\n",
        "            {\n",
        "                 'learning_rate':[0.04,0.09],\n",
        "                 'max_depth':[3,4],\n",
        "            }\n",
        "        },\n",
        "        'catboost':\n",
        "        {\n",
        "            'model':CatBoostRegressor(iterations=100,learning_rate=0.1, loss_function='RMSE'),\n",
        "            'params':\n",
        "         {\n",
        "             'depth':[2,3],\n",
        "         }\n",
        "            \n",
        "        },\n",
        "\n",
        "    }\n",
        "    \n",
        "    scores = []\n",
        "    cv = ShuffleSplit(n_splits=5, test_size=0.20, random_state=1)\n",
        "    for algo_name, config in algos.items():\n",
        "        gs = GridSearchCV(config['model'], config['params'], cv=cv, return_train_score=False)\n",
        "        gs.fit(X, y)\n",
        "        scores.append({\n",
        "            'model': algo_name,\n",
        "            'best_score': gs.best_score_,\n",
        "            'best_params': gs.best_params_\n",
        "        })\n",
        "        \n",
        "    return pd.DataFrame(scores, columns = ['model', 'best_score', 'best_params'])\n",
        "\n",
        "find_best_model_using_gridsearch(X, y)"
      ],
      "execution_count": null,
      "outputs": [
        {
          "output_type": "stream",
          "name": "stderr",
          "text": [
            "/usr/local/lib/python3.7/dist-packages/sklearn/tree/_classes.py:363: FutureWarning: Criterion 'mse' was deprecated in v1.0 and will be removed in version 1.2. Use `criterion='squared_error'` which is equivalent.\n",
            "  FutureWarning,\n",
            "/usr/local/lib/python3.7/dist-packages/sklearn/tree/_classes.py:363: FutureWarning: Criterion 'mse' was deprecated in v1.0 and will be removed in version 1.2. Use `criterion='squared_error'` which is equivalent.\n",
            "  FutureWarning,\n",
            "/usr/local/lib/python3.7/dist-packages/sklearn/tree/_classes.py:363: FutureWarning: Criterion 'mse' was deprecated in v1.0 and will be removed in version 1.2. Use `criterion='squared_error'` which is equivalent.\n",
            "  FutureWarning,\n",
            "/usr/local/lib/python3.7/dist-packages/sklearn/tree/_classes.py:363: FutureWarning: Criterion 'mse' was deprecated in v1.0 and will be removed in version 1.2. Use `criterion='squared_error'` which is equivalent.\n",
            "  FutureWarning,\n",
            "/usr/local/lib/python3.7/dist-packages/sklearn/tree/_classes.py:363: FutureWarning: Criterion 'mse' was deprecated in v1.0 and will be removed in version 1.2. Use `criterion='squared_error'` which is equivalent.\n",
            "  FutureWarning,\n",
            "/usr/local/lib/python3.7/dist-packages/sklearn/tree/_classes.py:363: FutureWarning: Criterion 'mse' was deprecated in v1.0 and will be removed in version 1.2. Use `criterion='squared_error'` which is equivalent.\n",
            "  FutureWarning,\n",
            "/usr/local/lib/python3.7/dist-packages/sklearn/tree/_classes.py:363: FutureWarning: Criterion 'mse' was deprecated in v1.0 and will be removed in version 1.2. Use `criterion='squared_error'` which is equivalent.\n",
            "  FutureWarning,\n",
            "/usr/local/lib/python3.7/dist-packages/sklearn/tree/_classes.py:363: FutureWarning: Criterion 'mse' was deprecated in v1.0 and will be removed in version 1.2. Use `criterion='squared_error'` which is equivalent.\n",
            "  FutureWarning,\n",
            "/usr/local/lib/python3.7/dist-packages/sklearn/tree/_classes.py:363: FutureWarning: Criterion 'mse' was deprecated in v1.0 and will be removed in version 1.2. Use `criterion='squared_error'` which is equivalent.\n",
            "  FutureWarning,\n",
            "/usr/local/lib/python3.7/dist-packages/sklearn/tree/_classes.py:363: FutureWarning: Criterion 'mse' was deprecated in v1.0 and will be removed in version 1.2. Use `criterion='squared_error'` which is equivalent.\n",
            "  FutureWarning,\n",
            "/usr/local/lib/python3.7/dist-packages/sklearn/tree/_classes.py:363: FutureWarning: Criterion 'mse' was deprecated in v1.0 and will be removed in version 1.2. Use `criterion='squared_error'` which is equivalent.\n",
            "  FutureWarning,\n",
            "/usr/local/lib/python3.7/dist-packages/sklearn/tree/_classes.py:363: FutureWarning: Criterion 'mse' was deprecated in v1.0 and will be removed in version 1.2. Use `criterion='squared_error'` which is equivalent.\n",
            "  FutureWarning,\n",
            "/usr/local/lib/python3.7/dist-packages/sklearn/tree/_classes.py:363: FutureWarning: Criterion 'mse' was deprecated in v1.0 and will be removed in version 1.2. Use `criterion='squared_error'` which is equivalent.\n",
            "  FutureWarning,\n",
            "/usr/local/lib/python3.7/dist-packages/sklearn/tree/_classes.py:363: FutureWarning: Criterion 'mse' was deprecated in v1.0 and will be removed in version 1.2. Use `criterion='squared_error'` which is equivalent.\n",
            "  FutureWarning,\n",
            "/usr/local/lib/python3.7/dist-packages/sklearn/tree/_classes.py:363: FutureWarning: Criterion 'mse' was deprecated in v1.0 and will be removed in version 1.2. Use `criterion='squared_error'` which is equivalent.\n",
            "  FutureWarning,\n",
            "/usr/local/lib/python3.7/dist-packages/sklearn/tree/_classes.py:363: FutureWarning: Criterion 'mse' was deprecated in v1.0 and will be removed in version 1.2. Use `criterion='squared_error'` which is equivalent.\n",
            "  FutureWarning,\n",
            "/usr/local/lib/python3.7/dist-packages/sklearn/tree/_classes.py:363: FutureWarning: Criterion 'mse' was deprecated in v1.0 and will be removed in version 1.2. Use `criterion='squared_error'` which is equivalent.\n",
            "  FutureWarning,\n",
            "/usr/local/lib/python3.7/dist-packages/sklearn/tree/_classes.py:363: FutureWarning: Criterion 'mse' was deprecated in v1.0 and will be removed in version 1.2. Use `criterion='squared_error'` which is equivalent.\n",
            "  FutureWarning,\n",
            "/usr/local/lib/python3.7/dist-packages/sklearn/tree/_classes.py:363: FutureWarning: Criterion 'mse' was deprecated in v1.0 and will be removed in version 1.2. Use `criterion='squared_error'` which is equivalent.\n",
            "  FutureWarning,\n",
            "/usr/local/lib/python3.7/dist-packages/sklearn/tree/_classes.py:363: FutureWarning: Criterion 'mse' was deprecated in v1.0 and will be removed in version 1.2. Use `criterion='squared_error'` which is equivalent.\n",
            "  FutureWarning,\n",
            "/usr/local/lib/python3.7/dist-packages/sklearn/tree/_classes.py:363: FutureWarning: Criterion 'mse' was deprecated in v1.0 and will be removed in version 1.2. Use `criterion='squared_error'` which is equivalent.\n",
            "  FutureWarning,\n",
            "/usr/local/lib/python3.7/dist-packages/sklearn/tree/_classes.py:363: FutureWarning: Criterion 'mse' was deprecated in v1.0 and will be removed in version 1.2. Use `criterion='squared_error'` which is equivalent.\n",
            "  FutureWarning,\n",
            "/usr/local/lib/python3.7/dist-packages/sklearn/tree/_classes.py:363: FutureWarning: Criterion 'mse' was deprecated in v1.0 and will be removed in version 1.2. Use `criterion='squared_error'` which is equivalent.\n",
            "  FutureWarning,\n",
            "/usr/local/lib/python3.7/dist-packages/sklearn/tree/_classes.py:363: FutureWarning: Criterion 'mse' was deprecated in v1.0 and will be removed in version 1.2. Use `criterion='squared_error'` which is equivalent.\n",
            "  FutureWarning,\n",
            "/usr/local/lib/python3.7/dist-packages/sklearn/tree/_classes.py:363: FutureWarning: Criterion 'mse' was deprecated in v1.0 and will be removed in version 1.2. Use `criterion='squared_error'` which is equivalent.\n",
            "  FutureWarning,\n",
            "/usr/local/lib/python3.7/dist-packages/sklearn/tree/_classes.py:363: FutureWarning: Criterion 'mse' was deprecated in v1.0 and will be removed in version 1.2. Use `criterion='squared_error'` which is equivalent.\n",
            "  FutureWarning,\n",
            "/usr/local/lib/python3.7/dist-packages/sklearn/tree/_classes.py:363: FutureWarning: Criterion 'mse' was deprecated in v1.0 and will be removed in version 1.2. Use `criterion='squared_error'` which is equivalent.\n",
            "  FutureWarning,\n",
            "/usr/local/lib/python3.7/dist-packages/sklearn/tree/_classes.py:363: FutureWarning: Criterion 'mse' was deprecated in v1.0 and will be removed in version 1.2. Use `criterion='squared_error'` which is equivalent.\n",
            "  FutureWarning,\n",
            "/usr/local/lib/python3.7/dist-packages/sklearn/tree/_classes.py:363: FutureWarning: Criterion 'mse' was deprecated in v1.0 and will be removed in version 1.2. Use `criterion='squared_error'` which is equivalent.\n",
            "  FutureWarning,\n",
            "/usr/local/lib/python3.7/dist-packages/sklearn/tree/_classes.py:363: FutureWarning: Criterion 'mse' was deprecated in v1.0 and will be removed in version 1.2. Use `criterion='squared_error'` which is equivalent.\n",
            "  FutureWarning,\n",
            "/usr/local/lib/python3.7/dist-packages/sklearn/tree/_classes.py:370: FutureWarning: Criterion 'mae' was deprecated in v1.0 and will be removed in version 1.2. Use `criterion='absolute_error'` which is equivalent.\n",
            "  FutureWarning,\n",
            "/usr/local/lib/python3.7/dist-packages/sklearn/tree/_classes.py:370: FutureWarning: Criterion 'mae' was deprecated in v1.0 and will be removed in version 1.2. Use `criterion='absolute_error'` which is equivalent.\n",
            "  FutureWarning,\n",
            "/usr/local/lib/python3.7/dist-packages/sklearn/tree/_classes.py:370: FutureWarning: Criterion 'mae' was deprecated in v1.0 and will be removed in version 1.2. Use `criterion='absolute_error'` which is equivalent.\n",
            "  FutureWarning,\n",
            "/usr/local/lib/python3.7/dist-packages/sklearn/tree/_classes.py:370: FutureWarning: Criterion 'mae' was deprecated in v1.0 and will be removed in version 1.2. Use `criterion='absolute_error'` which is equivalent.\n",
            "  FutureWarning,\n",
            "/usr/local/lib/python3.7/dist-packages/sklearn/tree/_classes.py:370: FutureWarning: Criterion 'mae' was deprecated in v1.0 and will be removed in version 1.2. Use `criterion='absolute_error'` which is equivalent.\n",
            "  FutureWarning,\n",
            "/usr/local/lib/python3.7/dist-packages/sklearn/tree/_classes.py:370: FutureWarning: Criterion 'mae' was deprecated in v1.0 and will be removed in version 1.2. Use `criterion='absolute_error'` which is equivalent.\n",
            "  FutureWarning,\n",
            "/usr/local/lib/python3.7/dist-packages/sklearn/tree/_classes.py:370: FutureWarning: Criterion 'mae' was deprecated in v1.0 and will be removed in version 1.2. Use `criterion='absolute_error'` which is equivalent.\n",
            "  FutureWarning,\n",
            "/usr/local/lib/python3.7/dist-packages/sklearn/tree/_classes.py:370: FutureWarning: Criterion 'mae' was deprecated in v1.0 and will be removed in version 1.2. Use `criterion='absolute_error'` which is equivalent.\n",
            "  FutureWarning,\n",
            "/usr/local/lib/python3.7/dist-packages/sklearn/tree/_classes.py:370: FutureWarning: Criterion 'mae' was deprecated in v1.0 and will be removed in version 1.2. Use `criterion='absolute_error'` which is equivalent.\n",
            "  FutureWarning,\n",
            "/usr/local/lib/python3.7/dist-packages/sklearn/tree/_classes.py:370: FutureWarning: Criterion 'mae' was deprecated in v1.0 and will be removed in version 1.2. Use `criterion='absolute_error'` which is equivalent.\n",
            "  FutureWarning,\n",
            "/usr/local/lib/python3.7/dist-packages/sklearn/tree/_classes.py:370: FutureWarning: Criterion 'mae' was deprecated in v1.0 and will be removed in version 1.2. Use `criterion='absolute_error'` which is equivalent.\n",
            "  FutureWarning,\n",
            "/usr/local/lib/python3.7/dist-packages/sklearn/tree/_classes.py:370: FutureWarning: Criterion 'mae' was deprecated in v1.0 and will be removed in version 1.2. Use `criterion='absolute_error'` which is equivalent.\n",
            "  FutureWarning,\n",
            "/usr/local/lib/python3.7/dist-packages/sklearn/tree/_classes.py:370: FutureWarning: Criterion 'mae' was deprecated in v1.0 and will be removed in version 1.2. Use `criterion='absolute_error'` which is equivalent.\n",
            "  FutureWarning,\n",
            "/usr/local/lib/python3.7/dist-packages/sklearn/tree/_classes.py:370: FutureWarning: Criterion 'mae' was deprecated in v1.0 and will be removed in version 1.2. Use `criterion='absolute_error'` which is equivalent.\n",
            "  FutureWarning,\n",
            "/usr/local/lib/python3.7/dist-packages/sklearn/tree/_classes.py:370: FutureWarning: Criterion 'mae' was deprecated in v1.0 and will be removed in version 1.2. Use `criterion='absolute_error'` which is equivalent.\n",
            "  FutureWarning,\n",
            "/usr/local/lib/python3.7/dist-packages/sklearn/tree/_classes.py:370: FutureWarning: Criterion 'mae' was deprecated in v1.0 and will be removed in version 1.2. Use `criterion='absolute_error'` which is equivalent.\n",
            "  FutureWarning,\n",
            "/usr/local/lib/python3.7/dist-packages/sklearn/tree/_classes.py:370: FutureWarning: Criterion 'mae' was deprecated in v1.0 and will be removed in version 1.2. Use `criterion='absolute_error'` which is equivalent.\n",
            "  FutureWarning,\n",
            "/usr/local/lib/python3.7/dist-packages/sklearn/tree/_classes.py:370: FutureWarning: Criterion 'mae' was deprecated in v1.0 and will be removed in version 1.2. Use `criterion='absolute_error'` which is equivalent.\n",
            "  FutureWarning,\n",
            "/usr/local/lib/python3.7/dist-packages/sklearn/tree/_classes.py:370: FutureWarning: Criterion 'mae' was deprecated in v1.0 and will be removed in version 1.2. Use `criterion='absolute_error'` which is equivalent.\n",
            "  FutureWarning,\n",
            "/usr/local/lib/python3.7/dist-packages/sklearn/tree/_classes.py:370: FutureWarning: Criterion 'mae' was deprecated in v1.0 and will be removed in version 1.2. Use `criterion='absolute_error'` which is equivalent.\n",
            "  FutureWarning,\n",
            "/usr/local/lib/python3.7/dist-packages/sklearn/tree/_classes.py:370: FutureWarning: Criterion 'mae' was deprecated in v1.0 and will be removed in version 1.2. Use `criterion='absolute_error'` which is equivalent.\n",
            "  FutureWarning,\n",
            "/usr/local/lib/python3.7/dist-packages/sklearn/tree/_classes.py:370: FutureWarning: Criterion 'mae' was deprecated in v1.0 and will be removed in version 1.2. Use `criterion='absolute_error'` which is equivalent.\n",
            "  FutureWarning,\n",
            "/usr/local/lib/python3.7/dist-packages/sklearn/tree/_classes.py:370: FutureWarning: Criterion 'mae' was deprecated in v1.0 and will be removed in version 1.2. Use `criterion='absolute_error'` which is equivalent.\n",
            "  FutureWarning,\n",
            "/usr/local/lib/python3.7/dist-packages/sklearn/tree/_classes.py:370: FutureWarning: Criterion 'mae' was deprecated in v1.0 and will be removed in version 1.2. Use `criterion='absolute_error'` which is equivalent.\n",
            "  FutureWarning,\n",
            "/usr/local/lib/python3.7/dist-packages/sklearn/tree/_classes.py:370: FutureWarning: Criterion 'mae' was deprecated in v1.0 and will be removed in version 1.2. Use `criterion='absolute_error'` which is equivalent.\n",
            "  FutureWarning,\n",
            "/usr/local/lib/python3.7/dist-packages/sklearn/tree/_classes.py:370: FutureWarning: Criterion 'mae' was deprecated in v1.0 and will be removed in version 1.2. Use `criterion='absolute_error'` which is equivalent.\n",
            "  FutureWarning,\n",
            "/usr/local/lib/python3.7/dist-packages/sklearn/tree/_classes.py:370: FutureWarning: Criterion 'mae' was deprecated in v1.0 and will be removed in version 1.2. Use `criterion='absolute_error'` which is equivalent.\n",
            "  FutureWarning,\n",
            "/usr/local/lib/python3.7/dist-packages/sklearn/tree/_classes.py:370: FutureWarning: Criterion 'mae' was deprecated in v1.0 and will be removed in version 1.2. Use `criterion='absolute_error'` which is equivalent.\n",
            "  FutureWarning,\n",
            "/usr/local/lib/python3.7/dist-packages/sklearn/tree/_classes.py:370: FutureWarning: Criterion 'mae' was deprecated in v1.0 and will be removed in version 1.2. Use `criterion='absolute_error'` which is equivalent.\n",
            "  FutureWarning,\n",
            "/usr/local/lib/python3.7/dist-packages/sklearn/tree/_classes.py:370: FutureWarning: Criterion 'mae' was deprecated in v1.0 and will be removed in version 1.2. Use `criterion='absolute_error'` which is equivalent.\n",
            "  FutureWarning,\n",
            "/usr/local/lib/python3.7/dist-packages/sklearn/tree/_classes.py:363: FutureWarning: Criterion 'mse' was deprecated in v1.0 and will be removed in version 1.2. Use `criterion='squared_error'` which is equivalent.\n",
            "  FutureWarning,\n"
          ]
        },
        {
          "output_type": "stream",
          "name": "stdout",
          "text": [
            "[15:42:09] WARNING: /workspace/src/objective/regression_obj.cu:152: reg:linear is now deprecated in favor of reg:squarederror.\n",
            "[15:42:10] WARNING: /workspace/src/objective/regression_obj.cu:152: reg:linear is now deprecated in favor of reg:squarederror.\n",
            "[15:42:10] WARNING: /workspace/src/objective/regression_obj.cu:152: reg:linear is now deprecated in favor of reg:squarederror.\n",
            "[15:42:11] WARNING: /workspace/src/objective/regression_obj.cu:152: reg:linear is now deprecated in favor of reg:squarederror.\n",
            "[15:42:11] WARNING: /workspace/src/objective/regression_obj.cu:152: reg:linear is now deprecated in favor of reg:squarederror.\n",
            "[15:42:12] WARNING: /workspace/src/objective/regression_obj.cu:152: reg:linear is now deprecated in favor of reg:squarederror.\n",
            "[15:42:12] WARNING: /workspace/src/objective/regression_obj.cu:152: reg:linear is now deprecated in favor of reg:squarederror.\n",
            "[15:42:13] WARNING: /workspace/src/objective/regression_obj.cu:152: reg:linear is now deprecated in favor of reg:squarederror.\n",
            "[15:42:14] WARNING: /workspace/src/objective/regression_obj.cu:152: reg:linear is now deprecated in favor of reg:squarederror.\n",
            "[15:42:14] WARNING: /workspace/src/objective/regression_obj.cu:152: reg:linear is now deprecated in favor of reg:squarederror.\n",
            "[15:42:15] WARNING: /workspace/src/objective/regression_obj.cu:152: reg:linear is now deprecated in favor of reg:squarederror.\n",
            "[15:42:16] WARNING: /workspace/src/objective/regression_obj.cu:152: reg:linear is now deprecated in favor of reg:squarederror.\n",
            "[15:42:16] WARNING: /workspace/src/objective/regression_obj.cu:152: reg:linear is now deprecated in favor of reg:squarederror.\n",
            "[15:42:16] WARNING: /workspace/src/objective/regression_obj.cu:152: reg:linear is now deprecated in favor of reg:squarederror.\n",
            "[15:42:17] WARNING: /workspace/src/objective/regression_obj.cu:152: reg:linear is now deprecated in favor of reg:squarederror.\n",
            "[15:42:17] WARNING: /workspace/src/objective/regression_obj.cu:152: reg:linear is now deprecated in favor of reg:squarederror.\n",
            "[15:42:18] WARNING: /workspace/src/objective/regression_obj.cu:152: reg:linear is now deprecated in favor of reg:squarederror.\n",
            "[15:42:19] WARNING: /workspace/src/objective/regression_obj.cu:152: reg:linear is now deprecated in favor of reg:squarederror.\n",
            "[15:42:19] WARNING: /workspace/src/objective/regression_obj.cu:152: reg:linear is now deprecated in favor of reg:squarederror.\n",
            "[15:42:20] WARNING: /workspace/src/objective/regression_obj.cu:152: reg:linear is now deprecated in favor of reg:squarederror.\n",
            "[15:42:21] WARNING: /workspace/src/objective/regression_obj.cu:152: reg:linear is now deprecated in favor of reg:squarederror.\n",
            "0:\tlearn: 78.4589195\ttotal: 49.7ms\tremaining: 4.92s\n",
            "1:\tlearn: 76.7551966\ttotal: 52.3ms\tremaining: 2.56s\n",
            "2:\tlearn: 75.2979767\ttotal: 54.9ms\tremaining: 1.77s\n",
            "3:\tlearn: 74.0113744\ttotal: 57.4ms\tremaining: 1.38s\n",
            "4:\tlearn: 72.9549870\ttotal: 59.9ms\tremaining: 1.14s\n",
            "5:\tlearn: 71.7570653\ttotal: 62.6ms\tremaining: 980ms\n",
            "6:\tlearn: 70.7621364\ttotal: 65.1ms\tremaining: 865ms\n",
            "7:\tlearn: 69.9284392\ttotal: 67.7ms\tremaining: 778ms\n",
            "8:\tlearn: 69.1687073\ttotal: 70.2ms\tremaining: 710ms\n",
            "9:\tlearn: 68.2438416\ttotal: 72.9ms\tremaining: 656ms\n",
            "10:\tlearn: 67.6511460\ttotal: 75.5ms\tremaining: 611ms\n",
            "11:\tlearn: 67.1350923\ttotal: 78.1ms\tremaining: 573ms\n",
            "12:\tlearn: 66.3341560\ttotal: 80.6ms\tremaining: 539ms\n",
            "13:\tlearn: 65.8158944\ttotal: 83.1ms\tremaining: 510ms\n",
            "14:\tlearn: 65.3736701\ttotal: 85.6ms\tremaining: 485ms\n",
            "15:\tlearn: 65.0306553\ttotal: 88.3ms\tremaining: 463ms\n",
            "16:\tlearn: 64.4406620\ttotal: 90.8ms\tremaining: 443ms\n",
            "17:\tlearn: 63.9582910\ttotal: 93.4ms\tremaining: 426ms\n",
            "18:\tlearn: 63.5644898\ttotal: 96ms\tremaining: 409ms\n",
            "19:\tlearn: 63.2740032\ttotal: 98.5ms\tremaining: 394ms\n",
            "20:\tlearn: 63.0089920\ttotal: 101ms\tremaining: 380ms\n",
            "21:\tlearn: 62.6560152\ttotal: 104ms\tremaining: 367ms\n",
            "22:\tlearn: 62.1207243\ttotal: 106ms\tremaining: 356ms\n",
            "23:\tlearn: 61.8706078\ttotal: 109ms\tremaining: 345ms\n",
            "24:\tlearn: 61.5086186\ttotal: 111ms\tremaining: 334ms\n",
            "25:\tlearn: 61.2933011\ttotal: 114ms\tremaining: 324ms\n",
            "26:\tlearn: 61.0043335\ttotal: 117ms\tremaining: 315ms\n",
            "27:\tlearn: 60.7399623\ttotal: 119ms\tremaining: 306ms\n",
            "28:\tlearn: 60.5082940\ttotal: 122ms\tremaining: 298ms\n",
            "29:\tlearn: 60.2612853\ttotal: 124ms\tremaining: 290ms\n",
            "30:\tlearn: 60.0152399\ttotal: 127ms\tremaining: 282ms\n",
            "31:\tlearn: 59.7871095\ttotal: 129ms\tremaining: 275ms\n",
            "32:\tlearn: 59.4948215\ttotal: 132ms\tremaining: 268ms\n",
            "33:\tlearn: 59.2951262\ttotal: 135ms\tremaining: 262ms\n",
            "34:\tlearn: 59.1310589\ttotal: 138ms\tremaining: 256ms\n",
            "35:\tlearn: 58.9194326\ttotal: 140ms\tremaining: 250ms\n",
            "36:\tlearn: 58.7703205\ttotal: 143ms\tremaining: 244ms\n",
            "37:\tlearn: 58.0760173\ttotal: 146ms\tremaining: 239ms\n",
            "38:\tlearn: 57.8825813\ttotal: 149ms\tremaining: 233ms\n",
            "39:\tlearn: 57.7264250\ttotal: 152ms\tremaining: 228ms\n",
            "40:\tlearn: 57.5382569\ttotal: 154ms\tremaining: 222ms\n",
            "41:\tlearn: 57.3856218\ttotal: 157ms\tremaining: 217ms\n",
            "42:\tlearn: 56.8225551\ttotal: 160ms\tremaining: 212ms\n",
            "43:\tlearn: 56.6674915\ttotal: 163ms\tremaining: 207ms\n",
            "44:\tlearn: 56.4783893\ttotal: 166ms\tremaining: 202ms\n",
            "45:\tlearn: 56.2278682\ttotal: 168ms\tremaining: 198ms\n",
            "46:\tlearn: 56.0739241\ttotal: 171ms\tremaining: 193ms\n",
            "47:\tlearn: 54.8588336\ttotal: 174ms\tremaining: 189ms\n",
            "48:\tlearn: 54.7327771\ttotal: 177ms\tremaining: 184ms\n",
            "49:\tlearn: 54.5877190\ttotal: 180ms\tremaining: 180ms\n",
            "50:\tlearn: 54.2200572\ttotal: 183ms\tremaining: 176ms\n",
            "51:\tlearn: 53.1994693\ttotal: 186ms\tremaining: 171ms\n",
            "52:\tlearn: 53.0050731\ttotal: 189ms\tremaining: 167ms\n",
            "53:\tlearn: 52.8536565\ttotal: 191ms\tremaining: 163ms\n",
            "54:\tlearn: 52.6901392\ttotal: 194ms\tremaining: 159ms\n",
            "55:\tlearn: 51.8561126\ttotal: 201ms\tremaining: 158ms\n",
            "56:\tlearn: 51.6755181\ttotal: 206ms\tremaining: 155ms\n",
            "57:\tlearn: 51.5416055\ttotal: 209ms\tremaining: 151ms\n",
            "58:\tlearn: 51.3993691\ttotal: 211ms\tremaining: 147ms\n",
            "59:\tlearn: 51.2512906\ttotal: 214ms\tremaining: 142ms\n",
            "60:\tlearn: 51.1024480\ttotal: 216ms\tremaining: 138ms\n",
            "61:\tlearn: 50.9684665\ttotal: 219ms\tremaining: 134ms\n",
            "62:\tlearn: 50.8447268\ttotal: 222ms\tremaining: 130ms\n",
            "63:\tlearn: 50.7447410\ttotal: 225ms\tremaining: 126ms\n",
            "64:\tlearn: 50.6352137\ttotal: 227ms\tremaining: 122ms\n",
            "65:\tlearn: 50.5133616\ttotal: 230ms\tremaining: 119ms\n",
            "66:\tlearn: 50.2525368\ttotal: 233ms\tremaining: 115ms\n",
            "67:\tlearn: 50.1283710\ttotal: 242ms\tremaining: 114ms\n",
            "68:\tlearn: 49.7371460\ttotal: 245ms\tremaining: 110ms\n",
            "69:\tlearn: 49.5702977\ttotal: 248ms\tremaining: 106ms\n",
            "70:\tlearn: 49.2226052\ttotal: 250ms\tremaining: 102ms\n",
            "71:\tlearn: 49.0933416\ttotal: 253ms\tremaining: 98.5ms\n",
            "72:\tlearn: 48.9583561\ttotal: 256ms\tremaining: 94.7ms\n",
            "73:\tlearn: 48.8259953\ttotal: 259ms\tremaining: 90.9ms\n",
            "74:\tlearn: 48.7123769\ttotal: 262ms\tremaining: 87.2ms\n",
            "75:\tlearn: 48.5314044\ttotal: 264ms\tremaining: 83.5ms\n",
            "76:\tlearn: 47.7994566\ttotal: 267ms\tremaining: 79.8ms\n",
            "77:\tlearn: 47.7057578\ttotal: 270ms\tremaining: 76.1ms\n",
            "78:\tlearn: 47.6303131\ttotal: 273ms\tremaining: 72.5ms\n",
            "79:\tlearn: 47.4737922\ttotal: 275ms\tremaining: 68.9ms\n",
            "80:\tlearn: 47.3978892\ttotal: 278ms\tremaining: 65.3ms\n",
            "81:\tlearn: 47.2785765\ttotal: 281ms\tremaining: 61.7ms\n",
            "82:\tlearn: 46.9656344\ttotal: 284ms\tremaining: 58.1ms\n",
            "83:\tlearn: 46.8304071\ttotal: 287ms\tremaining: 54.6ms\n",
            "84:\tlearn: 46.6850222\ttotal: 289ms\tremaining: 51.1ms\n",
            "85:\tlearn: 46.5555030\ttotal: 292ms\tremaining: 47.6ms\n",
            "86:\tlearn: 45.9321079\ttotal: 295ms\tremaining: 44.1ms\n",
            "87:\tlearn: 45.7811417\ttotal: 300ms\tremaining: 40.9ms\n",
            "88:\tlearn: 45.6554534\ttotal: 303ms\tremaining: 37.4ms\n",
            "89:\tlearn: 45.5121103\ttotal: 305ms\tremaining: 33.9ms\n",
            "90:\tlearn: 45.2689706\ttotal: 308ms\tremaining: 30.5ms\n",
            "91:\tlearn: 45.1371665\ttotal: 311ms\tremaining: 27.1ms\n",
            "92:\tlearn: 45.0503142\ttotal: 314ms\tremaining: 23.6ms\n",
            "93:\tlearn: 44.8383828\ttotal: 317ms\tremaining: 20.2ms\n",
            "94:\tlearn: 44.6651152\ttotal: 319ms\tremaining: 16.8ms\n",
            "95:\tlearn: 44.5203923\ttotal: 322ms\tremaining: 13.4ms\n",
            "96:\tlearn: 44.4110828\ttotal: 325ms\tremaining: 10.1ms\n",
            "97:\tlearn: 44.2985390\ttotal: 328ms\tremaining: 6.69ms\n",
            "98:\tlearn: 44.2084545\ttotal: 331ms\tremaining: 3.34ms\n",
            "99:\tlearn: 44.1284446\ttotal: 333ms\tremaining: 0us\n",
            "0:\tlearn: 78.5015414\ttotal: 2.73ms\tremaining: 270ms\n",
            "1:\tlearn: 76.8053216\ttotal: 5.6ms\tremaining: 275ms\n",
            "2:\tlearn: 75.3431240\ttotal: 8.31ms\tremaining: 269ms\n",
            "3:\tlearn: 74.0659408\ttotal: 11.1ms\tremaining: 267ms\n",
            "4:\tlearn: 73.0111581\ttotal: 13.9ms\tremaining: 264ms\n",
            "5:\tlearn: 72.0747326\ttotal: 16.9ms\tremaining: 265ms\n",
            "6:\tlearn: 71.3018559\ttotal: 19.8ms\tremaining: 263ms\n",
            "7:\tlearn: 70.4354570\ttotal: 22.6ms\tremaining: 260ms\n",
            "8:\tlearn: 69.7423127\ttotal: 25.5ms\tremaining: 258ms\n",
            "9:\tlearn: 68.7377273\ttotal: 28.4ms\tremaining: 256ms\n",
            "10:\tlearn: 67.8847509\ttotal: 31.3ms\tremaining: 253ms\n",
            "11:\tlearn: 67.3955890\ttotal: 34.2ms\tremaining: 251ms\n",
            "12:\tlearn: 66.7036791\ttotal: 37ms\tremaining: 248ms\n",
            "13:\tlearn: 66.1740130\ttotal: 39.8ms\tremaining: 244ms\n",
            "14:\tlearn: 65.7587591\ttotal: 42.8ms\tremaining: 242ms\n",
            "15:\tlearn: 65.3699997\ttotal: 45.6ms\tremaining: 239ms\n",
            "16:\tlearn: 64.7071398\ttotal: 48.5ms\tremaining: 237ms\n",
            "17:\tlearn: 64.1964148\ttotal: 51.3ms\tremaining: 234ms\n",
            "18:\tlearn: 63.7688101\ttotal: 54.1ms\tremaining: 231ms\n",
            "19:\tlearn: 63.4667325\ttotal: 57ms\tremaining: 228ms\n",
            "20:\tlearn: 62.9362053\ttotal: 66.3ms\tremaining: 249ms\n",
            "21:\tlearn: 62.5679385\ttotal: 69.5ms\tremaining: 246ms\n",
            "22:\tlearn: 62.2381947\ttotal: 72.3ms\tremaining: 242ms\n",
            "23:\tlearn: 61.9852744\ttotal: 75.2ms\tremaining: 238ms\n",
            "24:\tlearn: 61.6312946\ttotal: 78ms\tremaining: 234ms\n",
            "25:\tlearn: 61.3464640\ttotal: 80.8ms\tremaining: 230ms\n",
            "26:\tlearn: 61.0836891\ttotal: 83.7ms\tremaining: 226ms\n",
            "27:\tlearn: 60.8054635\ttotal: 86.4ms\tremaining: 222ms\n",
            "28:\tlearn: 60.5569656\ttotal: 89.2ms\tremaining: 218ms\n",
            "29:\tlearn: 60.3282262\ttotal: 92.1ms\tremaining: 215ms\n",
            "30:\tlearn: 60.0717339\ttotal: 95ms\tremaining: 211ms\n",
            "31:\tlearn: 59.7962242\ttotal: 98ms\tremaining: 208ms\n",
            "32:\tlearn: 59.5468133\ttotal: 101ms\tremaining: 205ms\n",
            "33:\tlearn: 59.2675700\ttotal: 104ms\tremaining: 202ms\n",
            "34:\tlearn: 59.0858461\ttotal: 107ms\tremaining: 198ms\n",
            "35:\tlearn: 58.8564795\ttotal: 110ms\tremaining: 195ms\n",
            "36:\tlearn: 58.6899703\ttotal: 113ms\tremaining: 192ms\n",
            "37:\tlearn: 58.4871479\ttotal: 115ms\tremaining: 188ms\n",
            "38:\tlearn: 57.8149571\ttotal: 118ms\tremaining: 185ms\n",
            "39:\tlearn: 57.6343791\ttotal: 121ms\tremaining: 181ms\n",
            "40:\tlearn: 57.4724148\ttotal: 124ms\tremaining: 178ms\n",
            "41:\tlearn: 57.3052398\ttotal: 126ms\tremaining: 175ms\n",
            "42:\tlearn: 57.0916357\ttotal: 130ms\tremaining: 173ms\n",
            "43:\tlearn: 56.9610915\ttotal: 133ms\tremaining: 170ms\n",
            "44:\tlearn: 56.8234248\ttotal: 136ms\tremaining: 166ms\n",
            "45:\tlearn: 55.6531887\ttotal: 139ms\tremaining: 163ms\n",
            "46:\tlearn: 55.4769839\ttotal: 142ms\tremaining: 160ms\n",
            "47:\tlearn: 54.5038306\ttotal: 145ms\tremaining: 157ms\n",
            "48:\tlearn: 54.3772711\ttotal: 148ms\tremaining: 154ms\n",
            "49:\tlearn: 54.1848403\ttotal: 150ms\tremaining: 150ms\n",
            "50:\tlearn: 54.0243782\ttotal: 153ms\tremaining: 147ms\n",
            "51:\tlearn: 53.8682945\ttotal: 156ms\tremaining: 144ms\n",
            "52:\tlearn: 53.7184398\ttotal: 159ms\tremaining: 141ms\n",
            "53:\tlearn: 52.8921828\ttotal: 161ms\tremaining: 137ms\n",
            "54:\tlearn: 52.6751407\ttotal: 164ms\tremaining: 134ms\n",
            "55:\tlearn: 51.9861991\ttotal: 167ms\tremaining: 131ms\n",
            "56:\tlearn: 51.8202268\ttotal: 170ms\tremaining: 128ms\n",
            "57:\tlearn: 51.6547554\ttotal: 172ms\tremaining: 125ms\n",
            "58:\tlearn: 51.4961174\ttotal: 175ms\tremaining: 122ms\n",
            "59:\tlearn: 51.3564711\ttotal: 178ms\tremaining: 119ms\n",
            "60:\tlearn: 51.2172940\ttotal: 181ms\tremaining: 116ms\n",
            "61:\tlearn: 51.0625336\ttotal: 184ms\tremaining: 113ms\n",
            "62:\tlearn: 50.9537791\ttotal: 186ms\tremaining: 109ms\n",
            "63:\tlearn: 50.8330873\ttotal: 189ms\tremaining: 106ms\n",
            "64:\tlearn: 50.7000469\ttotal: 192ms\tremaining: 103ms\n",
            "65:\tlearn: 50.4320202\ttotal: 197ms\tremaining: 102ms\n",
            "66:\tlearn: 49.8323273\ttotal: 200ms\tremaining: 98.4ms\n",
            "67:\tlearn: 49.6978698\ttotal: 202ms\tremaining: 95.3ms\n",
            "68:\tlearn: 49.5627076\ttotal: 205ms\tremaining: 92ms\n",
            "69:\tlearn: 49.3770805\ttotal: 207ms\tremaining: 88.9ms\n",
            "70:\tlearn: 48.9258238\ttotal: 210ms\tremaining: 85.8ms\n",
            "71:\tlearn: 48.8026939\ttotal: 213ms\tremaining: 82.7ms\n",
            "72:\tlearn: 48.6725474\ttotal: 215ms\tremaining: 79.6ms\n",
            "73:\tlearn: 48.1624257\ttotal: 218ms\tremaining: 76.7ms\n",
            "74:\tlearn: 48.0066753\ttotal: 221ms\tremaining: 73.7ms\n",
            "75:\tlearn: 47.8243213\ttotal: 224ms\tremaining: 70.7ms\n",
            "76:\tlearn: 47.4470648\ttotal: 227ms\tremaining: 67.7ms\n",
            "77:\tlearn: 47.3285184\ttotal: 230ms\tremaining: 64.7ms\n",
            "78:\tlearn: 47.2355998\ttotal: 232ms\tremaining: 61.8ms\n",
            "79:\tlearn: 47.1091240\ttotal: 235ms\tremaining: 58.8ms\n",
            "80:\tlearn: 46.9265079\ttotal: 238ms\tremaining: 55.8ms\n",
            "81:\tlearn: 46.7977201\ttotal: 241ms\tremaining: 52.8ms\n",
            "82:\tlearn: 46.6803751\ttotal: 243ms\tremaining: 49.8ms\n",
            "83:\tlearn: 46.3644184\ttotal: 246ms\tremaining: 46.9ms\n",
            "84:\tlearn: 46.2208867\ttotal: 249ms\tremaining: 44ms\n",
            "85:\tlearn: 46.0861363\ttotal: 252ms\tremaining: 41ms\n",
            "86:\tlearn: 45.9895558\ttotal: 255ms\tremaining: 38.1ms\n",
            "87:\tlearn: 45.8255575\ttotal: 261ms\tremaining: 35.6ms\n",
            "88:\tlearn: 45.4453663\ttotal: 266ms\tremaining: 32.9ms\n",
            "89:\tlearn: 45.1816128\ttotal: 269ms\tremaining: 29.8ms\n",
            "90:\tlearn: 44.9900634\ttotal: 271ms\tremaining: 26.8ms\n",
            "91:\tlearn: 44.6830679\ttotal: 274ms\tremaining: 23.8ms\n",
            "92:\tlearn: 44.4478716\ttotal: 276ms\tremaining: 20.8ms\n",
            "93:\tlearn: 44.3428281\ttotal: 279ms\tremaining: 17.8ms\n",
            "94:\tlearn: 44.2001109\ttotal: 281ms\tremaining: 14.8ms\n",
            "95:\tlearn: 44.1069154\ttotal: 284ms\tremaining: 11.8ms\n",
            "96:\tlearn: 43.9759974\ttotal: 287ms\tremaining: 8.86ms\n",
            "97:\tlearn: 43.8596551\ttotal: 289ms\tremaining: 5.9ms\n",
            "98:\tlearn: 43.4216930\ttotal: 292ms\tremaining: 2.95ms\n",
            "99:\tlearn: 43.2353475\ttotal: 294ms\tremaining: 0us\n",
            "0:\tlearn: 78.4054934\ttotal: 3.16ms\tremaining: 313ms\n",
            "1:\tlearn: 76.7051493\ttotal: 5.69ms\tremaining: 279ms\n",
            "2:\tlearn: 75.2437547\ttotal: 8.21ms\tremaining: 265ms\n",
            "3:\tlearn: 74.1468717\ttotal: 10.7ms\tremaining: 257ms\n",
            "4:\tlearn: 72.9180265\ttotal: 13.3ms\tremaining: 252ms\n",
            "5:\tlearn: 71.9783635\ttotal: 15.9ms\tremaining: 249ms\n",
            "6:\tlearn: 71.2144329\ttotal: 18.4ms\tremaining: 244ms\n",
            "7:\tlearn: 70.3399741\ttotal: 20.8ms\tremaining: 240ms\n",
            "8:\tlearn: 69.6639262\ttotal: 23.2ms\tremaining: 235ms\n",
            "9:\tlearn: 68.6689829\ttotal: 25.8ms\tremaining: 232ms\n",
            "10:\tlearn: 68.1438128\ttotal: 28.3ms\tremaining: 229ms\n",
            "11:\tlearn: 67.6725465\ttotal: 30.9ms\tremaining: 227ms\n",
            "12:\tlearn: 66.8408023\ttotal: 33.4ms\tremaining: 223ms\n",
            "13:\tlearn: 66.2360680\ttotal: 35.8ms\tremaining: 220ms\n",
            "14:\tlearn: 65.6267770\ttotal: 38.3ms\tremaining: 217ms\n",
            "15:\tlearn: 65.1493048\ttotal: 40.8ms\tremaining: 214ms\n",
            "16:\tlearn: 64.4854480\ttotal: 43.4ms\tremaining: 212ms\n",
            "17:\tlearn: 63.9949270\ttotal: 45.9ms\tremaining: 209ms\n",
            "18:\tlearn: 63.4529208\ttotal: 48.5ms\tremaining: 207ms\n",
            "19:\tlearn: 63.0322307\ttotal: 51ms\tremaining: 204ms\n",
            "20:\tlearn: 62.5877197\ttotal: 53.6ms\tremaining: 202ms\n",
            "21:\tlearn: 62.2155646\ttotal: 56.4ms\tremaining: 200ms\n",
            "22:\tlearn: 61.8669863\ttotal: 58.8ms\tremaining: 197ms\n",
            "23:\tlearn: 61.6073224\ttotal: 61.3ms\tremaining: 194ms\n",
            "24:\tlearn: 61.2553416\ttotal: 63.9ms\tremaining: 192ms\n",
            "25:\tlearn: 60.9861492\ttotal: 66.5ms\tremaining: 189ms\n",
            "26:\tlearn: 60.6788546\ttotal: 69ms\tremaining: 187ms\n",
            "27:\tlearn: 60.4046664\ttotal: 71.4ms\tremaining: 184ms\n",
            "28:\tlearn: 60.1659757\ttotal: 73.8ms\tremaining: 181ms\n",
            "29:\tlearn: 59.9525118\ttotal: 76.4ms\tremaining: 178ms\n",
            "30:\tlearn: 59.6718630\ttotal: 80.3ms\tremaining: 179ms\n",
            "31:\tlearn: 59.3813370\ttotal: 84.2ms\tremaining: 179ms\n",
            "32:\tlearn: 59.1339660\ttotal: 86.8ms\tremaining: 176ms\n",
            "33:\tlearn: 58.9284622\ttotal: 89.3ms\tremaining: 173ms\n",
            "34:\tlearn: 58.7530354\ttotal: 91.9ms\tremaining: 171ms\n",
            "35:\tlearn: 58.5270859\ttotal: 96.6ms\tremaining: 172ms\n",
            "36:\tlearn: 58.3658688\ttotal: 102ms\tremaining: 174ms\n",
            "37:\tlearn: 58.0991152\ttotal: 105ms\tremaining: 171ms\n",
            "38:\tlearn: 57.9117024\ttotal: 108ms\tremaining: 168ms\n",
            "39:\tlearn: 57.6952827\ttotal: 110ms\tremaining: 166ms\n",
            "40:\tlearn: 57.5090340\ttotal: 123ms\tremaining: 176ms\n",
            "41:\tlearn: 56.7864382\ttotal: 129ms\tremaining: 177ms\n",
            "42:\tlearn: 56.6061838\ttotal: 132ms\tremaining: 175ms\n",
            "43:\tlearn: 55.4115974\ttotal: 135ms\tremaining: 172ms\n",
            "44:\tlearn: 55.2166788\ttotal: 138ms\tremaining: 169ms\n",
            "45:\tlearn: 55.0671845\ttotal: 141ms\tremaining: 165ms\n",
            "46:\tlearn: 54.8889331\ttotal: 144ms\tremaining: 162ms\n",
            "47:\tlearn: 54.7430554\ttotal: 146ms\tremaining: 159ms\n",
            "48:\tlearn: 54.5983543\ttotal: 149ms\tremaining: 155ms\n",
            "49:\tlearn: 54.4222247\ttotal: 152ms\tremaining: 152ms\n",
            "50:\tlearn: 54.2902195\ttotal: 157ms\tremaining: 150ms\n",
            "51:\tlearn: 53.2651858\ttotal: 161ms\tremaining: 148ms\n",
            "52:\tlearn: 53.1513171\ttotal: 165ms\tremaining: 146ms\n",
            "53:\tlearn: 52.3012280\ttotal: 170ms\tremaining: 145ms\n",
            "54:\tlearn: 52.0840228\ttotal: 173ms\tremaining: 141ms\n",
            "55:\tlearn: 51.3747393\ttotal: 176ms\tremaining: 138ms\n",
            "56:\tlearn: 51.2000414\ttotal: 178ms\tremaining: 135ms\n",
            "57:\tlearn: 51.0532462\ttotal: 181ms\tremaining: 131ms\n",
            "58:\tlearn: 50.8168445\ttotal: 184ms\tremaining: 128ms\n",
            "59:\tlearn: 50.5194844\ttotal: 187ms\tremaining: 125ms\n",
            "60:\tlearn: 50.3796642\ttotal: 190ms\tremaining: 122ms\n",
            "61:\tlearn: 49.7683065\ttotal: 193ms\tremaining: 118ms\n",
            "62:\tlearn: 49.6521550\ttotal: 196ms\tremaining: 115ms\n",
            "63:\tlearn: 49.5285598\ttotal: 199ms\tremaining: 112ms\n",
            "64:\tlearn: 49.3940724\ttotal: 202ms\tremaining: 109ms\n",
            "65:\tlearn: 49.2612879\ttotal: 204ms\tremaining: 105ms\n",
            "66:\tlearn: 49.1378653\ttotal: 207ms\tremaining: 102ms\n",
            "67:\tlearn: 49.0140798\ttotal: 210ms\tremaining: 98.7ms\n",
            "68:\tlearn: 48.8348254\ttotal: 212ms\tremaining: 95.3ms\n",
            "69:\tlearn: 48.7148621\ttotal: 215ms\tremaining: 92.1ms\n",
            "70:\tlearn: 48.2674205\ttotal: 218ms\tremaining: 88.9ms\n",
            "71:\tlearn: 48.1527299\ttotal: 221ms\tremaining: 85.8ms\n",
            "72:\tlearn: 48.0077193\ttotal: 223ms\tremaining: 82.6ms\n",
            "73:\tlearn: 47.8910483\ttotal: 226ms\tremaining: 79.5ms\n",
            "74:\tlearn: 47.7563645\ttotal: 229ms\tremaining: 76.3ms\n",
            "75:\tlearn: 47.6597933\ttotal: 232ms\tremaining: 73.2ms\n",
            "76:\tlearn: 47.1253706\ttotal: 235ms\tremaining: 70.1ms\n",
            "77:\tlearn: 47.0153021\ttotal: 238ms\tremaining: 67ms\n",
            "78:\tlearn: 46.9174410\ttotal: 240ms\tremaining: 63.9ms\n",
            "79:\tlearn: 46.8154172\ttotal: 243ms\tremaining: 60.8ms\n",
            "80:\tlearn: 46.6703364\ttotal: 246ms\tremaining: 57.7ms\n",
            "81:\tlearn: 46.5734460\ttotal: 249ms\tremaining: 54.7ms\n",
            "82:\tlearn: 46.4624021\ttotal: 252ms\tremaining: 51.6ms\n",
            "83:\tlearn: 46.3362565\ttotal: 255ms\tremaining: 48.5ms\n",
            "84:\tlearn: 46.1159442\ttotal: 258ms\tremaining: 45.5ms\n",
            "85:\tlearn: 45.7701328\ttotal: 260ms\tremaining: 42.4ms\n",
            "86:\tlearn: 45.6332207\ttotal: 263ms\tremaining: 39.3ms\n",
            "87:\tlearn: 45.5239211\ttotal: 266ms\tremaining: 36.3ms\n",
            "88:\tlearn: 45.2201229\ttotal: 269ms\tremaining: 33.2ms\n",
            "89:\tlearn: 45.0516617\ttotal: 272ms\tremaining: 30.2ms\n",
            "90:\tlearn: 44.9346540\ttotal: 274ms\tremaining: 27.1ms\n",
            "91:\tlearn: 44.7831131\ttotal: 277ms\tremaining: 24.1ms\n",
            "92:\tlearn: 44.4881547\ttotal: 280ms\tremaining: 21.1ms\n",
            "93:\tlearn: 44.2448308\ttotal: 283ms\tremaining: 18ms\n",
            "94:\tlearn: 44.0857196\ttotal: 286ms\tremaining: 15ms\n",
            "95:\tlearn: 43.9901478\ttotal: 288ms\tremaining: 12ms\n",
            "96:\tlearn: 43.8869467\ttotal: 291ms\tremaining: 9ms\n",
            "97:\tlearn: 43.7811856\ttotal: 294ms\tremaining: 6ms\n",
            "98:\tlearn: 43.6996956\ttotal: 297ms\tremaining: 3ms\n",
            "99:\tlearn: 43.6084047\ttotal: 299ms\tremaining: 0us\n",
            "0:\tlearn: 77.9908024\ttotal: 3.02ms\tremaining: 300ms\n",
            "1:\tlearn: 76.3052408\ttotal: 5.81ms\tremaining: 285ms\n",
            "2:\tlearn: 74.8644508\ttotal: 8.48ms\tremaining: 274ms\n",
            "3:\tlearn: 73.5849303\ttotal: 11.2ms\tremaining: 268ms\n",
            "4:\tlearn: 72.5316283\ttotal: 13.9ms\tremaining: 264ms\n",
            "5:\tlearn: 71.6087916\ttotal: 16.6ms\tremaining: 261ms\n",
            "6:\tlearn: 70.8321958\ttotal: 19.4ms\tremaining: 258ms\n",
            "7:\tlearn: 69.9656498\ttotal: 22ms\tremaining: 253ms\n",
            "8:\tlearn: 69.2820028\ttotal: 24.7ms\tremaining: 249ms\n",
            "9:\tlearn: 68.3404468\ttotal: 27.5ms\tremaining: 247ms\n",
            "10:\tlearn: 67.7876018\ttotal: 30.1ms\tremaining: 244ms\n",
            "11:\tlearn: 67.3306749\ttotal: 33ms\tremaining: 242ms\n",
            "12:\tlearn: 66.5199183\ttotal: 35.7ms\tremaining: 239ms\n",
            "13:\tlearn: 65.9130864\ttotal: 38.7ms\tremaining: 238ms\n",
            "14:\tlearn: 65.3192739\ttotal: 41.6ms\tremaining: 235ms\n",
            "15:\tlearn: 64.9833538\ttotal: 44.5ms\tremaining: 234ms\n",
            "16:\tlearn: 64.4819918\ttotal: 47.3ms\tremaining: 231ms\n",
            "17:\tlearn: 64.1579278\ttotal: 50.3ms\tremaining: 229ms\n",
            "18:\tlearn: 63.7185077\ttotal: 53.3ms\tremaining: 227ms\n",
            "19:\tlearn: 63.4485449\ttotal: 56.2ms\tremaining: 225ms\n",
            "20:\tlearn: 63.0716002\ttotal: 59.1ms\tremaining: 222ms\n",
            "21:\tlearn: 62.7730436\ttotal: 62ms\tremaining: 220ms\n",
            "22:\tlearn: 62.4594483\ttotal: 64.9ms\tremaining: 217ms\n",
            "23:\tlearn: 61.8930368\ttotal: 67.9ms\tremaining: 215ms\n",
            "24:\tlearn: 61.5293397\ttotal: 70.8ms\tremaining: 212ms\n",
            "25:\tlearn: 61.3022637\ttotal: 73.7ms\tremaining: 210ms\n",
            "26:\tlearn: 60.9988659\ttotal: 76.6ms\tremaining: 207ms\n",
            "27:\tlearn: 60.7311034\ttotal: 79.5ms\tremaining: 205ms\n",
            "28:\tlearn: 60.4915151\ttotal: 82.3ms\tremaining: 202ms\n",
            "29:\tlearn: 60.2613154\ttotal: 85.1ms\tremaining: 199ms\n",
            "30:\tlearn: 60.0731825\ttotal: 88ms\tremaining: 196ms\n",
            "31:\tlearn: 59.7954125\ttotal: 90.8ms\tremaining: 193ms\n",
            "32:\tlearn: 59.5504383\ttotal: 93.6ms\tremaining: 190ms\n",
            "33:\tlearn: 59.3401439\ttotal: 96.4ms\tremaining: 187ms\n",
            "34:\tlearn: 59.1512138\ttotal: 99.3ms\tremaining: 184ms\n",
            "35:\tlearn: 58.9409832\ttotal: 102ms\tremaining: 181ms\n",
            "36:\tlearn: 58.7914937\ttotal: 105ms\tremaining: 178ms\n",
            "37:\tlearn: 58.5939887\ttotal: 108ms\tremaining: 176ms\n",
            "38:\tlearn: 58.3886443\ttotal: 110ms\tremaining: 173ms\n",
            "39:\tlearn: 58.2197057\ttotal: 113ms\tremaining: 170ms\n",
            "40:\tlearn: 58.0575388\ttotal: 116ms\tremaining: 167ms\n",
            "41:\tlearn: 57.8888291\ttotal: 119ms\tremaining: 164ms\n",
            "42:\tlearn: 57.2217988\ttotal: 122ms\tremaining: 161ms\n",
            "43:\tlearn: 57.0281574\ttotal: 124ms\tremaining: 158ms\n",
            "44:\tlearn: 56.8058082\ttotal: 127ms\tremaining: 156ms\n",
            "45:\tlearn: 56.6783523\ttotal: 130ms\tremaining: 153ms\n",
            "46:\tlearn: 56.5113018\ttotal: 133ms\tremaining: 150ms\n",
            "47:\tlearn: 55.3875379\ttotal: 136ms\tremaining: 147ms\n",
            "48:\tlearn: 55.2092910\ttotal: 139ms\tremaining: 144ms\n",
            "49:\tlearn: 55.0288414\ttotal: 141ms\tremaining: 141ms\n",
            "50:\tlearn: 54.8839508\ttotal: 146ms\tremaining: 141ms\n",
            "51:\tlearn: 54.7644355\ttotal: 149ms\tremaining: 138ms\n",
            "52:\tlearn: 54.6583239\ttotal: 152ms\tremaining: 135ms\n",
            "53:\tlearn: 53.7037929\ttotal: 155ms\tremaining: 132ms\n",
            "54:\tlearn: 53.2767841\ttotal: 158ms\tremaining: 129ms\n",
            "55:\tlearn: 52.4815952\ttotal: 161ms\tremaining: 126ms\n",
            "56:\tlearn: 52.0692191\ttotal: 163ms\tremaining: 123ms\n",
            "57:\tlearn: 51.9175748\ttotal: 166ms\tremaining: 120ms\n",
            "58:\tlearn: 51.7597576\ttotal: 169ms\tremaining: 118ms\n",
            "59:\tlearn: 51.4780353\ttotal: 172ms\tremaining: 115ms\n",
            "60:\tlearn: 51.3302265\ttotal: 175ms\tremaining: 112ms\n",
            "61:\tlearn: 50.6507674\ttotal: 178ms\tremaining: 109ms\n",
            "62:\tlearn: 50.5310116\ttotal: 181ms\tremaining: 106ms\n",
            "63:\tlearn: 50.4082370\ttotal: 184ms\tremaining: 103ms\n",
            "64:\tlearn: 50.2739055\ttotal: 186ms\tremaining: 100ms\n",
            "65:\tlearn: 50.1512191\ttotal: 189ms\tremaining: 97.6ms\n",
            "66:\tlearn: 50.0210550\ttotal: 194ms\tremaining: 95.3ms\n",
            "67:\tlearn: 49.8798165\ttotal: 200ms\tremaining: 94ms\n",
            "68:\tlearn: 49.7750645\ttotal: 205ms\tremaining: 91.9ms\n",
            "69:\tlearn: 49.6361434\ttotal: 207ms\tremaining: 88.8ms\n",
            "70:\tlearn: 49.1607325\ttotal: 210ms\tremaining: 85.8ms\n",
            "71:\tlearn: 48.7365808\ttotal: 213ms\tremaining: 82.8ms\n",
            "72:\tlearn: 48.6062179\ttotal: 216ms\tremaining: 79.8ms\n",
            "73:\tlearn: 48.4919786\ttotal: 218ms\tremaining: 76.7ms\n",
            "74:\tlearn: 48.3622518\ttotal: 221ms\tremaining: 73.7ms\n",
            "75:\tlearn: 48.2172668\ttotal: 224ms\tremaining: 70.7ms\n",
            "76:\tlearn: 47.8436917\ttotal: 227ms\tremaining: 67.7ms\n",
            "77:\tlearn: 47.7236738\ttotal: 229ms\tremaining: 64.7ms\n",
            "78:\tlearn: 47.6261125\ttotal: 232ms\tremaining: 61.7ms\n",
            "79:\tlearn: 47.5300912\ttotal: 235ms\tremaining: 58.8ms\n",
            "80:\tlearn: 47.4386759\ttotal: 238ms\tremaining: 55.8ms\n",
            "81:\tlearn: 47.2495697\ttotal: 241ms\tremaining: 52.8ms\n",
            "82:\tlearn: 46.9535623\ttotal: 243ms\tremaining: 49.9ms\n",
            "83:\tlearn: 46.7986880\ttotal: 246ms\tremaining: 46.9ms\n",
            "84:\tlearn: 46.6608940\ttotal: 249ms\tremaining: 43.9ms\n",
            "85:\tlearn: 46.5535943\ttotal: 252ms\tremaining: 41ms\n",
            "86:\tlearn: 46.4486477\ttotal: 255ms\tremaining: 38ms\n",
            "87:\tlearn: 46.3012675\ttotal: 257ms\tremaining: 35.1ms\n",
            "88:\tlearn: 46.0631252\ttotal: 260ms\tremaining: 32.2ms\n",
            "89:\tlearn: 45.4154143\ttotal: 263ms\tremaining: 29.2ms\n",
            "90:\tlearn: 45.2304944\ttotal: 266ms\tremaining: 26.3ms\n",
            "91:\tlearn: 45.0720449\ttotal: 268ms\tremaining: 23.3ms\n",
            "92:\tlearn: 44.8942230\ttotal: 271ms\tremaining: 20.4ms\n",
            "93:\tlearn: 44.7774472\ttotal: 274ms\tremaining: 17.5ms\n",
            "94:\tlearn: 44.6692724\ttotal: 277ms\tremaining: 14.6ms\n",
            "95:\tlearn: 44.4705837\ttotal: 280ms\tremaining: 11.7ms\n",
            "96:\tlearn: 44.3234629\ttotal: 283ms\tremaining: 8.74ms\n",
            "97:\tlearn: 44.1897649\ttotal: 285ms\tremaining: 5.83ms\n",
            "98:\tlearn: 44.0867658\ttotal: 288ms\tremaining: 2.91ms\n",
            "99:\tlearn: 44.0057290\ttotal: 291ms\tremaining: 0us\n",
            "0:\tlearn: 77.9936756\ttotal: 2.85ms\tremaining: 283ms\n",
            "1:\tlearn: 76.2358048\ttotal: 5.8ms\tremaining: 284ms\n",
            "2:\tlearn: 74.7259851\ttotal: 8.88ms\tremaining: 287ms\n",
            "3:\tlearn: 73.4012101\ttotal: 11.7ms\tremaining: 282ms\n",
            "4:\tlearn: 72.3314993\ttotal: 14.6ms\tremaining: 277ms\n",
            "5:\tlearn: 71.3604711\ttotal: 17.5ms\tremaining: 275ms\n",
            "6:\tlearn: 70.5599008\ttotal: 20.5ms\tremaining: 272ms\n",
            "7:\tlearn: 69.7367590\ttotal: 23.3ms\tremaining: 268ms\n",
            "8:\tlearn: 69.0299412\ttotal: 26.1ms\tremaining: 263ms\n",
            "9:\tlearn: 68.0615321\ttotal: 29ms\tremaining: 261ms\n",
            "10:\tlearn: 67.5083466\ttotal: 31.8ms\tremaining: 257ms\n",
            "11:\tlearn: 67.0297161\ttotal: 34.7ms\tremaining: 255ms\n",
            "12:\tlearn: 66.2281314\ttotal: 37.5ms\tremaining: 251ms\n",
            "13:\tlearn: 65.6566561\ttotal: 40.5ms\tremaining: 249ms\n",
            "14:\tlearn: 65.2383967\ttotal: 43.4ms\tremaining: 246ms\n",
            "15:\tlearn: 64.6649213\ttotal: 46.2ms\tremaining: 242ms\n",
            "16:\tlearn: 63.9973661\ttotal: 49ms\tremaining: 239ms\n",
            "17:\tlearn: 63.5050828\ttotal: 53.2ms\tremaining: 243ms\n",
            "18:\tlearn: 63.1217378\ttotal: 56.7ms\tremaining: 242ms\n",
            "19:\tlearn: 62.8215213\ttotal: 61ms\tremaining: 244ms\n",
            "20:\tlearn: 62.5653645\ttotal: 65.8ms\tremaining: 247ms\n",
            "21:\tlearn: 62.2202593\ttotal: 69.8ms\tremaining: 248ms\n",
            "22:\tlearn: 61.9713476\ttotal: 72.8ms\tremaining: 244ms\n",
            "23:\tlearn: 61.5630294\ttotal: 75.6ms\tremaining: 239ms\n",
            "24:\tlearn: 61.3240019\ttotal: 78.4ms\tremaining: 235ms\n",
            "25:\tlearn: 60.9887954\ttotal: 81.2ms\tremaining: 231ms\n",
            "26:\tlearn: 60.7817641\ttotal: 84.1ms\tremaining: 227ms\n",
            "27:\tlearn: 60.5078983\ttotal: 86.9ms\tremaining: 224ms\n",
            "28:\tlearn: 60.2183739\ttotal: 89.8ms\tremaining: 220ms\n",
            "29:\tlearn: 60.0094007\ttotal: 92.6ms\tremaining: 216ms\n",
            "30:\tlearn: 59.7335234\ttotal: 95.4ms\tremaining: 212ms\n",
            "31:\tlearn: 59.4519630\ttotal: 98.2ms\tremaining: 209ms\n",
            "32:\tlearn: 59.2941503\ttotal: 101ms\tremaining: 205ms\n",
            "33:\tlearn: 59.0815477\ttotal: 104ms\tremaining: 202ms\n",
            "34:\tlearn: 58.9062494\ttotal: 107ms\tremaining: 198ms\n",
            "35:\tlearn: 58.6577104\ttotal: 110ms\tremaining: 195ms\n",
            "36:\tlearn: 58.5045595\ttotal: 112ms\tremaining: 191ms\n",
            "37:\tlearn: 57.8414797\ttotal: 115ms\tremaining: 188ms\n",
            "38:\tlearn: 57.6205128\ttotal: 120ms\tremaining: 188ms\n",
            "39:\tlearn: 57.4135334\ttotal: 123ms\tremaining: 185ms\n",
            "40:\tlearn: 57.2419669\ttotal: 126ms\tremaining: 181ms\n",
            "41:\tlearn: 57.0803860\ttotal: 129ms\tremaining: 178ms\n",
            "42:\tlearn: 56.5738016\ttotal: 132ms\tremaining: 174ms\n",
            "43:\tlearn: 56.3776590\ttotal: 134ms\tremaining: 171ms\n",
            "44:\tlearn: 56.2182117\ttotal: 137ms\tremaining: 168ms\n",
            "45:\tlearn: 56.0295375\ttotal: 140ms\tremaining: 164ms\n",
            "46:\tlearn: 55.8474938\ttotal: 143ms\tremaining: 161ms\n",
            "47:\tlearn: 54.6940272\ttotal: 146ms\tremaining: 158ms\n",
            "48:\tlearn: 54.5171103\ttotal: 149ms\tremaining: 155ms\n",
            "49:\tlearn: 54.1578813\ttotal: 152ms\tremaining: 152ms\n",
            "50:\tlearn: 54.0314205\ttotal: 154ms\tremaining: 148ms\n",
            "51:\tlearn: 53.8806854\ttotal: 157ms\tremaining: 145ms\n",
            "52:\tlearn: 53.7419293\ttotal: 160ms\tremaining: 142ms\n",
            "53:\tlearn: 53.6317215\ttotal: 163ms\tremaining: 139ms\n",
            "54:\tlearn: 53.4399796\ttotal: 166ms\tremaining: 135ms\n",
            "55:\tlearn: 52.4565203\ttotal: 168ms\tremaining: 132ms\n",
            "56:\tlearn: 52.3030142\ttotal: 171ms\tremaining: 129ms\n",
            "57:\tlearn: 52.1547319\ttotal: 174ms\tremaining: 126ms\n",
            "58:\tlearn: 51.9499521\ttotal: 177ms\tremaining: 123ms\n",
            "59:\tlearn: 51.1165947\ttotal: 180ms\tremaining: 120ms\n",
            "60:\tlearn: 50.9858253\ttotal: 183ms\tremaining: 117ms\n",
            "61:\tlearn: 50.2912049\ttotal: 186ms\tremaining: 114ms\n",
            "62:\tlearn: 50.1798634\ttotal: 188ms\tremaining: 111ms\n",
            "63:\tlearn: 50.0653574\ttotal: 191ms\tremaining: 107ms\n",
            "64:\tlearn: 49.9329729\ttotal: 194ms\tremaining: 104ms\n",
            "65:\tlearn: 49.7948279\ttotal: 197ms\tremaining: 101ms\n",
            "66:\tlearn: 49.6844227\ttotal: 201ms\tremaining: 98.8ms\n",
            "67:\tlearn: 49.5544879\ttotal: 205ms\tremaining: 96.3ms\n",
            "68:\tlearn: 49.4234073\ttotal: 209ms\tremaining: 94ms\n",
            "69:\tlearn: 49.2461584\ttotal: 212ms\tremaining: 90.8ms\n",
            "70:\tlearn: 48.8386748\ttotal: 215ms\tremaining: 87.7ms\n",
            "71:\tlearn: 48.7357637\ttotal: 218ms\tremaining: 84.6ms\n",
            "72:\tlearn: 48.6140066\ttotal: 220ms\tremaining: 81.6ms\n",
            "73:\tlearn: 48.5198866\ttotal: 223ms\tremaining: 78.5ms\n",
            "74:\tlearn: 48.4109162\ttotal: 226ms\tremaining: 75.4ms\n",
            "75:\tlearn: 47.9863439\ttotal: 229ms\tremaining: 72.3ms\n",
            "76:\tlearn: 47.3778895\ttotal: 232ms\tremaining: 69.3ms\n",
            "77:\tlearn: 47.2727497\ttotal: 235ms\tremaining: 66.2ms\n",
            "78:\tlearn: 47.1654199\ttotal: 238ms\tremaining: 63.2ms\n",
            "79:\tlearn: 47.0542817\ttotal: 241ms\tremaining: 60.1ms\n",
            "80:\tlearn: 46.9699936\ttotal: 243ms\tremaining: 57.1ms\n",
            "81:\tlearn: 46.8804772\ttotal: 246ms\tremaining: 54ms\n",
            "82:\tlearn: 46.1588939\ttotal: 249ms\tremaining: 51ms\n",
            "83:\tlearn: 45.8404366\ttotal: 252ms\tremaining: 48ms\n",
            "84:\tlearn: 45.7356784\ttotal: 255ms\tremaining: 45ms\n",
            "85:\tlearn: 45.4644832\ttotal: 261ms\tremaining: 42.5ms\n",
            "86:\tlearn: 45.3016494\ttotal: 266ms\tremaining: 39.8ms\n",
            "87:\tlearn: 45.0545749\ttotal: 269ms\tremaining: 36.7ms\n",
            "88:\tlearn: 44.8942532\ttotal: 272ms\tremaining: 33.6ms\n",
            "89:\tlearn: 44.7437528\ttotal: 277ms\tremaining: 30.8ms\n",
            "90:\tlearn: 44.6457250\ttotal: 281ms\tremaining: 27.8ms\n",
            "91:\tlearn: 44.5129031\ttotal: 284ms\tremaining: 24.7ms\n",
            "92:\tlearn: 44.4360625\ttotal: 287ms\tremaining: 21.6ms\n",
            "93:\tlearn: 44.3445136\ttotal: 290ms\tremaining: 18.5ms\n",
            "94:\tlearn: 44.2540019\ttotal: 293ms\tremaining: 15.4ms\n",
            "95:\tlearn: 44.1658521\ttotal: 296ms\tremaining: 12.3ms\n",
            "96:\tlearn: 44.0092467\ttotal: 298ms\tremaining: 9.23ms\n",
            "97:\tlearn: 43.8971400\ttotal: 301ms\tremaining: 6.14ms\n",
            "98:\tlearn: 43.8116818\ttotal: 304ms\tremaining: 3.07ms\n",
            "99:\tlearn: 43.4636871\ttotal: 307ms\tremaining: 0us\n",
            "0:\tlearn: 78.0266905\ttotal: 3.22ms\tremaining: 319ms\n",
            "1:\tlearn: 75.9721046\ttotal: 6.37ms\tremaining: 312ms\n",
            "2:\tlearn: 74.0621909\ttotal: 9.49ms\tremaining: 307ms\n",
            "3:\tlearn: 72.2920041\ttotal: 12.6ms\tremaining: 303ms\n",
            "4:\tlearn: 70.8323812\ttotal: 15.7ms\tremaining: 298ms\n",
            "5:\tlearn: 68.8888077\ttotal: 18.7ms\tremaining: 293ms\n",
            "6:\tlearn: 67.7132522\ttotal: 21.8ms\tremaining: 290ms\n",
            "7:\tlearn: 66.1697574\ttotal: 24.9ms\tremaining: 286ms\n",
            "8:\tlearn: 65.2147575\ttotal: 28.4ms\tremaining: 287ms\n",
            "9:\tlearn: 64.3836077\ttotal: 31.4ms\tremaining: 283ms\n",
            "10:\tlearn: 63.5000972\ttotal: 34.5ms\tremaining: 279ms\n",
            "11:\tlearn: 62.2485168\ttotal: 37.6ms\tremaining: 276ms\n",
            "12:\tlearn: 61.3497617\ttotal: 40.9ms\tremaining: 274ms\n",
            "13:\tlearn: 60.7218834\ttotal: 44ms\tremaining: 271ms\n",
            "14:\tlearn: 60.0213349\ttotal: 47.1ms\tremaining: 267ms\n",
            "15:\tlearn: 59.0586842\ttotal: 50.4ms\tremaining: 265ms\n",
            "16:\tlearn: 58.4615102\ttotal: 53.5ms\tremaining: 261ms\n",
            "17:\tlearn: 57.9894135\ttotal: 56.8ms\tremaining: 259ms\n",
            "18:\tlearn: 57.4362596\ttotal: 60ms\tremaining: 256ms\n",
            "19:\tlearn: 57.0571287\ttotal: 63.1ms\tremaining: 252ms\n",
            "20:\tlearn: 56.3004426\ttotal: 66.3ms\tremaining: 249ms\n",
            "21:\tlearn: 55.8452792\ttotal: 69.4ms\tremaining: 246ms\n",
            "22:\tlearn: 55.0129176\ttotal: 72.7ms\tremaining: 243ms\n",
            "23:\tlearn: 54.2960400\ttotal: 75.9ms\tremaining: 240ms\n",
            "24:\tlearn: 53.9809485\ttotal: 79.1ms\tremaining: 237ms\n",
            "25:\tlearn: 53.5299553\ttotal: 82.1ms\tremaining: 234ms\n",
            "26:\tlearn: 51.9744522\ttotal: 87ms\tremaining: 235ms\n",
            "27:\tlearn: 51.3915774\ttotal: 92ms\tremaining: 236ms\n",
            "28:\tlearn: 51.0987728\ttotal: 96.6ms\tremaining: 237ms\n",
            "29:\tlearn: 50.6292314\ttotal: 101ms\tremaining: 235ms\n",
            "30:\tlearn: 50.2514734\ttotal: 104ms\tremaining: 231ms\n",
            "31:\tlearn: 49.7452597\ttotal: 109ms\tremaining: 232ms\n",
            "32:\tlearn: 48.4551346\ttotal: 117ms\tremaining: 237ms\n",
            "33:\tlearn: 47.9798094\ttotal: 119ms\tremaining: 232ms\n",
            "34:\tlearn: 47.3294668\ttotal: 122ms\tremaining: 227ms\n",
            "35:\tlearn: 46.9644947\ttotal: 125ms\tremaining: 223ms\n",
            "36:\tlearn: 45.9067152\ttotal: 128ms\tremaining: 218ms\n",
            "37:\tlearn: 45.6206920\ttotal: 131ms\tremaining: 214ms\n",
            "38:\tlearn: 45.0259515\ttotal: 134ms\tremaining: 210ms\n",
            "39:\tlearn: 44.7204127\ttotal: 137ms\tremaining: 205ms\n",
            "40:\tlearn: 44.4133182\ttotal: 140ms\tremaining: 202ms\n",
            "41:\tlearn: 44.0643345\ttotal: 144ms\tremaining: 198ms\n",
            "42:\tlearn: 43.3970320\ttotal: 147ms\tremaining: 194ms\n",
            "43:\tlearn: 43.1418912\ttotal: 150ms\tremaining: 191ms\n",
            "44:\tlearn: 42.8899095\ttotal: 153ms\tremaining: 187ms\n",
            "45:\tlearn: 42.6053336\ttotal: 156ms\tremaining: 183ms\n",
            "46:\tlearn: 42.3583448\ttotal: 159ms\tremaining: 179ms\n",
            "47:\tlearn: 41.5470575\ttotal: 162ms\tremaining: 176ms\n",
            "48:\tlearn: 41.3064496\ttotal: 166ms\tremaining: 172ms\n",
            "49:\tlearn: 41.0916457\ttotal: 169ms\tremaining: 169ms\n",
            "50:\tlearn: 40.9240156\ttotal: 172ms\tremaining: 165ms\n",
            "51:\tlearn: 40.4123605\ttotal: 175ms\tremaining: 162ms\n",
            "52:\tlearn: 39.7267628\ttotal: 178ms\tremaining: 158ms\n",
            "53:\tlearn: 39.5077027\ttotal: 181ms\tremaining: 155ms\n",
            "54:\tlearn: 39.2136734\ttotal: 185ms\tremaining: 151ms\n",
            "55:\tlearn: 38.9490062\ttotal: 188ms\tremaining: 148ms\n",
            "56:\tlearn: 38.7842350\ttotal: 191ms\tremaining: 144ms\n",
            "57:\tlearn: 38.3113023\ttotal: 194ms\tremaining: 140ms\n",
            "58:\tlearn: 38.1826633\ttotal: 197ms\tremaining: 137ms\n",
            "59:\tlearn: 37.9938773\ttotal: 200ms\tremaining: 133ms\n",
            "60:\tlearn: 37.7587287\ttotal: 203ms\tremaining: 130ms\n",
            "61:\tlearn: 37.5333192\ttotal: 206ms\tremaining: 126ms\n",
            "62:\tlearn: 36.9416223\ttotal: 209ms\tremaining: 123ms\n",
            "63:\tlearn: 36.4999004\ttotal: 213ms\tremaining: 120ms\n",
            "64:\tlearn: 36.1934090\ttotal: 216ms\tremaining: 116ms\n",
            "65:\tlearn: 35.7902735\ttotal: 219ms\tremaining: 113ms\n",
            "66:\tlearn: 35.6286864\ttotal: 222ms\tremaining: 109ms\n",
            "67:\tlearn: 35.5093688\ttotal: 225ms\tremaining: 106ms\n",
            "68:\tlearn: 35.2055932\ttotal: 228ms\tremaining: 103ms\n",
            "69:\tlearn: 34.6931706\ttotal: 232ms\tremaining: 99.2ms\n",
            "70:\tlearn: 34.5506309\ttotal: 234ms\tremaining: 95.8ms\n",
            "71:\tlearn: 34.1765741\ttotal: 238ms\tremaining: 92.4ms\n",
            "72:\tlearn: 33.7012679\ttotal: 241ms\tremaining: 89ms\n",
            "73:\tlearn: 33.5817673\ttotal: 244ms\tremaining: 85.6ms\n",
            "74:\tlearn: 33.3776571\ttotal: 247ms\tremaining: 82.3ms\n",
            "75:\tlearn: 33.2334161\ttotal: 250ms\tremaining: 79ms\n",
            "76:\tlearn: 32.9717335\ttotal: 253ms\tremaining: 75.6ms\n",
            "77:\tlearn: 32.7776559\ttotal: 256ms\tremaining: 72.3ms\n",
            "78:\tlearn: 32.6575120\ttotal: 260ms\tremaining: 69ms\n",
            "79:\tlearn: 32.3118187\ttotal: 263ms\tremaining: 65.7ms\n",
            "80:\tlearn: 32.1758720\ttotal: 266ms\tremaining: 62.4ms\n",
            "81:\tlearn: 31.9118455\ttotal: 269ms\tremaining: 59ms\n",
            "82:\tlearn: 31.4843899\ttotal: 272ms\tremaining: 55.7ms\n",
            "83:\tlearn: 31.1246264\ttotal: 275ms\tremaining: 52.4ms\n",
            "84:\tlearn: 30.9804119\ttotal: 278ms\tremaining: 49.1ms\n",
            "85:\tlearn: 30.8235873\ttotal: 281ms\tremaining: 45.8ms\n",
            "86:\tlearn: 30.6005948\ttotal: 284ms\tremaining: 42.5ms\n",
            "87:\tlearn: 30.4884493\ttotal: 288ms\tremaining: 39.2ms\n",
            "88:\tlearn: 30.3115340\ttotal: 291ms\tremaining: 35.9ms\n",
            "89:\tlearn: 30.0331226\ttotal: 294ms\tremaining: 32.6ms\n",
            "90:\tlearn: 29.8034065\ttotal: 297ms\tremaining: 29.3ms\n",
            "91:\tlearn: 29.6587272\ttotal: 300ms\tremaining: 26.1ms\n",
            "92:\tlearn: 29.3247789\ttotal: 305ms\tremaining: 23ms\n",
            "93:\tlearn: 29.1074121\ttotal: 311ms\tremaining: 19.9ms\n",
            "94:\tlearn: 29.0058035\ttotal: 315ms\tremaining: 16.6ms\n",
            "95:\tlearn: 28.9376783\ttotal: 318ms\tremaining: 13.2ms\n",
            "96:\tlearn: 28.6735719\ttotal: 321ms\tremaining: 9.92ms\n",
            "97:\tlearn: 28.3763074\ttotal: 324ms\tremaining: 6.61ms\n",
            "98:\tlearn: 28.2951827\ttotal: 327ms\tremaining: 3.3ms\n",
            "99:\tlearn: 28.1117788\ttotal: 330ms\tremaining: 0us\n",
            "0:\tlearn: 78.0707398\ttotal: 4.17ms\tremaining: 413ms\n",
            "1:\tlearn: 76.0256605\ttotal: 7.54ms\tremaining: 370ms\n",
            "2:\tlearn: 74.1350213\ttotal: 10.4ms\tremaining: 336ms\n",
            "3:\tlearn: 72.3331924\ttotal: 13.7ms\tremaining: 328ms\n",
            "4:\tlearn: 70.8907474\ttotal: 16.8ms\tremaining: 320ms\n",
            "5:\tlearn: 68.9547997\ttotal: 20ms\tremaining: 313ms\n",
            "6:\tlearn: 67.7953939\ttotal: 23.1ms\tremaining: 307ms\n",
            "7:\tlearn: 66.6850354\ttotal: 26.3ms\tremaining: 303ms\n",
            "8:\tlearn: 65.1495759\ttotal: 29.5ms\tremaining: 298ms\n",
            "9:\tlearn: 64.2468812\ttotal: 32.8ms\tremaining: 295ms\n",
            "10:\tlearn: 63.1820909\ttotal: 36.5ms\tremaining: 295ms\n",
            "11:\tlearn: 61.9371186\ttotal: 39.6ms\tremaining: 290ms\n",
            "12:\tlearn: 61.0804805\ttotal: 42.9ms\tremaining: 287ms\n",
            "13:\tlearn: 60.1844556\ttotal: 46.2ms\tremaining: 284ms\n",
            "14:\tlearn: 59.1849938\ttotal: 49.3ms\tremaining: 280ms\n",
            "15:\tlearn: 58.3895250\ttotal: 52.6ms\tremaining: 276ms\n",
            "16:\tlearn: 57.6433983\ttotal: 55.8ms\tremaining: 273ms\n",
            "17:\tlearn: 57.0585437\ttotal: 59ms\tremaining: 269ms\n",
            "18:\tlearn: 56.4456095\ttotal: 62.3ms\tremaining: 266ms\n",
            "19:\tlearn: 55.9498134\ttotal: 65.5ms\tremaining: 262ms\n",
            "20:\tlearn: 55.4059011\ttotal: 68.7ms\tremaining: 258ms\n",
            "21:\tlearn: 54.9480969\ttotal: 71.9ms\tremaining: 255ms\n",
            "22:\tlearn: 54.3231755\ttotal: 75ms\tremaining: 251ms\n",
            "23:\tlearn: 53.7282286\ttotal: 78.4ms\tremaining: 248ms\n",
            "24:\tlearn: 52.9789281\ttotal: 83.4ms\tremaining: 250ms\n",
            "25:\tlearn: 51.6020536\ttotal: 86.6ms\tremaining: 247ms\n",
            "26:\tlearn: 51.1796801\ttotal: 89.8ms\tremaining: 243ms\n",
            "27:\tlearn: 50.7474298\ttotal: 93ms\tremaining: 239ms\n",
            "28:\tlearn: 50.3985844\ttotal: 96.3ms\tremaining: 236ms\n",
            "29:\tlearn: 49.9886139\ttotal: 99.4ms\tremaining: 232ms\n",
            "30:\tlearn: 49.5791477\ttotal: 103ms\tremaining: 228ms\n",
            "31:\tlearn: 48.2841045\ttotal: 106ms\tremaining: 225ms\n",
            "32:\tlearn: 47.9513849\ttotal: 109ms\tremaining: 222ms\n",
            "33:\tlearn: 47.5830652\ttotal: 112ms\tremaining: 218ms\n",
            "34:\tlearn: 46.5764990\ttotal: 116ms\tremaining: 215ms\n",
            "35:\tlearn: 46.3202103\ttotal: 119ms\tremaining: 211ms\n",
            "36:\tlearn: 45.9496423\ttotal: 123ms\tremaining: 210ms\n",
            "37:\tlearn: 45.2937699\ttotal: 130ms\tremaining: 212ms\n",
            "38:\tlearn: 44.7094975\ttotal: 138ms\tremaining: 217ms\n",
            "39:\tlearn: 44.3415005\ttotal: 143ms\tremaining: 215ms\n",
            "40:\tlearn: 44.0316160\ttotal: 146ms\tremaining: 211ms\n",
            "41:\tlearn: 43.7264232\ttotal: 149ms\tremaining: 206ms\n",
            "42:\tlearn: 43.3857792\ttotal: 153ms\tremaining: 202ms\n",
            "43:\tlearn: 42.8480193\ttotal: 156ms\tremaining: 198ms\n",
            "44:\tlearn: 42.6277769\ttotal: 159ms\tremaining: 194ms\n",
            "45:\tlearn: 42.3194189\ttotal: 162ms\tremaining: 190ms\n",
            "46:\tlearn: 42.0619445\ttotal: 165ms\tremaining: 187ms\n",
            "47:\tlearn: 41.6770431\ttotal: 169ms\tremaining: 183ms\n",
            "48:\tlearn: 40.8029123\ttotal: 172ms\tremaining: 179ms\n",
            "49:\tlearn: 40.5989773\ttotal: 175ms\tremaining: 175ms\n",
            "50:\tlearn: 40.4080210\ttotal: 178ms\tremaining: 171ms\n",
            "51:\tlearn: 39.8998914\ttotal: 181ms\tremaining: 167ms\n",
            "52:\tlearn: 39.2104390\ttotal: 184ms\tremaining: 163ms\n",
            "53:\tlearn: 39.0357856\ttotal: 188ms\tremaining: 160ms\n",
            "54:\tlearn: 38.7795740\ttotal: 191ms\tremaining: 156ms\n",
            "55:\tlearn: 38.4158380\ttotal: 194ms\tremaining: 152ms\n",
            "56:\tlearn: 38.2494777\ttotal: 197ms\tremaining: 149ms\n",
            "57:\tlearn: 38.0411737\ttotal: 200ms\tremaining: 145ms\n",
            "58:\tlearn: 37.8876276\ttotal: 203ms\tremaining: 141ms\n",
            "59:\tlearn: 37.7508447\ttotal: 207ms\tremaining: 138ms\n",
            "60:\tlearn: 37.4946790\ttotal: 210ms\tremaining: 134ms\n",
            "61:\tlearn: 37.3225124\ttotal: 213ms\tremaining: 131ms\n",
            "62:\tlearn: 37.0625991\ttotal: 216ms\tremaining: 127ms\n",
            "63:\tlearn: 36.6769994\ttotal: 219ms\tremaining: 123ms\n",
            "64:\tlearn: 36.4618259\ttotal: 222ms\tremaining: 120ms\n",
            "65:\tlearn: 36.1203094\ttotal: 226ms\tremaining: 116ms\n",
            "66:\tlearn: 35.7318485\ttotal: 229ms\tremaining: 113ms\n",
            "67:\tlearn: 35.1116474\ttotal: 232ms\tremaining: 109ms\n",
            "68:\tlearn: 34.5995875\ttotal: 235ms\tremaining: 106ms\n",
            "69:\tlearn: 34.4103197\ttotal: 238ms\tremaining: 102ms\n",
            "70:\tlearn: 34.2100982\ttotal: 242ms\tremaining: 98.7ms\n",
            "71:\tlearn: 33.8698740\ttotal: 245ms\tremaining: 95.2ms\n",
            "72:\tlearn: 33.5199004\ttotal: 248ms\tremaining: 91.8ms\n",
            "73:\tlearn: 33.0973787\ttotal: 256ms\tremaining: 90.1ms\n",
            "74:\tlearn: 32.9341843\ttotal: 262ms\tremaining: 87.2ms\n",
            "75:\tlearn: 32.7981409\ttotal: 265ms\tremaining: 83.7ms\n",
            "76:\tlearn: 32.6527761\ttotal: 268ms\tremaining: 80.2ms\n",
            "77:\tlearn: 32.4840393\ttotal: 272ms\tremaining: 76.6ms\n",
            "78:\tlearn: 32.3590761\ttotal: 275ms\tremaining: 73.1ms\n",
            "79:\tlearn: 32.2193477\ttotal: 278ms\tremaining: 69.6ms\n",
            "80:\tlearn: 31.7872116\ttotal: 282ms\tremaining: 66.1ms\n",
            "81:\tlearn: 31.5001531\ttotal: 285ms\tremaining: 62.6ms\n",
            "82:\tlearn: 31.3518175\ttotal: 288ms\tremaining: 59.1ms\n",
            "83:\tlearn: 31.1556377\ttotal: 292ms\tremaining: 55.7ms\n",
            "84:\tlearn: 31.0342956\ttotal: 295ms\tremaining: 52.1ms\n",
            "85:\tlearn: 30.8729362\ttotal: 299ms\tremaining: 48.6ms\n",
            "86:\tlearn: 30.7721925\ttotal: 302ms\tremaining: 45.1ms\n",
            "87:\tlearn: 30.6219526\ttotal: 305ms\tremaining: 41.6ms\n",
            "88:\tlearn: 30.4926469\ttotal: 309ms\tremaining: 38.1ms\n",
            "89:\tlearn: 30.1337447\ttotal: 312ms\tremaining: 34.6ms\n",
            "90:\tlearn: 30.0224265\ttotal: 315ms\tremaining: 31.2ms\n",
            "91:\tlearn: 29.9296603\ttotal: 319ms\tremaining: 27.7ms\n",
            "92:\tlearn: 29.8183958\ttotal: 322ms\tremaining: 24.2ms\n",
            "93:\tlearn: 29.7441150\ttotal: 325ms\tremaining: 20.7ms\n",
            "94:\tlearn: 29.3367646\ttotal: 331ms\tremaining: 17.4ms\n",
            "95:\tlearn: 29.1537872\ttotal: 342ms\tremaining: 14.2ms\n",
            "96:\tlearn: 29.0431911\ttotal: 349ms\tremaining: 10.8ms\n",
            "97:\tlearn: 28.9265118\ttotal: 355ms\tremaining: 7.25ms\n",
            "98:\tlearn: 28.6897025\ttotal: 359ms\tremaining: 3.63ms\n",
            "99:\tlearn: 28.4209357\ttotal: 363ms\tremaining: 0us\n",
            "0:\tlearn: 77.9698248\ttotal: 3.34ms\tremaining: 331ms\n",
            "1:\tlearn: 75.9124919\ttotal: 6.78ms\tremaining: 332ms\n",
            "2:\tlearn: 74.0241700\ttotal: 10ms\tremaining: 324ms\n",
            "3:\tlearn: 72.2346886\ttotal: 13.4ms\tremaining: 321ms\n",
            "4:\tlearn: 70.7935704\ttotal: 17ms\tremaining: 323ms\n",
            "5:\tlearn: 68.9159710\ttotal: 20.3ms\tremaining: 318ms\n",
            "6:\tlearn: 67.7578527\ttotal: 23.6ms\tremaining: 313ms\n",
            "7:\tlearn: 66.6444675\ttotal: 27.1ms\tremaining: 312ms\n",
            "8:\tlearn: 65.1588666\ttotal: 30.4ms\tremaining: 307ms\n",
            "9:\tlearn: 64.3854878\ttotal: 33.6ms\tremaining: 303ms\n",
            "10:\tlearn: 63.1630247\ttotal: 36.9ms\tremaining: 298ms\n",
            "11:\tlearn: 62.3553858\ttotal: 40.2ms\tremaining: 295ms\n",
            "12:\tlearn: 61.3952747\ttotal: 43.7ms\tremaining: 292ms\n",
            "13:\tlearn: 60.4512194\ttotal: 47.2ms\tremaining: 290ms\n",
            "14:\tlearn: 59.8192678\ttotal: 50.4ms\tremaining: 286ms\n",
            "15:\tlearn: 58.9708867\ttotal: 53.7ms\tremaining: 282ms\n",
            "16:\tlearn: 58.2720410\ttotal: 57.1ms\tremaining: 279ms\n",
            "17:\tlearn: 57.3437615\ttotal: 61ms\tremaining: 278ms\n",
            "18:\tlearn: 56.8317209\ttotal: 64.4ms\tremaining: 275ms\n",
            "19:\tlearn: 56.2824512\ttotal: 67.6ms\tremaining: 271ms\n",
            "20:\tlearn: 55.8184233\ttotal: 71ms\tremaining: 267ms\n",
            "21:\tlearn: 55.2733403\ttotal: 74.3ms\tremaining: 264ms\n",
            "22:\tlearn: 54.4343814\ttotal: 77.6ms\tremaining: 260ms\n",
            "23:\tlearn: 54.0043505\ttotal: 80.7ms\tremaining: 255ms\n",
            "24:\tlearn: 53.3875306\ttotal: 83.9ms\tremaining: 252ms\n",
            "25:\tlearn: 51.8248667\ttotal: 87.6ms\tremaining: 249ms\n",
            "26:\tlearn: 51.4655349\ttotal: 90.6ms\tremaining: 245ms\n",
            "27:\tlearn: 50.9284770\ttotal: 93.8ms\tremaining: 241ms\n",
            "28:\tlearn: 50.5423161\ttotal: 96.8ms\tremaining: 237ms\n",
            "29:\tlearn: 50.1071364\ttotal: 99.9ms\tremaining: 233ms\n",
            "30:\tlearn: 49.6923991\ttotal: 103ms\tremaining: 229ms\n",
            "31:\tlearn: 49.1756804\ttotal: 106ms\tremaining: 226ms\n",
            "32:\tlearn: 48.8414837\ttotal: 109ms\tremaining: 222ms\n",
            "33:\tlearn: 47.5819897\ttotal: 112ms\tremaining: 218ms\n",
            "34:\tlearn: 47.3031059\ttotal: 117ms\tremaining: 217ms\n",
            "35:\tlearn: 47.0247565\ttotal: 125ms\tremaining: 221ms\n",
            "36:\tlearn: 45.9844348\ttotal: 127ms\tremaining: 217ms\n",
            "37:\tlearn: 45.4194652\ttotal: 131ms\tremaining: 213ms\n",
            "38:\tlearn: 45.1336354\ttotal: 134ms\tremaining: 209ms\n",
            "39:\tlearn: 44.9403822\ttotal: 137ms\tremaining: 206ms\n",
            "40:\tlearn: 44.6067625\ttotal: 140ms\tremaining: 202ms\n",
            "41:\tlearn: 44.1897522\ttotal: 143ms\tremaining: 198ms\n",
            "42:\tlearn: 43.8507461\ttotal: 146ms\tremaining: 194ms\n",
            "43:\tlearn: 43.3286922\ttotal: 150ms\tremaining: 190ms\n",
            "44:\tlearn: 43.0921399\ttotal: 153ms\tremaining: 187ms\n",
            "45:\tlearn: 42.8062581\ttotal: 156ms\tremaining: 183ms\n",
            "46:\tlearn: 41.9297005\ttotal: 159ms\tremaining: 179ms\n",
            "47:\tlearn: 41.5760617\ttotal: 162ms\tremaining: 176ms\n",
            "48:\tlearn: 41.3221894\ttotal: 165ms\tremaining: 172ms\n",
            "49:\tlearn: 41.0166953\ttotal: 168ms\tremaining: 168ms\n",
            "50:\tlearn: 40.7366249\ttotal: 171ms\tremaining: 165ms\n",
            "51:\tlearn: 40.4854027\ttotal: 175ms\tremaining: 161ms\n",
            "52:\tlearn: 40.2716785\ttotal: 178ms\tremaining: 158ms\n",
            "53:\tlearn: 40.0689392\ttotal: 181ms\tremaining: 154ms\n",
            "54:\tlearn: 39.8896852\ttotal: 184ms\tremaining: 151ms\n",
            "55:\tlearn: 39.7254413\ttotal: 187ms\tremaining: 147ms\n",
            "56:\tlearn: 39.2208909\ttotal: 190ms\tremaining: 143ms\n",
            "57:\tlearn: 39.0349396\ttotal: 193ms\tremaining: 140ms\n",
            "58:\tlearn: 38.5766164\ttotal: 197ms\tremaining: 137ms\n",
            "59:\tlearn: 38.4278550\ttotal: 200ms\tremaining: 133ms\n",
            "60:\tlearn: 38.0514084\ttotal: 203ms\tremaining: 130ms\n",
            "61:\tlearn: 37.8521152\ttotal: 206ms\tremaining: 126ms\n",
            "62:\tlearn: 37.6252956\ttotal: 209ms\tremaining: 123ms\n",
            "63:\tlearn: 37.2584701\ttotal: 212ms\tremaining: 119ms\n",
            "64:\tlearn: 36.8309129\ttotal: 215ms\tremaining: 116ms\n",
            "65:\tlearn: 36.6272717\ttotal: 218ms\tremaining: 112ms\n",
            "66:\tlearn: 36.3128266\ttotal: 221ms\tremaining: 109ms\n",
            "67:\tlearn: 36.2002026\ttotal: 225ms\tremaining: 106ms\n",
            "68:\tlearn: 35.7535984\ttotal: 228ms\tremaining: 102ms\n",
            "69:\tlearn: 35.0343418\ttotal: 231ms\tremaining: 98.9ms\n",
            "70:\tlearn: 34.7030149\ttotal: 234ms\tremaining: 95.5ms\n",
            "71:\tlearn: 34.0643349\ttotal: 237ms\tremaining: 92.2ms\n",
            "72:\tlearn: 33.7660628\ttotal: 240ms\tremaining: 88.8ms\n",
            "73:\tlearn: 33.6014520\ttotal: 243ms\tremaining: 85.5ms\n",
            "74:\tlearn: 33.4069534\ttotal: 246ms\tremaining: 82.1ms\n",
            "75:\tlearn: 33.2179890\ttotal: 250ms\tremaining: 78.9ms\n",
            "76:\tlearn: 32.9908935\ttotal: 253ms\tremaining: 75.6ms\n",
            "77:\tlearn: 32.8629203\ttotal: 256ms\tremaining: 72.3ms\n",
            "78:\tlearn: 32.6670004\ttotal: 259ms\tremaining: 68.9ms\n",
            "79:\tlearn: 32.5306340\ttotal: 263ms\tremaining: 65.7ms\n",
            "80:\tlearn: 31.9998131\ttotal: 266ms\tremaining: 62.4ms\n",
            "81:\tlearn: 31.8278957\ttotal: 269ms\tremaining: 59ms\n",
            "82:\tlearn: 31.6958611\ttotal: 272ms\tremaining: 55.7ms\n",
            "83:\tlearn: 31.4956101\ttotal: 276ms\tremaining: 52.5ms\n",
            "84:\tlearn: 31.4045898\ttotal: 281ms\tremaining: 49.7ms\n",
            "85:\tlearn: 31.2735310\ttotal: 287ms\tremaining: 46.8ms\n",
            "86:\tlearn: 31.1052683\ttotal: 291ms\tremaining: 43.5ms\n",
            "87:\tlearn: 30.9667655\ttotal: 295ms\tremaining: 40.2ms\n",
            "88:\tlearn: 30.7891394\ttotal: 298ms\tremaining: 36.8ms\n",
            "89:\tlearn: 30.6150258\ttotal: 301ms\tremaining: 33.5ms\n",
            "90:\tlearn: 30.5166702\ttotal: 304ms\tremaining: 30.1ms\n",
            "91:\tlearn: 30.0605863\ttotal: 307ms\tremaining: 26.7ms\n",
            "92:\tlearn: 29.9269500\ttotal: 311ms\tremaining: 23.4ms\n",
            "93:\tlearn: 29.6711386\ttotal: 320ms\tremaining: 20.4ms\n",
            "94:\tlearn: 29.5830965\ttotal: 323ms\tremaining: 17ms\n",
            "95:\tlearn: 29.4743951\ttotal: 326ms\tremaining: 13.6ms\n",
            "96:\tlearn: 29.2635102\ttotal: 329ms\tremaining: 10.2ms\n",
            "97:\tlearn: 28.9087079\ttotal: 332ms\tremaining: 6.78ms\n",
            "98:\tlearn: 28.7480267\ttotal: 335ms\tremaining: 3.38ms\n",
            "99:\tlearn: 28.5924579\ttotal: 338ms\tremaining: 0us\n",
            "0:\tlearn: 77.5601974\ttotal: 3.57ms\tremaining: 353ms\n",
            "1:\tlearn: 75.5194059\ttotal: 6.98ms\tremaining: 342ms\n",
            "2:\tlearn: 73.6264850\ttotal: 10.2ms\tremaining: 331ms\n",
            "3:\tlearn: 71.9054311\ttotal: 13.7ms\tremaining: 328ms\n",
            "4:\tlearn: 70.4582455\ttotal: 17.1ms\tremaining: 326ms\n",
            "5:\tlearn: 68.5404381\ttotal: 20.7ms\tremaining: 325ms\n",
            "6:\tlearn: 67.3747818\ttotal: 24.1ms\tremaining: 320ms\n",
            "7:\tlearn: 65.8546155\ttotal: 27.2ms\tremaining: 313ms\n",
            "8:\tlearn: 64.8833054\ttotal: 30.4ms\tremaining: 307ms\n",
            "9:\tlearn: 64.0503961\ttotal: 33.5ms\tremaining: 301ms\n",
            "10:\tlearn: 63.1808885\ttotal: 36.6ms\tremaining: 296ms\n",
            "11:\tlearn: 61.9650126\ttotal: 39.7ms\tremaining: 291ms\n",
            "12:\tlearn: 61.0461204\ttotal: 43.1ms\tremaining: 288ms\n",
            "13:\tlearn: 60.3969187\ttotal: 46.2ms\tremaining: 284ms\n",
            "14:\tlearn: 59.4059964\ttotal: 49.3ms\tremaining: 279ms\n",
            "15:\tlearn: 58.6162098\ttotal: 52.4ms\tremaining: 275ms\n",
            "16:\tlearn: 58.0401919\ttotal: 55.6ms\tremaining: 272ms\n",
            "17:\tlearn: 57.1857570\ttotal: 58.9ms\tremaining: 268ms\n",
            "18:\tlearn: 56.6007231\ttotal: 62ms\tremaining: 264ms\n",
            "19:\tlearn: 56.1698568\ttotal: 65.3ms\tremaining: 261ms\n",
            "20:\tlearn: 55.4103493\ttotal: 68.5ms\tremaining: 258ms\n",
            "21:\tlearn: 54.9301221\ttotal: 71.6ms\tremaining: 254ms\n",
            "22:\tlearn: 54.6299754\ttotal: 74.8ms\tremaining: 250ms\n",
            "23:\tlearn: 54.2145887\ttotal: 78ms\tremaining: 247ms\n",
            "24:\tlearn: 53.8358345\ttotal: 81.1ms\tremaining: 243ms\n",
            "25:\tlearn: 53.3914953\ttotal: 84.3ms\tremaining: 240ms\n",
            "26:\tlearn: 53.0689736\ttotal: 87.4ms\tremaining: 236ms\n",
            "27:\tlearn: 52.6349440\ttotal: 90.5ms\tremaining: 233ms\n",
            "28:\tlearn: 51.8977369\ttotal: 94.1ms\tremaining: 230ms\n",
            "29:\tlearn: 50.4084193\ttotal: 99.7ms\tremaining: 233ms\n",
            "30:\tlearn: 49.9394195\ttotal: 104ms\tremaining: 232ms\n",
            "31:\tlearn: 49.6867497\ttotal: 108ms\tremaining: 229ms\n",
            "32:\tlearn: 49.1886618\ttotal: 111ms\tremaining: 226ms\n",
            "33:\tlearn: 48.9338164\ttotal: 115ms\tremaining: 222ms\n",
            "34:\tlearn: 48.6523648\ttotal: 120ms\tremaining: 222ms\n",
            "35:\tlearn: 48.3013186\ttotal: 126ms\tremaining: 224ms\n",
            "36:\tlearn: 47.8399930\ttotal: 129ms\tremaining: 220ms\n",
            "37:\tlearn: 47.1193651\ttotal: 132ms\tremaining: 216ms\n",
            "38:\tlearn: 46.8880154\ttotal: 139ms\tremaining: 218ms\n",
            "39:\tlearn: 46.7109371\ttotal: 144ms\tremaining: 216ms\n",
            "40:\tlearn: 46.4945043\ttotal: 147ms\tremaining: 212ms\n",
            "41:\tlearn: 45.1928891\ttotal: 150ms\tremaining: 208ms\n",
            "42:\tlearn: 44.9530465\ttotal: 154ms\tremaining: 204ms\n",
            "43:\tlearn: 44.3685640\ttotal: 159ms\tremaining: 202ms\n",
            "44:\tlearn: 44.1621351\ttotal: 164ms\tremaining: 200ms\n",
            "45:\tlearn: 43.0849426\ttotal: 167ms\tremaining: 196ms\n",
            "46:\tlearn: 42.9257990\ttotal: 170ms\tremaining: 191ms\n",
            "47:\tlearn: 42.5433515\ttotal: 173ms\tremaining: 187ms\n",
            "48:\tlearn: 42.2032881\ttotal: 176ms\tremaining: 183ms\n",
            "49:\tlearn: 41.9167086\ttotal: 179ms\tremaining: 179ms\n",
            "50:\tlearn: 41.7280301\ttotal: 182ms\tremaining: 175ms\n",
            "51:\tlearn: 41.4817188\ttotal: 185ms\tremaining: 170ms\n",
            "52:\tlearn: 40.6378737\ttotal: 188ms\tremaining: 166ms\n",
            "53:\tlearn: 40.4783746\ttotal: 190ms\tremaining: 162ms\n",
            "54:\tlearn: 40.3045713\ttotal: 193ms\tremaining: 158ms\n",
            "55:\tlearn: 39.8714938\ttotal: 196ms\tremaining: 154ms\n",
            "56:\tlearn: 39.6439630\ttotal: 199ms\tremaining: 150ms\n",
            "57:\tlearn: 39.4736872\ttotal: 202ms\tremaining: 146ms\n",
            "58:\tlearn: 39.2446733\ttotal: 205ms\tremaining: 142ms\n",
            "59:\tlearn: 39.0597626\ttotal: 208ms\tremaining: 139ms\n",
            "60:\tlearn: 38.7893654\ttotal: 211ms\tremaining: 135ms\n",
            "61:\tlearn: 38.5722790\ttotal: 214ms\tremaining: 131ms\n",
            "62:\tlearn: 38.3925328\ttotal: 217ms\tremaining: 127ms\n",
            "63:\tlearn: 38.2212428\ttotal: 220ms\tremaining: 124ms\n",
            "64:\tlearn: 37.8428326\ttotal: 223ms\tremaining: 120ms\n",
            "65:\tlearn: 37.4425053\ttotal: 226ms\tremaining: 116ms\n",
            "66:\tlearn: 36.9096126\ttotal: 229ms\tremaining: 113ms\n",
            "67:\tlearn: 36.5295527\ttotal: 233ms\tremaining: 110ms\n",
            "68:\tlearn: 35.7637885\ttotal: 236ms\tremaining: 106ms\n",
            "69:\tlearn: 35.5810725\ttotal: 239ms\tremaining: 103ms\n",
            "70:\tlearn: 35.4331331\ttotal: 243ms\tremaining: 99.1ms\n",
            "71:\tlearn: 35.3023786\ttotal: 246ms\tremaining: 95.5ms\n",
            "72:\tlearn: 34.6559867\ttotal: 249ms\tremaining: 92ms\n",
            "73:\tlearn: 34.2987828\ttotal: 252ms\tremaining: 88.5ms\n",
            "74:\tlearn: 34.1394224\ttotal: 255ms\tremaining: 85.1ms\n",
            "75:\tlearn: 34.0088872\ttotal: 258ms\tremaining: 81.6ms\n",
            "76:\tlearn: 33.8530529\ttotal: 262ms\tremaining: 78.1ms\n",
            "77:\tlearn: 33.2960257\ttotal: 265ms\tremaining: 74.7ms\n",
            "78:\tlearn: 33.1253954\ttotal: 268ms\tremaining: 71.3ms\n",
            "79:\tlearn: 32.9520723\ttotal: 272ms\tremaining: 67.9ms\n",
            "80:\tlearn: 32.8366176\ttotal: 275ms\tremaining: 64.5ms\n",
            "81:\tlearn: 32.7280224\ttotal: 278ms\tremaining: 61ms\n",
            "82:\tlearn: 32.4290512\ttotal: 281ms\tremaining: 57.6ms\n",
            "83:\tlearn: 32.3120891\ttotal: 284ms\tremaining: 54.2ms\n",
            "84:\tlearn: 32.0051739\ttotal: 288ms\tremaining: 50.7ms\n",
            "85:\tlearn: 31.7356415\ttotal: 291ms\tremaining: 47.3ms\n",
            "86:\tlearn: 31.4964743\ttotal: 294ms\tremaining: 43.9ms\n",
            "87:\tlearn: 31.2752607\ttotal: 297ms\tremaining: 40.5ms\n",
            "88:\tlearn: 31.1360725\ttotal: 300ms\tremaining: 37.1ms\n",
            "89:\tlearn: 31.0448862\ttotal: 304ms\tremaining: 33.7ms\n",
            "90:\tlearn: 30.9438628\ttotal: 307ms\tremaining: 30.4ms\n",
            "91:\tlearn: 30.4544545\ttotal: 310ms\tremaining: 27ms\n",
            "92:\tlearn: 30.3976390\ttotal: 313ms\tremaining: 23.6ms\n",
            "93:\tlearn: 30.3162115\ttotal: 317ms\tremaining: 20.2ms\n",
            "94:\tlearn: 30.1436204\ttotal: 320ms\tremaining: 16.8ms\n",
            "95:\tlearn: 29.7524650\ttotal: 323ms\tremaining: 13.5ms\n",
            "96:\tlearn: 29.6142278\ttotal: 326ms\tremaining: 10.1ms\n",
            "97:\tlearn: 29.4420118\ttotal: 331ms\tremaining: 6.75ms\n",
            "98:\tlearn: 29.2632315\ttotal: 339ms\tremaining: 3.42ms\n",
            "99:\tlearn: 28.9059832\ttotal: 342ms\tremaining: 0us\n",
            "0:\tlearn: 77.5567421\ttotal: 3.21ms\tremaining: 317ms\n",
            "1:\tlearn: 75.4430361\ttotal: 6.48ms\tremaining: 317ms\n",
            "2:\tlearn: 73.4995339\ttotal: 9.6ms\tremaining: 310ms\n",
            "3:\tlearn: 71.7130099\ttotal: 12.9ms\tremaining: 310ms\n",
            "4:\tlearn: 70.2306957\ttotal: 16.1ms\tremaining: 305ms\n",
            "5:\tlearn: 69.0501155\ttotal: 19.4ms\tremaining: 304ms\n",
            "6:\tlearn: 67.9368917\ttotal: 22.5ms\tremaining: 299ms\n",
            "7:\tlearn: 66.1635740\ttotal: 25.7ms\tremaining: 296ms\n",
            "8:\tlearn: 65.1068627\ttotal: 28.8ms\tremaining: 292ms\n",
            "9:\tlearn: 63.6852501\ttotal: 32.1ms\tremaining: 289ms\n",
            "10:\tlearn: 62.4075897\ttotal: 35.3ms\tremaining: 286ms\n",
            "11:\tlearn: 61.6189302\ttotal: 38.5ms\tremaining: 282ms\n",
            "12:\tlearn: 60.7215649\ttotal: 42ms\tremaining: 281ms\n",
            "13:\tlearn: 60.0769179\ttotal: 45.2ms\tremaining: 278ms\n",
            "14:\tlearn: 59.0886927\ttotal: 48.4ms\tremaining: 274ms\n",
            "15:\tlearn: 58.2531827\ttotal: 51.7ms\tremaining: 271ms\n",
            "16:\tlearn: 57.6421703\ttotal: 54.9ms\tremaining: 268ms\n",
            "17:\tlearn: 57.1735356\ttotal: 58.1ms\tremaining: 265ms\n",
            "18:\tlearn: 56.5998964\ttotal: 61.3ms\tremaining: 261ms\n",
            "19:\tlearn: 56.0250527\ttotal: 64.6ms\tremaining: 258ms\n",
            "20:\tlearn: 55.6198746\ttotal: 67.7ms\tremaining: 255ms\n",
            "21:\tlearn: 55.2211876\ttotal: 72.3ms\tremaining: 256ms\n",
            "22:\tlearn: 54.9127339\ttotal: 75.5ms\tremaining: 253ms\n",
            "23:\tlearn: 54.1301338\ttotal: 78.7ms\tremaining: 249ms\n",
            "24:\tlearn: 52.4926039\ttotal: 81.9ms\tremaining: 246ms\n",
            "25:\tlearn: 52.0464146\ttotal: 85ms\tremaining: 242ms\n",
            "26:\tlearn: 51.6620786\ttotal: 88.3ms\tremaining: 239ms\n",
            "27:\tlearn: 51.1265671\ttotal: 91.5ms\tremaining: 235ms\n",
            "28:\tlearn: 50.5766033\ttotal: 96.4ms\tremaining: 236ms\n",
            "29:\tlearn: 49.8869341\ttotal: 99.5ms\tremaining: 232ms\n",
            "30:\tlearn: 49.4217622\ttotal: 102ms\tremaining: 228ms\n",
            "31:\tlearn: 49.0097973\ttotal: 105ms\tremaining: 224ms\n",
            "32:\tlearn: 48.6592820\ttotal: 108ms\tremaining: 220ms\n",
            "33:\tlearn: 47.3468354\ttotal: 111ms\tremaining: 216ms\n",
            "34:\tlearn: 46.2829155\ttotal: 114ms\tremaining: 212ms\n",
            "35:\tlearn: 46.0108013\ttotal: 117ms\tremaining: 209ms\n",
            "36:\tlearn: 45.6184533\ttotal: 121ms\tremaining: 205ms\n",
            "37:\tlearn: 45.3178222\ttotal: 124ms\tremaining: 202ms\n",
            "38:\tlearn: 44.7038320\ttotal: 127ms\tremaining: 199ms\n",
            "39:\tlearn: 44.3706840\ttotal: 130ms\tremaining: 195ms\n",
            "40:\tlearn: 44.0780957\ttotal: 135ms\tremaining: 194ms\n",
            "41:\tlearn: 43.6721333\ttotal: 138ms\tremaining: 190ms\n",
            "42:\tlearn: 43.3397110\ttotal: 146ms\tremaining: 193ms\n",
            "43:\tlearn: 42.7938272\ttotal: 155ms\tremaining: 197ms\n",
            "44:\tlearn: 42.5807773\ttotal: 162ms\tremaining: 198ms\n",
            "45:\tlearn: 42.3336761\ttotal: 165ms\tremaining: 194ms\n",
            "46:\tlearn: 42.1295831\ttotal: 168ms\tremaining: 189ms\n",
            "47:\tlearn: 41.8158848\ttotal: 171ms\tremaining: 185ms\n",
            "48:\tlearn: 41.5732537\ttotal: 175ms\tremaining: 182ms\n",
            "49:\tlearn: 41.3638480\ttotal: 178ms\tremaining: 178ms\n",
            "50:\tlearn: 41.1945955\ttotal: 181ms\tremaining: 174ms\n",
            "51:\tlearn: 40.9840439\ttotal: 184ms\tremaining: 170ms\n",
            "52:\tlearn: 40.0245530\ttotal: 187ms\tremaining: 166ms\n",
            "53:\tlearn: 39.7093782\ttotal: 190ms\tremaining: 162ms\n",
            "54:\tlearn: 39.4550219\ttotal: 194ms\tremaining: 159ms\n",
            "55:\tlearn: 39.3034695\ttotal: 197ms\tremaining: 155ms\n",
            "56:\tlearn: 39.1471036\ttotal: 201ms\tremaining: 152ms\n",
            "57:\tlearn: 38.9310761\ttotal: 204ms\tremaining: 148ms\n",
            "58:\tlearn: 38.5630686\ttotal: 207ms\tremaining: 144ms\n",
            "59:\tlearn: 38.2483612\ttotal: 211ms\tremaining: 140ms\n",
            "60:\tlearn: 37.4790308\ttotal: 214ms\tremaining: 137ms\n",
            "61:\tlearn: 37.3081493\ttotal: 217ms\tremaining: 133ms\n",
            "62:\tlearn: 37.0738941\ttotal: 220ms\tremaining: 129ms\n",
            "63:\tlearn: 36.6232698\ttotal: 224ms\tremaining: 126ms\n",
            "64:\tlearn: 36.3414535\ttotal: 227ms\tremaining: 122ms\n",
            "65:\tlearn: 36.1844564\ttotal: 230ms\tremaining: 119ms\n",
            "66:\tlearn: 36.0447801\ttotal: 234ms\tremaining: 115ms\n",
            "67:\tlearn: 35.9370673\ttotal: 237ms\tremaining: 112ms\n",
            "68:\tlearn: 35.8231809\ttotal: 240ms\tremaining: 108ms\n",
            "69:\tlearn: 35.2041923\ttotal: 243ms\tremaining: 104ms\n",
            "70:\tlearn: 34.9149496\ttotal: 247ms\tremaining: 101ms\n",
            "71:\tlearn: 34.7948420\ttotal: 250ms\tremaining: 97.3ms\n",
            "72:\tlearn: 34.2292348\ttotal: 253ms\tremaining: 93.8ms\n",
            "73:\tlearn: 33.8421749\ttotal: 257ms\tremaining: 90.2ms\n",
            "74:\tlearn: 33.5285606\ttotal: 260ms\tremaining: 86.7ms\n",
            "75:\tlearn: 33.3147019\ttotal: 264ms\tremaining: 83.2ms\n",
            "76:\tlearn: 33.1977283\ttotal: 267ms\tremaining: 79.7ms\n",
            "77:\tlearn: 33.0646993\ttotal: 270ms\tremaining: 76.1ms\n",
            "78:\tlearn: 32.9811792\ttotal: 273ms\tremaining: 72.6ms\n",
            "79:\tlearn: 32.7992154\ttotal: 276ms\tremaining: 69.1ms\n",
            "80:\tlearn: 32.4653739\ttotal: 280ms\tremaining: 65.6ms\n",
            "81:\tlearn: 32.3380150\ttotal: 283ms\tremaining: 62.1ms\n",
            "82:\tlearn: 32.1477720\ttotal: 286ms\tremaining: 58.7ms\n",
            "83:\tlearn: 32.0101695\ttotal: 290ms\tremaining: 55.2ms\n",
            "84:\tlearn: 31.9004555\ttotal: 292ms\tremaining: 51.6ms\n",
            "85:\tlearn: 31.7473998\ttotal: 296ms\tremaining: 48.2ms\n",
            "86:\tlearn: 31.6589190\ttotal: 299ms\tremaining: 44.7ms\n",
            "87:\tlearn: 31.4820802\ttotal: 302ms\tremaining: 41.2ms\n",
            "88:\tlearn: 31.4232400\ttotal: 306ms\tremaining: 37.8ms\n",
            "89:\tlearn: 31.3100436\ttotal: 309ms\tremaining: 34.3ms\n",
            "90:\tlearn: 31.2104641\ttotal: 312ms\tremaining: 30.9ms\n",
            "91:\tlearn: 31.0600195\ttotal: 315ms\tremaining: 27.4ms\n",
            "92:\tlearn: 30.8819793\ttotal: 319ms\tremaining: 24ms\n",
            "93:\tlearn: 30.6761358\ttotal: 322ms\tremaining: 20.5ms\n",
            "94:\tlearn: 30.1839352\ttotal: 325ms\tremaining: 17.1ms\n",
            "95:\tlearn: 29.9009241\ttotal: 328ms\tremaining: 13.7ms\n",
            "96:\tlearn: 29.6884715\ttotal: 332ms\tremaining: 10.3ms\n",
            "97:\tlearn: 29.2616714\ttotal: 336ms\tremaining: 6.87ms\n",
            "98:\tlearn: 29.1619136\ttotal: 343ms\tremaining: 3.46ms\n",
            "99:\tlearn: 29.0306291\ttotal: 348ms\tremaining: 0us\n",
            "0:\tlearn: 78.0217364\ttotal: 4.26ms\tremaining: 422ms\n",
            "1:\tlearn: 75.9686512\ttotal: 7.85ms\tremaining: 385ms\n",
            "2:\tlearn: 74.0698695\ttotal: 11.3ms\tremaining: 365ms\n",
            "3:\tlearn: 72.2850794\ttotal: 15.4ms\tremaining: 369ms\n",
            "4:\tlearn: 70.8358139\ttotal: 19.1ms\tremaining: 363ms\n",
            "5:\tlearn: 68.8775313\ttotal: 22.7ms\tremaining: 355ms\n",
            "6:\tlearn: 67.7123054\ttotal: 26.3ms\tremaining: 350ms\n",
            "7:\tlearn: 66.1525566\ttotal: 29.9ms\tremaining: 344ms\n",
            "8:\tlearn: 65.2018471\ttotal: 33.5ms\tremaining: 339ms\n",
            "9:\tlearn: 64.3719948\ttotal: 37.1ms\tremaining: 333ms\n",
            "10:\tlearn: 63.4924690\ttotal: 40.5ms\tremaining: 328ms\n",
            "11:\tlearn: 62.2130160\ttotal: 44.2ms\tremaining: 324ms\n",
            "12:\tlearn: 61.3026247\ttotal: 48ms\tremaining: 321ms\n",
            "13:\tlearn: 60.7563296\ttotal: 51.5ms\tremaining: 316ms\n",
            "14:\tlearn: 59.7294357\ttotal: 55.2ms\tremaining: 313ms\n",
            "15:\tlearn: 58.8365584\ttotal: 58.9ms\tremaining: 309ms\n",
            "16:\tlearn: 58.2286834\ttotal: 62.5ms\tremaining: 305ms\n",
            "17:\tlearn: 57.7017037\ttotal: 66ms\tremaining: 301ms\n",
            "18:\tlearn: 57.2979637\ttotal: 69.7ms\tremaining: 297ms\n",
            "19:\tlearn: 56.8669427\ttotal: 73.2ms\tremaining: 293ms\n",
            "20:\tlearn: 56.3190468\ttotal: 76.8ms\tremaining: 289ms\n",
            "21:\tlearn: 55.7751621\ttotal: 80.7ms\tremaining: 286ms\n",
            "22:\tlearn: 55.0948664\ttotal: 84.3ms\tremaining: 282ms\n",
            "23:\tlearn: 54.4105698\ttotal: 88ms\tremaining: 279ms\n",
            "24:\tlearn: 54.0296195\ttotal: 91.5ms\tremaining: 275ms\n",
            "25:\tlearn: 52.5852109\ttotal: 97.5ms\tremaining: 278ms\n",
            "26:\tlearn: 52.2408295\ttotal: 104ms\tremaining: 282ms\n",
            "27:\tlearn: 51.8167474\ttotal: 109ms\tremaining: 280ms\n",
            "28:\tlearn: 51.4370969\ttotal: 113ms\tremaining: 276ms\n",
            "29:\tlearn: 50.9979223\ttotal: 116ms\tremaining: 271ms\n",
            "30:\tlearn: 50.6105199\ttotal: 120ms\tremaining: 266ms\n",
            "31:\tlearn: 50.1281111\ttotal: 123ms\tremaining: 262ms\n",
            "32:\tlearn: 48.8081628\ttotal: 127ms\tremaining: 258ms\n",
            "33:\tlearn: 47.6681366\ttotal: 131ms\tremaining: 253ms\n",
            "34:\tlearn: 47.2838913\ttotal: 134ms\tremaining: 249ms\n",
            "35:\tlearn: 46.6060067\ttotal: 138ms\tremaining: 245ms\n",
            "36:\tlearn: 46.2343191\ttotal: 141ms\tremaining: 241ms\n",
            "37:\tlearn: 45.2922356\ttotal: 145ms\tremaining: 237ms\n",
            "38:\tlearn: 45.0026551\ttotal: 150ms\tremaining: 234ms\n",
            "39:\tlearn: 44.6568944\ttotal: 159ms\tremaining: 239ms\n",
            "40:\tlearn: 43.9005696\ttotal: 162ms\tremaining: 234ms\n",
            "41:\tlearn: 43.6158202\ttotal: 166ms\tremaining: 229ms\n",
            "42:\tlearn: 43.2380388\ttotal: 169ms\tremaining: 224ms\n",
            "43:\tlearn: 42.6546396\ttotal: 172ms\tremaining: 219ms\n",
            "44:\tlearn: 42.3535349\ttotal: 176ms\tremaining: 215ms\n",
            "45:\tlearn: 42.0742201\ttotal: 179ms\tremaining: 210ms\n",
            "46:\tlearn: 41.8093677\ttotal: 183ms\tremaining: 206ms\n",
            "47:\tlearn: 41.4193884\ttotal: 186ms\tremaining: 202ms\n",
            "48:\tlearn: 41.1605963\ttotal: 190ms\tremaining: 198ms\n",
            "49:\tlearn: 40.9076434\ttotal: 194ms\tremaining: 194ms\n",
            "50:\tlearn: 40.5734568\ttotal: 197ms\tremaining: 189ms\n",
            "51:\tlearn: 40.3459894\ttotal: 201ms\tremaining: 185ms\n",
            "52:\tlearn: 40.1357978\ttotal: 204ms\tremaining: 181ms\n",
            "53:\tlearn: 39.5705582\ttotal: 208ms\tremaining: 177ms\n",
            "54:\tlearn: 39.4046719\ttotal: 212ms\tremaining: 173ms\n",
            "55:\tlearn: 39.0570410\ttotal: 215ms\tremaining: 169ms\n",
            "56:\tlearn: 38.3911004\ttotal: 219ms\tremaining: 165ms\n",
            "57:\tlearn: 38.1445578\ttotal: 222ms\tremaining: 161ms\n",
            "58:\tlearn: 37.7333787\ttotal: 226ms\tremaining: 157ms\n",
            "59:\tlearn: 37.2350507\ttotal: 229ms\tremaining: 153ms\n",
            "60:\tlearn: 37.0085251\ttotal: 233ms\tremaining: 149ms\n",
            "61:\tlearn: 36.8015608\ttotal: 236ms\tremaining: 145ms\n",
            "62:\tlearn: 36.6730959\ttotal: 240ms\tremaining: 141ms\n",
            "63:\tlearn: 36.3804397\ttotal: 245ms\tremaining: 138ms\n",
            "64:\tlearn: 36.2082188\ttotal: 251ms\tremaining: 135ms\n",
            "65:\tlearn: 35.7085013\ttotal: 255ms\tremaining: 132ms\n",
            "66:\tlearn: 35.3548178\ttotal: 259ms\tremaining: 127ms\n",
            "67:\tlearn: 35.2143660\ttotal: 262ms\tremaining: 123ms\n",
            "68:\tlearn: 34.8492527\ttotal: 266ms\tremaining: 119ms\n",
            "69:\tlearn: 34.6578764\ttotal: 270ms\tremaining: 116ms\n",
            "70:\tlearn: 34.5570162\ttotal: 273ms\tremaining: 112ms\n",
            "71:\tlearn: 33.9525173\ttotal: 277ms\tremaining: 108ms\n",
            "72:\tlearn: 33.4585074\ttotal: 280ms\tremaining: 104ms\n",
            "73:\tlearn: 33.2216551\ttotal: 284ms\tremaining: 99.7ms\n",
            "74:\tlearn: 33.0364637\ttotal: 287ms\tremaining: 95.7ms\n",
            "75:\tlearn: 32.8926276\ttotal: 291ms\tremaining: 91.8ms\n",
            "76:\tlearn: 32.7025335\ttotal: 294ms\tremaining: 87.9ms\n",
            "77:\tlearn: 32.5945514\ttotal: 298ms\tremaining: 84ms\n",
            "78:\tlearn: 32.4277806\ttotal: 301ms\tremaining: 80.1ms\n",
            "79:\tlearn: 32.2656571\ttotal: 305ms\tremaining: 76.2ms\n",
            "80:\tlearn: 32.0760572\ttotal: 311ms\tremaining: 72.9ms\n",
            "81:\tlearn: 31.9214260\ttotal: 315ms\tremaining: 69.2ms\n",
            "82:\tlearn: 31.8093379\ttotal: 319ms\tremaining: 65.3ms\n",
            "83:\tlearn: 31.6718512\ttotal: 322ms\tremaining: 61.4ms\n",
            "84:\tlearn: 31.5869374\ttotal: 326ms\tremaining: 57.5ms\n",
            "85:\tlearn: 31.1518628\ttotal: 329ms\tremaining: 53.6ms\n",
            "86:\tlearn: 30.8852646\ttotal: 333ms\tremaining: 49.8ms\n",
            "87:\tlearn: 30.8142597\ttotal: 336ms\tremaining: 45.9ms\n",
            "88:\tlearn: 30.6428563\ttotal: 340ms\tremaining: 42.1ms\n",
            "89:\tlearn: 30.5273220\ttotal: 344ms\tremaining: 38.2ms\n",
            "90:\tlearn: 30.3368253\ttotal: 350ms\tremaining: 34.6ms\n",
            "91:\tlearn: 30.1085888\ttotal: 359ms\tremaining: 31.2ms\n",
            "92:\tlearn: 30.0362103\ttotal: 362ms\tremaining: 27.3ms\n",
            "93:\tlearn: 29.7847097\ttotal: 366ms\tremaining: 23.3ms\n",
            "94:\tlearn: 29.6151076\ttotal: 369ms\tremaining: 19.4ms\n",
            "95:\tlearn: 29.4646059\ttotal: 373ms\tremaining: 15.5ms\n",
            "96:\tlearn: 29.1615218\ttotal: 376ms\tremaining: 11.6ms\n",
            "97:\tlearn: 28.9939416\ttotal: 380ms\tremaining: 7.76ms\n",
            "98:\tlearn: 28.8779277\ttotal: 384ms\tremaining: 3.88ms\n",
            "99:\tlearn: 28.6555393\ttotal: 388ms\tremaining: 0us\n"
          ]
        },
        {
          "output_type": "execute_result",
          "data": {
            "text/html": [
              "<div>\n",
              "<style scoped>\n",
              "    .dataframe tbody tr th:only-of-type {\n",
              "        vertical-align: middle;\n",
              "    }\n",
              "\n",
              "    .dataframe tbody tr th {\n",
              "        vertical-align: top;\n",
              "    }\n",
              "\n",
              "    .dataframe thead th {\n",
              "        text-align: right;\n",
              "    }\n",
              "</style>\n",
              "<table border=\"1\" class=\"dataframe\">\n",
              "  <thead>\n",
              "    <tr style=\"text-align: right;\">\n",
              "      <th></th>\n",
              "      <th>model</th>\n",
              "      <th>best_score</th>\n",
              "      <th>best_params</th>\n",
              "    </tr>\n",
              "  </thead>\n",
              "  <tbody>\n",
              "    <tr>\n",
              "      <th>0</th>\n",
              "      <td>decision_tree</td>\n",
              "      <td>0.975019</td>\n",
              "      <td>{'criterion': 'mse', 'max_depth': 9, 'splitter...</td>\n",
              "    </tr>\n",
              "    <tr>\n",
              "      <th>1</th>\n",
              "      <td>ada</td>\n",
              "      <td>0.656284</td>\n",
              "      <td>{'learning_rate': 1, 'n_estimators': 200}</td>\n",
              "    </tr>\n",
              "    <tr>\n",
              "      <th>2</th>\n",
              "      <td>xgboost</td>\n",
              "      <td>0.913266</td>\n",
              "      <td>{'max_depth': 15, 'n_estimators': 15}</td>\n",
              "    </tr>\n",
              "    <tr>\n",
              "      <th>3</th>\n",
              "      <td>lightGBM</td>\n",
              "      <td>0.978750</td>\n",
              "      <td>{'learning_rate': 0.09, 'max_depth': 4}</td>\n",
              "    </tr>\n",
              "    <tr>\n",
              "      <th>4</th>\n",
              "      <td>catboost</td>\n",
              "      <td>0.875169</td>\n",
              "      <td>{'depth': 3}</td>\n",
              "    </tr>\n",
              "  </tbody>\n",
              "</table>\n",
              "</div>"
            ],
            "text/plain": [
              "           model  best_score                                        best_params\n",
              "0  decision_tree    0.975019  {'criterion': 'mse', 'max_depth': 9, 'splitter...\n",
              "1            ada    0.656284          {'learning_rate': 1, 'n_estimators': 200}\n",
              "2        xgboost    0.913266              {'max_depth': 15, 'n_estimators': 15}\n",
              "3       lightGBM    0.978750            {'learning_rate': 0.09, 'max_depth': 4}\n",
              "4       catboost    0.875169                                       {'depth': 3}"
            ]
          },
          "metadata": {},
          "execution_count": 91
        }
      ]
    },
    {
      "cell_type": "code",
      "metadata": {
        "id": "JTrkooCHcFoS",
        "colab": {
          "base_uri": "https://localhost:8080/"
        },
        "outputId": "3d3303d0-e9ca-43d0-ff33-0bc862c30e28"
      },
      "source": [
        "cross_val_score(lgb.LGBMRegressor(learning_rate=0.09,max_depth=4), X,y, cv=cv)"
      ],
      "execution_count": null,
      "outputs": [
        {
          "output_type": "execute_result",
          "data": {
            "text/plain": [
              "array([0.97920244, 0.97277135, 0.97638403, 0.97510675])"
            ]
          },
          "metadata": {},
          "execution_count": 92
        }
      ]
    },
    {
      "cell_type": "code",
      "metadata": {
        "id": "CsVkj1yjgOQN",
        "colab": {
          "base_uri": "https://localhost:8080/"
        },
        "outputId": "1e548b89-8a2a-432c-93f3-7a1384bdbe29"
      },
      "source": [
        "mo=CatBoostRegressor(iterations=100,learning_rate=0.1, loss_function='RMSE',max_depth=3)\n",
        "mo.fit(X_train,y_train)\n",
        "cross_val_score(mo, X,y, cv=cv)"
      ],
      "execution_count": null,
      "outputs": [
        {
          "output_type": "stream",
          "name": "stdout",
          "text": [
            "0:\tlearn: 78.8802864\ttotal: 3.07ms\tremaining: 304ms\n",
            "1:\tlearn: 76.8824784\ttotal: 5.79ms\tremaining: 284ms\n",
            "2:\tlearn: 75.0314560\ttotal: 8.72ms\tremaining: 282ms\n",
            "3:\tlearn: 72.9797576\ttotal: 11.5ms\tremaining: 275ms\n",
            "4:\tlearn: 71.4843980\ttotal: 14.1ms\tremaining: 268ms\n",
            "5:\tlearn: 70.2787684\ttotal: 16.8ms\tremaining: 264ms\n",
            "6:\tlearn: 69.1941791\ttotal: 19.6ms\tremaining: 261ms\n",
            "7:\tlearn: 67.6116283\ttotal: 22.5ms\tremaining: 259ms\n",
            "8:\tlearn: 66.6074747\ttotal: 25.3ms\tremaining: 255ms\n",
            "9:\tlearn: 65.7232600\ttotal: 28ms\tremaining: 252ms\n",
            "10:\tlearn: 64.4325756\ttotal: 30.7ms\tremaining: 249ms\n",
            "11:\tlearn: 63.3543916\ttotal: 33.6ms\tremaining: 246ms\n",
            "12:\tlearn: 62.3886569\ttotal: 36.5ms\tremaining: 244ms\n",
            "13:\tlearn: 61.7055066\ttotal: 39.2ms\tremaining: 241ms\n",
            "14:\tlearn: 61.0383126\ttotal: 41.9ms\tremaining: 237ms\n",
            "15:\tlearn: 60.5219989\ttotal: 44.5ms\tremaining: 234ms\n",
            "16:\tlearn: 59.9355163\ttotal: 47.3ms\tremaining: 231ms\n",
            "17:\tlearn: 58.9730853\ttotal: 50.4ms\tremaining: 230ms\n",
            "18:\tlearn: 58.4562392\ttotal: 53.3ms\tremaining: 227ms\n",
            "19:\tlearn: 57.5114689\ttotal: 56.2ms\tremaining: 225ms\n",
            "20:\tlearn: 56.8688638\ttotal: 59.4ms\tremaining: 223ms\n",
            "21:\tlearn: 56.4494844\ttotal: 62.3ms\tremaining: 221ms\n",
            "22:\tlearn: 55.7409595\ttotal: 65.2ms\tremaining: 218ms\n",
            "23:\tlearn: 55.0376249\ttotal: 68.4ms\tremaining: 217ms\n",
            "24:\tlearn: 54.4610527\ttotal: 71.6ms\tremaining: 215ms\n",
            "25:\tlearn: 54.0880288\ttotal: 74.6ms\tremaining: 212ms\n",
            "26:\tlearn: 52.6283637\ttotal: 77.7ms\tremaining: 210ms\n",
            "27:\tlearn: 52.1330523\ttotal: 80.8ms\tremaining: 208ms\n",
            "28:\tlearn: 50.8952515\ttotal: 83.8ms\tremaining: 205ms\n",
            "29:\tlearn: 50.5026077\ttotal: 86.9ms\tremaining: 203ms\n",
            "30:\tlearn: 50.0198195\ttotal: 90ms\tremaining: 200ms\n",
            "31:\tlearn: 49.6363717\ttotal: 93.2ms\tremaining: 198ms\n",
            "32:\tlearn: 49.3787082\ttotal: 96.2ms\tremaining: 195ms\n",
            "33:\tlearn: 49.0683910\ttotal: 99.3ms\tremaining: 193ms\n",
            "34:\tlearn: 48.7625541\ttotal: 102ms\tremaining: 190ms\n",
            "35:\tlearn: 48.4359513\ttotal: 105ms\tremaining: 187ms\n",
            "36:\tlearn: 47.3980227\ttotal: 108ms\tremaining: 184ms\n",
            "37:\tlearn: 47.1075005\ttotal: 111ms\tremaining: 182ms\n",
            "38:\tlearn: 46.4133668\ttotal: 114ms\tremaining: 179ms\n",
            "39:\tlearn: 45.3606749\ttotal: 117ms\tremaining: 176ms\n",
            "40:\tlearn: 45.0786955\ttotal: 122ms\tremaining: 176ms\n",
            "41:\tlearn: 44.2467919\ttotal: 127ms\tremaining: 175ms\n",
            "42:\tlearn: 43.7718429\ttotal: 130ms\tremaining: 172ms\n",
            "43:\tlearn: 43.1397384\ttotal: 133ms\tremaining: 169ms\n",
            "44:\tlearn: 42.9163594\ttotal: 136ms\tremaining: 166ms\n",
            "45:\tlearn: 42.5224333\ttotal: 139ms\tremaining: 163ms\n",
            "46:\tlearn: 42.1185225\ttotal: 144ms\tremaining: 162ms\n",
            "47:\tlearn: 41.8602667\ttotal: 147ms\tremaining: 159ms\n",
            "48:\tlearn: 41.5762576\ttotal: 150ms\tremaining: 156ms\n",
            "49:\tlearn: 41.3724451\ttotal: 153ms\tremaining: 153ms\n",
            "50:\tlearn: 41.0185113\ttotal: 156ms\tremaining: 149ms\n",
            "51:\tlearn: 40.7651209\ttotal: 158ms\tremaining: 146ms\n",
            "52:\tlearn: 40.0958249\ttotal: 161ms\tremaining: 143ms\n",
            "53:\tlearn: 39.8155762\ttotal: 164ms\tremaining: 140ms\n",
            "54:\tlearn: 39.5514140\ttotal: 167ms\tremaining: 137ms\n",
            "55:\tlearn: 39.1236339\ttotal: 170ms\tremaining: 134ms\n",
            "56:\tlearn: 38.9065234\ttotal: 173ms\tremaining: 131ms\n",
            "57:\tlearn: 38.6611969\ttotal: 176ms\tremaining: 128ms\n",
            "58:\tlearn: 38.4941462\ttotal: 179ms\tremaining: 125ms\n",
            "59:\tlearn: 38.2016048\ttotal: 182ms\tremaining: 121ms\n",
            "60:\tlearn: 37.9965326\ttotal: 185ms\tremaining: 118ms\n",
            "61:\tlearn: 37.8425745\ttotal: 188ms\tremaining: 115ms\n",
            "62:\tlearn: 37.6063980\ttotal: 191ms\tremaining: 112ms\n",
            "63:\tlearn: 37.3422531\ttotal: 203ms\tremaining: 114ms\n",
            "64:\tlearn: 36.9844051\ttotal: 206ms\tremaining: 111ms\n",
            "65:\tlearn: 36.5324802\ttotal: 209ms\tremaining: 108ms\n",
            "66:\tlearn: 36.3682480\ttotal: 213ms\tremaining: 105ms\n",
            "67:\tlearn: 36.2309971\ttotal: 216ms\tremaining: 102ms\n",
            "68:\tlearn: 35.7883764\ttotal: 219ms\tremaining: 98.4ms\n",
            "69:\tlearn: 35.1842115\ttotal: 222ms\tremaining: 95ms\n",
            "70:\tlearn: 34.8683671\ttotal: 225ms\tremaining: 91.8ms\n",
            "71:\tlearn: 34.3140920\ttotal: 228ms\tremaining: 88.6ms\n",
            "72:\tlearn: 34.1736885\ttotal: 231ms\tremaining: 85.4ms\n",
            "73:\tlearn: 33.9723555\ttotal: 234ms\tremaining: 82.2ms\n",
            "74:\tlearn: 33.5138039\ttotal: 237ms\tremaining: 79ms\n",
            "75:\tlearn: 33.3421114\ttotal: 240ms\tremaining: 75.9ms\n",
            "76:\tlearn: 33.2122555\ttotal: 243ms\tremaining: 72.6ms\n",
            "77:\tlearn: 32.8502427\ttotal: 246ms\tremaining: 69.4ms\n",
            "78:\tlearn: 32.7421014\ttotal: 249ms\tremaining: 66.3ms\n",
            "79:\tlearn: 32.5750949\ttotal: 252ms\tremaining: 63.1ms\n",
            "80:\tlearn: 32.4502189\ttotal: 255ms\tremaining: 59.9ms\n",
            "81:\tlearn: 32.3271177\ttotal: 258ms\tremaining: 56.7ms\n",
            "82:\tlearn: 32.1414816\ttotal: 261ms\tremaining: 53.5ms\n",
            "83:\tlearn: 31.9886427\ttotal: 264ms\tremaining: 50.4ms\n",
            "84:\tlearn: 31.7838463\ttotal: 268ms\tremaining: 47.2ms\n",
            "85:\tlearn: 31.6401606\ttotal: 271ms\tremaining: 44.1ms\n",
            "86:\tlearn: 31.5492017\ttotal: 274ms\tremaining: 40.9ms\n",
            "87:\tlearn: 31.4014017\ttotal: 277ms\tremaining: 37.8ms\n",
            "88:\tlearn: 31.2608011\ttotal: 280ms\tremaining: 34.7ms\n",
            "89:\tlearn: 31.1541050\ttotal: 283ms\tremaining: 31.5ms\n",
            "90:\tlearn: 31.0293172\ttotal: 286ms\tremaining: 28.3ms\n",
            "91:\tlearn: 30.6276175\ttotal: 289ms\tremaining: 25.2ms\n",
            "92:\tlearn: 30.5098413\ttotal: 292ms\tremaining: 22ms\n",
            "93:\tlearn: 30.3831194\ttotal: 295ms\tremaining: 18.9ms\n",
            "94:\tlearn: 30.2089336\ttotal: 298ms\tremaining: 15.7ms\n",
            "95:\tlearn: 29.7969202\ttotal: 302ms\tremaining: 12.6ms\n",
            "96:\tlearn: 29.4614670\ttotal: 305ms\tremaining: 9.42ms\n",
            "97:\tlearn: 29.3000685\ttotal: 308ms\tremaining: 6.28ms\n",
            "98:\tlearn: 29.2084119\ttotal: 311ms\tremaining: 3.14ms\n",
            "99:\tlearn: 29.0845504\ttotal: 314ms\tremaining: 0us\n",
            "0:\tlearn: 77.1240202\ttotal: 3.08ms\tremaining: 305ms\n",
            "1:\tlearn: 75.0802962\ttotal: 6.21ms\tremaining: 304ms\n",
            "2:\tlearn: 73.3625845\ttotal: 9.11ms\tremaining: 294ms\n",
            "3:\tlearn: 71.3486061\ttotal: 12ms\tremaining: 287ms\n",
            "4:\tlearn: 69.8047259\ttotal: 14.9ms\tremaining: 283ms\n",
            "5:\tlearn: 68.1965878\ttotal: 17.9ms\tremaining: 280ms\n",
            "6:\tlearn: 67.0124883\ttotal: 20.8ms\tremaining: 276ms\n",
            "7:\tlearn: 65.4640025\ttotal: 23.7ms\tremaining: 272ms\n",
            "8:\tlearn: 64.5076835\ttotal: 28.3ms\tremaining: 286ms\n",
            "9:\tlearn: 63.5511433\ttotal: 31.3ms\tremaining: 282ms\n",
            "10:\tlearn: 62.2795380\ttotal: 34.2ms\tremaining: 276ms\n",
            "11:\tlearn: 61.3248300\ttotal: 39.1ms\tremaining: 286ms\n",
            "12:\tlearn: 60.4739405\ttotal: 47.4ms\tremaining: 317ms\n",
            "13:\tlearn: 59.7530897\ttotal: 52.1ms\tremaining: 320ms\n",
            "14:\tlearn: 59.2506558\ttotal: 54.9ms\tremaining: 311ms\n",
            "15:\tlearn: 58.3281193\ttotal: 57.8ms\tremaining: 303ms\n",
            "16:\tlearn: 57.6654692\ttotal: 60.7ms\tremaining: 296ms\n",
            "17:\tlearn: 57.1065896\ttotal: 63.5ms\tremaining: 289ms\n",
            "18:\tlearn: 56.3181869\ttotal: 66.5ms\tremaining: 283ms\n",
            "19:\tlearn: 55.9052908\ttotal: 69.3ms\tremaining: 277ms\n",
            "20:\tlearn: 55.3051014\ttotal: 72.3ms\tremaining: 272ms\n",
            "21:\tlearn: 54.7828489\ttotal: 75.5ms\tremaining: 268ms\n",
            "22:\tlearn: 54.0538913\ttotal: 78.4ms\tremaining: 262ms\n",
            "23:\tlearn: 53.5993264\ttotal: 81.2ms\tremaining: 257ms\n",
            "24:\tlearn: 53.2399706\ttotal: 84.1ms\tremaining: 252ms\n",
            "25:\tlearn: 51.7350995\ttotal: 87ms\tremaining: 248ms\n",
            "26:\tlearn: 51.3893090\ttotal: 89.9ms\tremaining: 243ms\n",
            "27:\tlearn: 50.9377555\ttotal: 92.8ms\tremaining: 239ms\n",
            "28:\tlearn: 50.4670345\ttotal: 95.7ms\tremaining: 234ms\n",
            "29:\tlearn: 50.1324136\ttotal: 98.5ms\tremaining: 230ms\n",
            "30:\tlearn: 49.6341946\ttotal: 101ms\tremaining: 226ms\n",
            "31:\tlearn: 49.3636246\ttotal: 104ms\tremaining: 222ms\n",
            "32:\tlearn: 48.8840388\ttotal: 107ms\tremaining: 218ms\n",
            "33:\tlearn: 47.6552520\ttotal: 110ms\tremaining: 214ms\n",
            "34:\tlearn: 47.3391409\ttotal: 113ms\tremaining: 210ms\n",
            "35:\tlearn: 47.0340125\ttotal: 116ms\tremaining: 206ms\n",
            "36:\tlearn: 46.5969387\ttotal: 119ms\tremaining: 202ms\n",
            "37:\tlearn: 46.2508271\ttotal: 122ms\tremaining: 199ms\n",
            "38:\tlearn: 45.6047800\ttotal: 125ms\tremaining: 195ms\n",
            "39:\tlearn: 45.3366347\ttotal: 128ms\tremaining: 191ms\n",
            "40:\tlearn: 45.0906917\ttotal: 130ms\tremaining: 188ms\n",
            "41:\tlearn: 44.8082671\ttotal: 133ms\tremaining: 184ms\n",
            "42:\tlearn: 43.8438729\ttotal: 136ms\tremaining: 181ms\n",
            "43:\tlearn: 43.2861706\ttotal: 139ms\tremaining: 177ms\n",
            "44:\tlearn: 43.0679655\ttotal: 142ms\tremaining: 174ms\n",
            "45:\tlearn: 42.8668667\ttotal: 145ms\tremaining: 170ms\n",
            "46:\tlearn: 42.6879156\ttotal: 148ms\tremaining: 167ms\n",
            "47:\tlearn: 42.3243230\ttotal: 151ms\tremaining: 164ms\n",
            "48:\tlearn: 41.4602462\ttotal: 156ms\tremaining: 162ms\n",
            "49:\tlearn: 41.2266269\ttotal: 160ms\tremaining: 160ms\n",
            "50:\tlearn: 41.0358417\ttotal: 163ms\tremaining: 156ms\n",
            "51:\tlearn: 40.8295258\ttotal: 165ms\tremaining: 153ms\n",
            "52:\tlearn: 40.5767530\ttotal: 168ms\tremaining: 149ms\n",
            "53:\tlearn: 40.4301606\ttotal: 171ms\tremaining: 146ms\n",
            "54:\tlearn: 39.9989616\ttotal: 174ms\tremaining: 142ms\n",
            "55:\tlearn: 39.7373613\ttotal: 177ms\tremaining: 139ms\n",
            "56:\tlearn: 39.5151899\ttotal: 180ms\tremaining: 136ms\n",
            "57:\tlearn: 39.3322889\ttotal: 183ms\tremaining: 132ms\n",
            "58:\tlearn: 39.1762486\ttotal: 185ms\tremaining: 129ms\n",
            "59:\tlearn: 38.9191545\ttotal: 189ms\tremaining: 126ms\n",
            "60:\tlearn: 38.5425473\ttotal: 192ms\tremaining: 122ms\n",
            "61:\tlearn: 38.3822784\ttotal: 194ms\tremaining: 119ms\n",
            "62:\tlearn: 38.1660164\ttotal: 197ms\tremaining: 116ms\n",
            "63:\tlearn: 37.9700509\ttotal: 200ms\tremaining: 113ms\n",
            "64:\tlearn: 37.7442208\ttotal: 203ms\tremaining: 109ms\n",
            "65:\tlearn: 37.2872364\ttotal: 206ms\tremaining: 106ms\n",
            "66:\tlearn: 36.8786597\ttotal: 209ms\tremaining: 103ms\n",
            "67:\tlearn: 36.7560790\ttotal: 212ms\tremaining: 99.7ms\n",
            "68:\tlearn: 36.3264869\ttotal: 215ms\tremaining: 96.5ms\n",
            "69:\tlearn: 35.6350784\ttotal: 218ms\tremaining: 93.3ms\n",
            "70:\tlearn: 35.5035002\ttotal: 220ms\tremaining: 90ms\n",
            "71:\tlearn: 35.1140338\ttotal: 223ms\tremaining: 86.8ms\n",
            "72:\tlearn: 34.9121381\ttotal: 226ms\tremaining: 83.6ms\n",
            "73:\tlearn: 34.7390852\ttotal: 229ms\tremaining: 80.5ms\n",
            "74:\tlearn: 34.5759975\ttotal: 232ms\tremaining: 77.3ms\n",
            "75:\tlearn: 34.3943191\ttotal: 235ms\tremaining: 74.2ms\n",
            "76:\tlearn: 34.2690518\ttotal: 238ms\tremaining: 71.1ms\n",
            "77:\tlearn: 34.1152431\ttotal: 244ms\tremaining: 68.8ms\n",
            "78:\tlearn: 34.0137180\ttotal: 249ms\tremaining: 66.1ms\n",
            "79:\tlearn: 33.8577149\ttotal: 252ms\tremaining: 63ms\n",
            "80:\tlearn: 33.2300094\ttotal: 255ms\tremaining: 59.8ms\n",
            "81:\tlearn: 32.9309377\ttotal: 258ms\tremaining: 56.6ms\n",
            "82:\tlearn: 32.8022299\ttotal: 261ms\tremaining: 53.4ms\n",
            "83:\tlearn: 32.2843852\ttotal: 264ms\tremaining: 50.2ms\n",
            "84:\tlearn: 32.0588783\ttotal: 267ms\tremaining: 47.1ms\n",
            "85:\tlearn: 31.8558221\ttotal: 270ms\tremaining: 43.9ms\n",
            "86:\tlearn: 31.4492524\ttotal: 273ms\tremaining: 40.7ms\n",
            "87:\tlearn: 31.3124346\ttotal: 276ms\tremaining: 37.6ms\n",
            "88:\tlearn: 31.2296942\ttotal: 279ms\tremaining: 34.5ms\n",
            "89:\tlearn: 31.1209550\ttotal: 282ms\tremaining: 31.3ms\n",
            "90:\tlearn: 30.9507597\ttotal: 285ms\tremaining: 28.2ms\n",
            "91:\tlearn: 30.5134553\ttotal: 288ms\tremaining: 25ms\n",
            "92:\tlearn: 30.3790400\ttotal: 291ms\tremaining: 21.9ms\n",
            "93:\tlearn: 30.2784680\ttotal: 294ms\tremaining: 18.7ms\n",
            "94:\tlearn: 30.0708489\ttotal: 297ms\tremaining: 15.6ms\n",
            "95:\tlearn: 29.9174875\ttotal: 299ms\tremaining: 12.5ms\n",
            "96:\tlearn: 29.6711398\ttotal: 302ms\tremaining: 9.35ms\n",
            "97:\tlearn: 29.3440829\ttotal: 305ms\tremaining: 6.23ms\n",
            "98:\tlearn: 29.2501113\ttotal: 308ms\tremaining: 3.11ms\n",
            "99:\tlearn: 29.1355915\ttotal: 311ms\tremaining: 0us\n",
            "0:\tlearn: 78.0276518\ttotal: 2.95ms\tremaining: 292ms\n",
            "1:\tlearn: 75.9960774\ttotal: 5.9ms\tremaining: 289ms\n",
            "2:\tlearn: 74.1191822\ttotal: 8.8ms\tremaining: 285ms\n",
            "3:\tlearn: 72.3251015\ttotal: 11.8ms\tremaining: 284ms\n",
            "4:\tlearn: 70.8924558\ttotal: 14.8ms\tremaining: 281ms\n",
            "5:\tlearn: 68.9633350\ttotal: 17.7ms\tremaining: 278ms\n",
            "6:\tlearn: 67.8112245\ttotal: 20.7ms\tremaining: 274ms\n",
            "7:\tlearn: 66.6949236\ttotal: 23.6ms\tremaining: 271ms\n",
            "8:\tlearn: 65.1630358\ttotal: 26.5ms\tremaining: 268ms\n",
            "9:\tlearn: 64.2979282\ttotal: 29.4ms\tremaining: 265ms\n",
            "10:\tlearn: 63.2367580\ttotal: 33.6ms\tremaining: 272ms\n",
            "11:\tlearn: 62.0145738\ttotal: 37.7ms\tremaining: 276ms\n",
            "12:\tlearn: 61.1523471\ttotal: 40.8ms\tremaining: 273ms\n",
            "13:\tlearn: 60.5878369\ttotal: 43.9ms\tremaining: 269ms\n",
            "14:\tlearn: 60.1183483\ttotal: 46.9ms\tremaining: 266ms\n",
            "15:\tlearn: 59.3673824\ttotal: 53.1ms\tremaining: 279ms\n",
            "16:\tlearn: 58.7658002\ttotal: 56.7ms\tremaining: 277ms\n",
            "17:\tlearn: 58.4063336\ttotal: 61.3ms\tremaining: 279ms\n",
            "18:\tlearn: 57.8056913\ttotal: 66.7ms\tremaining: 284ms\n",
            "19:\tlearn: 57.4376180\ttotal: 69.3ms\tremaining: 277ms\n",
            "20:\tlearn: 56.6147853\ttotal: 72.1ms\tremaining: 271ms\n",
            "21:\tlearn: 56.1236269\ttotal: 74.6ms\tremaining: 265ms\n",
            "22:\tlearn: 55.4365606\ttotal: 77.3ms\tremaining: 259ms\n",
            "23:\tlearn: 54.8104351\ttotal: 80ms\tremaining: 253ms\n",
            "24:\tlearn: 54.4242565\ttotal: 82.6ms\tremaining: 248ms\n",
            "25:\tlearn: 53.0221577\ttotal: 86.6ms\tremaining: 246ms\n",
            "26:\tlearn: 52.6553574\ttotal: 93.4ms\tremaining: 253ms\n",
            "27:\tlearn: 52.1280565\ttotal: 99.8ms\tremaining: 257ms\n",
            "28:\tlearn: 51.6750361\ttotal: 106ms\tremaining: 260ms\n",
            "29:\tlearn: 51.2745518\ttotal: 110ms\tremaining: 258ms\n",
            "30:\tlearn: 50.4532128\ttotal: 113ms\tremaining: 253ms\n",
            "31:\tlearn: 50.0366801\ttotal: 117ms\tremaining: 248ms\n",
            "32:\tlearn: 49.6617048\ttotal: 120ms\tremaining: 243ms\n",
            "33:\tlearn: 49.3612630\ttotal: 123ms\tremaining: 238ms\n",
            "34:\tlearn: 48.2874047\ttotal: 126ms\tremaining: 233ms\n",
            "35:\tlearn: 47.3483619\ttotal: 129ms\tremaining: 229ms\n",
            "36:\tlearn: 46.5708916\ttotal: 132ms\tremaining: 224ms\n",
            "37:\tlearn: 46.3557782\ttotal: 135ms\tremaining: 220ms\n",
            "38:\tlearn: 46.0712334\ttotal: 138ms\tremaining: 216ms\n",
            "39:\tlearn: 45.0412198\ttotal: 141ms\tremaining: 212ms\n",
            "40:\tlearn: 44.7611313\ttotal: 144ms\tremaining: 207ms\n",
            "41:\tlearn: 44.5112374\ttotal: 147ms\tremaining: 203ms\n",
            "42:\tlearn: 44.1694057\ttotal: 150ms\tremaining: 199ms\n",
            "43:\tlearn: 43.5767763\ttotal: 153ms\tremaining: 195ms\n",
            "44:\tlearn: 43.3247973\ttotal: 156ms\tremaining: 191ms\n",
            "45:\tlearn: 43.0660181\ttotal: 159ms\tremaining: 187ms\n",
            "46:\tlearn: 42.8314222\ttotal: 162ms\tremaining: 183ms\n",
            "47:\tlearn: 42.6177191\ttotal: 165ms\tremaining: 179ms\n",
            "48:\tlearn: 41.8467110\ttotal: 168ms\tremaining: 175ms\n",
            "49:\tlearn: 41.5510363\ttotal: 172ms\tremaining: 172ms\n",
            "50:\tlearn: 41.1820401\ttotal: 175ms\tremaining: 168ms\n",
            "51:\tlearn: 40.9691243\ttotal: 178ms\tremaining: 164ms\n",
            "52:\tlearn: 40.7335390\ttotal: 180ms\tremaining: 160ms\n",
            "53:\tlearn: 40.4327257\ttotal: 183ms\tremaining: 156ms\n",
            "54:\tlearn: 39.7774266\ttotal: 186ms\tremaining: 152ms\n",
            "55:\tlearn: 39.3882347\ttotal: 189ms\tremaining: 149ms\n",
            "56:\tlearn: 38.7976165\ttotal: 192ms\tremaining: 145ms\n",
            "57:\tlearn: 38.6368659\ttotal: 195ms\tremaining: 141ms\n",
            "58:\tlearn: 38.1740410\ttotal: 198ms\tremaining: 138ms\n",
            "59:\tlearn: 38.0285877\ttotal: 201ms\tremaining: 134ms\n",
            "60:\tlearn: 37.8371932\ttotal: 204ms\tremaining: 130ms\n",
            "61:\tlearn: 37.5127002\ttotal: 207ms\tremaining: 127ms\n",
            "62:\tlearn: 37.0111015\ttotal: 210ms\tremaining: 123ms\n",
            "63:\tlearn: 36.8257089\ttotal: 213ms\tremaining: 120ms\n",
            "64:\tlearn: 36.5301644\ttotal: 216ms\tremaining: 116ms\n",
            "65:\tlearn: 36.1187302\ttotal: 219ms\tremaining: 113ms\n",
            "66:\tlearn: 35.9800592\ttotal: 222ms\tremaining: 109ms\n",
            "67:\tlearn: 35.7440878\ttotal: 225ms\tremaining: 106ms\n",
            "68:\tlearn: 35.3604456\ttotal: 228ms\tremaining: 102ms\n",
            "69:\tlearn: 35.1652672\ttotal: 231ms\tremaining: 99ms\n",
            "70:\tlearn: 35.0184434\ttotal: 234ms\tremaining: 95.4ms\n",
            "71:\tlearn: 34.7377479\ttotal: 237ms\tremaining: 92.1ms\n",
            "72:\tlearn: 34.1132053\ttotal: 240ms\tremaining: 88.6ms\n",
            "73:\tlearn: 33.7331947\ttotal: 243ms\tremaining: 85.3ms\n",
            "74:\tlearn: 33.5945263\ttotal: 246ms\tremaining: 81.9ms\n",
            "75:\tlearn: 33.4470465\ttotal: 249ms\tremaining: 78.5ms\n",
            "76:\tlearn: 33.2622587\ttotal: 252ms\tremaining: 75.2ms\n",
            "77:\tlearn: 33.1124214\ttotal: 255ms\tremaining: 71.8ms\n",
            "78:\tlearn: 32.9772723\ttotal: 258ms\tremaining: 68.5ms\n",
            "79:\tlearn: 32.8026114\ttotal: 261ms\tremaining: 65.1ms\n",
            "80:\tlearn: 32.6547750\ttotal: 263ms\tremaining: 61.8ms\n",
            "81:\tlearn: 32.3723259\ttotal: 267ms\tremaining: 58.5ms\n",
            "82:\tlearn: 32.2318814\ttotal: 270ms\tremaining: 55.2ms\n",
            "83:\tlearn: 32.0677993\ttotal: 273ms\tremaining: 51.9ms\n",
            "84:\tlearn: 31.8895412\ttotal: 282ms\tremaining: 49.8ms\n",
            "85:\tlearn: 31.7381194\ttotal: 289ms\tremaining: 47.1ms\n",
            "86:\tlearn: 31.3904599\ttotal: 295ms\tremaining: 44ms\n",
            "87:\tlearn: 31.2437639\ttotal: 297ms\tremaining: 40.6ms\n",
            "88:\tlearn: 31.1128813\ttotal: 300ms\tremaining: 37.1ms\n",
            "89:\tlearn: 30.9712580\ttotal: 303ms\tremaining: 33.7ms\n",
            "90:\tlearn: 30.8567013\ttotal: 306ms\tremaining: 30.3ms\n",
            "91:\tlearn: 30.3386924\ttotal: 309ms\tremaining: 26.9ms\n",
            "92:\tlearn: 30.2340466\ttotal: 312ms\tremaining: 23.5ms\n",
            "93:\tlearn: 29.9444892\ttotal: 315ms\tremaining: 20.1ms\n",
            "94:\tlearn: 29.7438575\ttotal: 318ms\tremaining: 16.7ms\n",
            "95:\tlearn: 29.5768901\ttotal: 324ms\tremaining: 13.5ms\n",
            "96:\tlearn: 29.4673794\ttotal: 327ms\tremaining: 10.1ms\n",
            "97:\tlearn: 29.3789992\ttotal: 330ms\tremaining: 6.74ms\n",
            "98:\tlearn: 29.2535814\ttotal: 333ms\tremaining: 3.36ms\n",
            "99:\tlearn: 29.0245318\ttotal: 336ms\tremaining: 0us\n",
            "0:\tlearn: 77.7573116\ttotal: 2.97ms\tremaining: 294ms\n",
            "1:\tlearn: 75.7098767\ttotal: 5.97ms\tremaining: 293ms\n",
            "2:\tlearn: 73.7984870\ttotal: 8.84ms\tremaining: 286ms\n",
            "3:\tlearn: 71.7070456\ttotal: 11.7ms\tremaining: 281ms\n",
            "4:\tlearn: 70.1591565\ttotal: 14.7ms\tremaining: 279ms\n",
            "5:\tlearn: 68.9152265\ttotal: 17.5ms\tremaining: 275ms\n",
            "6:\tlearn: 67.7874108\ttotal: 20.4ms\tremaining: 271ms\n",
            "7:\tlearn: 66.1771342\ttotal: 23.3ms\tremaining: 268ms\n",
            "8:\tlearn: 65.1419723\ttotal: 26.2ms\tremaining: 265ms\n",
            "9:\tlearn: 64.1983776\ttotal: 29.2ms\tremaining: 263ms\n",
            "10:\tlearn: 63.0483198\ttotal: 32.3ms\tremaining: 261ms\n",
            "11:\tlearn: 61.7663583\ttotal: 36ms\tremaining: 264ms\n",
            "12:\tlearn: 60.8361277\ttotal: 40.8ms\tremaining: 273ms\n",
            "13:\tlearn: 60.1630114\ttotal: 45.4ms\tremaining: 279ms\n",
            "14:\tlearn: 59.1172397\ttotal: 48.6ms\tremaining: 275ms\n",
            "15:\tlearn: 58.2242319\ttotal: 51.5ms\tremaining: 271ms\n",
            "16:\tlearn: 57.6256700\ttotal: 54.5ms\tremaining: 266ms\n",
            "17:\tlearn: 56.8430599\ttotal: 57.6ms\tremaining: 262ms\n",
            "18:\tlearn: 56.2543699\ttotal: 60.5ms\tremaining: 258ms\n",
            "19:\tlearn: 55.6250476\ttotal: 63.4ms\tremaining: 253ms\n",
            "20:\tlearn: 55.1081714\ttotal: 66.1ms\tremaining: 249ms\n",
            "21:\tlearn: 54.6462483\ttotal: 69.1ms\tremaining: 245ms\n",
            "22:\tlearn: 54.2687678\ttotal: 72ms\tremaining: 241ms\n",
            "23:\tlearn: 53.9470977\ttotal: 75.4ms\tremaining: 239ms\n",
            "24:\tlearn: 53.3357781\ttotal: 80.3ms\tremaining: 241ms\n",
            "25:\tlearn: 52.8834708\ttotal: 86.4ms\tremaining: 246ms\n",
            "26:\tlearn: 51.5072024\ttotal: 89.3ms\tremaining: 242ms\n",
            "27:\tlearn: 50.9884617\ttotal: 92.3ms\tremaining: 237ms\n",
            "28:\tlearn: 50.6078315\ttotal: 95.3ms\tremaining: 233ms\n",
            "29:\tlearn: 50.3141853\ttotal: 98.2ms\tremaining: 229ms\n",
            "30:\tlearn: 49.8954671\ttotal: 101ms\tremaining: 225ms\n",
            "31:\tlearn: 49.5046749\ttotal: 104ms\tremaining: 221ms\n",
            "32:\tlearn: 49.1511126\ttotal: 109ms\tremaining: 221ms\n",
            "33:\tlearn: 48.8524077\ttotal: 120ms\tremaining: 233ms\n",
            "34:\tlearn: 48.6027847\ttotal: 123ms\tremaining: 229ms\n",
            "35:\tlearn: 48.1476574\ttotal: 126ms\tremaining: 224ms\n",
            "36:\tlearn: 47.0015064\ttotal: 129ms\tremaining: 220ms\n",
            "37:\tlearn: 46.2145486\ttotal: 132ms\tremaining: 216ms\n",
            "38:\tlearn: 45.9530623\ttotal: 135ms\tremaining: 211ms\n",
            "39:\tlearn: 45.6011040\ttotal: 138ms\tremaining: 207ms\n",
            "40:\tlearn: 45.3340427\ttotal: 141ms\tremaining: 203ms\n",
            "41:\tlearn: 44.4052079\ttotal: 144ms\tremaining: 199ms\n",
            "42:\tlearn: 44.0588771\ttotal: 147ms\tremaining: 195ms\n",
            "43:\tlearn: 43.8397981\ttotal: 150ms\tremaining: 191ms\n",
            "44:\tlearn: 43.6502326\ttotal: 153ms\tremaining: 187ms\n",
            "45:\tlearn: 43.0609173\ttotal: 156ms\tremaining: 183ms\n",
            "46:\tlearn: 42.8696772\ttotal: 159ms\tremaining: 179ms\n",
            "47:\tlearn: 42.4775012\ttotal: 162ms\tremaining: 176ms\n",
            "48:\tlearn: 42.2195829\ttotal: 166ms\tremaining: 173ms\n",
            "49:\tlearn: 41.7199444\ttotal: 169ms\tremaining: 169ms\n",
            "50:\tlearn: 41.4924801\ttotal: 172ms\tremaining: 165ms\n",
            "51:\tlearn: 41.2163395\ttotal: 175ms\tremaining: 162ms\n",
            "52:\tlearn: 40.9391613\ttotal: 178ms\tremaining: 158ms\n",
            "53:\tlearn: 40.7086981\ttotal: 181ms\tremaining: 154ms\n",
            "54:\tlearn: 40.2854271\ttotal: 184ms\tremaining: 151ms\n",
            "55:\tlearn: 39.9418721\ttotal: 187ms\tremaining: 147ms\n",
            "56:\tlearn: 39.1673300\ttotal: 190ms\tremaining: 143ms\n",
            "57:\tlearn: 39.0106578\ttotal: 193ms\tremaining: 140ms\n",
            "58:\tlearn: 38.6037006\ttotal: 198ms\tremaining: 137ms\n",
            "59:\tlearn: 38.4096255\ttotal: 201ms\tremaining: 134ms\n",
            "60:\tlearn: 38.1830974\ttotal: 203ms\tremaining: 130ms\n",
            "61:\tlearn: 37.8615859\ttotal: 206ms\tremaining: 126ms\n",
            "62:\tlearn: 37.5998189\ttotal: 209ms\tremaining: 123ms\n",
            "63:\tlearn: 37.2637412\ttotal: 211ms\tremaining: 119ms\n",
            "64:\tlearn: 36.7031331\ttotal: 214ms\tremaining: 115ms\n",
            "65:\tlearn: 36.2835609\ttotal: 217ms\tremaining: 112ms\n",
            "66:\tlearn: 36.1290247\ttotal: 219ms\tremaining: 108ms\n",
            "67:\tlearn: 36.0033574\ttotal: 222ms\tremaining: 105ms\n",
            "68:\tlearn: 35.6559449\ttotal: 225ms\tremaining: 101ms\n",
            "69:\tlearn: 35.4405959\ttotal: 228ms\tremaining: 97.5ms\n",
            "70:\tlearn: 35.1917052\ttotal: 231ms\tremaining: 94.2ms\n",
            "71:\tlearn: 34.5694661\ttotal: 234ms\tremaining: 90.8ms\n",
            "72:\tlearn: 34.0579543\ttotal: 236ms\tremaining: 87.4ms\n",
            "73:\tlearn: 33.8738514\ttotal: 239ms\tremaining: 84.1ms\n",
            "74:\tlearn: 33.7269848\ttotal: 242ms\tremaining: 80.8ms\n",
            "75:\tlearn: 33.5434726\ttotal: 245ms\tremaining: 77.5ms\n",
            "76:\tlearn: 33.4176806\ttotal: 248ms\tremaining: 74.2ms\n",
            "77:\tlearn: 33.2972683\ttotal: 253ms\tremaining: 71.4ms\n",
            "78:\tlearn: 33.1849753\ttotal: 256ms\tremaining: 68ms\n",
            "79:\tlearn: 33.0410953\ttotal: 259ms\tremaining: 64.6ms\n",
            "80:\tlearn: 32.8669501\ttotal: 261ms\tremaining: 61.3ms\n",
            "81:\tlearn: 32.7296015\ttotal: 264ms\tremaining: 57.9ms\n",
            "82:\tlearn: 32.5435343\ttotal: 267ms\tremaining: 54.6ms\n",
            "83:\tlearn: 32.4202084\ttotal: 270ms\tremaining: 51.4ms\n",
            "84:\tlearn: 32.2603277\ttotal: 273ms\tremaining: 48.1ms\n",
            "85:\tlearn: 31.8160391\ttotal: 276ms\tremaining: 44.9ms\n",
            "86:\tlearn: 31.5983307\ttotal: 279ms\tremaining: 41.7ms\n",
            "87:\tlearn: 31.1383371\ttotal: 282ms\tremaining: 38.4ms\n",
            "88:\tlearn: 31.0537453\ttotal: 285ms\tremaining: 35.2ms\n",
            "89:\tlearn: 30.9349839\ttotal: 287ms\tremaining: 31.9ms\n",
            "90:\tlearn: 30.8423176\ttotal: 290ms\tremaining: 28.7ms\n",
            "91:\tlearn: 30.6616865\ttotal: 293ms\tremaining: 25.5ms\n",
            "92:\tlearn: 30.5618081\ttotal: 296ms\tremaining: 22.3ms\n",
            "93:\tlearn: 30.3685584\ttotal: 299ms\tremaining: 19.1ms\n",
            "94:\tlearn: 30.0697054\ttotal: 302ms\tremaining: 15.9ms\n",
            "95:\tlearn: 29.9243528\ttotal: 307ms\tremaining: 12.8ms\n",
            "96:\tlearn: 29.6482041\ttotal: 314ms\tremaining: 9.72ms\n",
            "97:\tlearn: 29.5755408\ttotal: 318ms\tremaining: 6.48ms\n",
            "98:\tlearn: 29.4685481\ttotal: 321ms\tremaining: 3.24ms\n",
            "99:\tlearn: 29.2400787\ttotal: 323ms\tremaining: 0us\n",
            "0:\tlearn: 77.9999499\ttotal: 2.94ms\tremaining: 291ms\n",
            "1:\tlearn: 75.9600956\ttotal: 5.94ms\tremaining: 291ms\n",
            "2:\tlearn: 74.0906456\ttotal: 8.85ms\tremaining: 286ms\n",
            "3:\tlearn: 72.2699676\ttotal: 11.8ms\tremaining: 284ms\n",
            "4:\tlearn: 70.8424905\ttotal: 14.8ms\tremaining: 282ms\n",
            "5:\tlearn: 68.9191020\ttotal: 17.8ms\tremaining: 279ms\n",
            "6:\tlearn: 67.8360600\ttotal: 20.7ms\tremaining: 275ms\n",
            "7:\tlearn: 66.2813313\ttotal: 23.5ms\tremaining: 271ms\n",
            "8:\tlearn: 65.2078199\ttotal: 26.5ms\tremaining: 268ms\n",
            "9:\tlearn: 64.1141848\ttotal: 29.6ms\tremaining: 266ms\n",
            "10:\tlearn: 63.2492166\ttotal: 32.5ms\tremaining: 263ms\n",
            "11:\tlearn: 62.4986158\ttotal: 35.6ms\tremaining: 261ms\n",
            "12:\tlearn: 61.5942576\ttotal: 38.6ms\tremaining: 259ms\n",
            "13:\tlearn: 61.0452707\ttotal: 41.5ms\tremaining: 255ms\n",
            "14:\tlearn: 59.9273904\ttotal: 44.5ms\tremaining: 252ms\n",
            "15:\tlearn: 59.2782858\ttotal: 47.5ms\tremaining: 250ms\n",
            "16:\tlearn: 58.5664379\ttotal: 50.6ms\tremaining: 247ms\n",
            "17:\tlearn: 58.0042258\ttotal: 53.8ms\tremaining: 245ms\n",
            "18:\tlearn: 57.2540137\ttotal: 56.8ms\tremaining: 242ms\n",
            "19:\tlearn: 56.7885365\ttotal: 59.7ms\tremaining: 239ms\n",
            "20:\tlearn: 56.2104856\ttotal: 62.7ms\tremaining: 236ms\n",
            "21:\tlearn: 55.7636228\ttotal: 65.7ms\tremaining: 233ms\n",
            "22:\tlearn: 55.2970670\ttotal: 68.6ms\tremaining: 230ms\n",
            "23:\tlearn: 54.9103473\ttotal: 71.5ms\tremaining: 226ms\n",
            "24:\tlearn: 54.6356144\ttotal: 74.4ms\tremaining: 223ms\n",
            "25:\tlearn: 53.7930866\ttotal: 77.4ms\tremaining: 220ms\n",
            "26:\tlearn: 52.2853221\ttotal: 80.4ms\tremaining: 217ms\n",
            "27:\tlearn: 51.8467097\ttotal: 83.4ms\tremaining: 215ms\n",
            "28:\tlearn: 51.2888989\ttotal: 86.5ms\tremaining: 212ms\n",
            "29:\tlearn: 50.9404225\ttotal: 89.4ms\tremaining: 209ms\n",
            "30:\tlearn: 50.4517968\ttotal: 92.4ms\tremaining: 206ms\n",
            "31:\tlearn: 50.1635403\ttotal: 95.4ms\tremaining: 203ms\n",
            "32:\tlearn: 49.8308712\ttotal: 98.3ms\tremaining: 200ms\n",
            "33:\tlearn: 48.4979917\ttotal: 101ms\tremaining: 197ms\n",
            "34:\tlearn: 48.1005001\ttotal: 104ms\tremaining: 194ms\n",
            "35:\tlearn: 47.7161273\ttotal: 107ms\tremaining: 191ms\n",
            "36:\tlearn: 47.3728249\ttotal: 111ms\tremaining: 188ms\n",
            "37:\tlearn: 47.0668967\ttotal: 114ms\tremaining: 185ms\n",
            "38:\tlearn: 46.2691971\ttotal: 117ms\tremaining: 183ms\n",
            "39:\tlearn: 45.5042190\ttotal: 120ms\tremaining: 180ms\n",
            "40:\tlearn: 45.2286277\ttotal: 123ms\tremaining: 176ms\n",
            "41:\tlearn: 44.9541949\ttotal: 126ms\tremaining: 173ms\n",
            "42:\tlearn: 44.4446141\ttotal: 129ms\tremaining: 170ms\n",
            "43:\tlearn: 44.1829509\ttotal: 131ms\tremaining: 167ms\n",
            "44:\tlearn: 43.9510219\ttotal: 134ms\tremaining: 164ms\n",
            "45:\tlearn: 43.6947963\ttotal: 140ms\tremaining: 165ms\n",
            "46:\tlearn: 43.5254233\ttotal: 147ms\tremaining: 166ms\n",
            "47:\tlearn: 43.0961538\ttotal: 150ms\tremaining: 163ms\n",
            "48:\tlearn: 42.7458541\ttotal: 153ms\tremaining: 160ms\n",
            "49:\tlearn: 42.5136882\ttotal: 165ms\tremaining: 165ms\n",
            "50:\tlearn: 42.3200686\ttotal: 170ms\tremaining: 163ms\n",
            "51:\tlearn: 41.3800110\ttotal: 173ms\tremaining: 160ms\n",
            "52:\tlearn: 40.5209433\ttotal: 176ms\tremaining: 156ms\n",
            "53:\tlearn: 40.3520221\ttotal: 179ms\tremaining: 153ms\n",
            "54:\tlearn: 40.0697782\ttotal: 182ms\tremaining: 149ms\n",
            "55:\tlearn: 39.8489399\ttotal: 185ms\tremaining: 146ms\n",
            "56:\tlearn: 39.5975123\ttotal: 188ms\tremaining: 142ms\n",
            "57:\tlearn: 39.4099002\ttotal: 191ms\tremaining: 139ms\n",
            "58:\tlearn: 39.1899421\ttotal: 194ms\tremaining: 135ms\n",
            "59:\tlearn: 38.7249461\ttotal: 198ms\tremaining: 132ms\n",
            "60:\tlearn: 38.0065635\ttotal: 201ms\tremaining: 128ms\n",
            "61:\tlearn: 37.8479966\ttotal: 204ms\tremaining: 125ms\n",
            "62:\tlearn: 37.4594818\ttotal: 207ms\tremaining: 121ms\n",
            "63:\tlearn: 37.0203951\ttotal: 210ms\tremaining: 118ms\n",
            "64:\tlearn: 36.7356825\ttotal: 213ms\tremaining: 115ms\n",
            "65:\tlearn: 36.4305244\ttotal: 216ms\tremaining: 111ms\n",
            "66:\tlearn: 36.2584274\ttotal: 219ms\tremaining: 108ms\n",
            "67:\tlearn: 36.1438836\ttotal: 222ms\tremaining: 104ms\n",
            "68:\tlearn: 35.7541558\ttotal: 225ms\tremaining: 101ms\n",
            "69:\tlearn: 35.5300190\ttotal: 228ms\tremaining: 97.7ms\n",
            "70:\tlearn: 35.3679291\ttotal: 231ms\tremaining: 94.3ms\n",
            "71:\tlearn: 35.1037000\ttotal: 234ms\tremaining: 91ms\n",
            "72:\tlearn: 34.8461996\ttotal: 237ms\tremaining: 87.6ms\n",
            "73:\tlearn: 34.3979424\ttotal: 240ms\tremaining: 84.4ms\n",
            "74:\tlearn: 34.2526144\ttotal: 243ms\tremaining: 81.1ms\n",
            "75:\tlearn: 34.0951163\ttotal: 246ms\tremaining: 77.8ms\n",
            "76:\tlearn: 33.9766251\ttotal: 249ms\tremaining: 74.5ms\n",
            "77:\tlearn: 33.8070211\ttotal: 252ms\tremaining: 71.2ms\n",
            "78:\tlearn: 33.7023123\ttotal: 255ms\tremaining: 67.9ms\n",
            "79:\tlearn: 33.4729809\ttotal: 258ms\tremaining: 64.6ms\n",
            "80:\tlearn: 33.2003288\ttotal: 262ms\tremaining: 61.3ms\n",
            "81:\tlearn: 33.0413866\ttotal: 265ms\tremaining: 58.2ms\n",
            "82:\tlearn: 32.8843062\ttotal: 268ms\tremaining: 54.9ms\n",
            "83:\tlearn: 32.2816088\ttotal: 271ms\tremaining: 51.6ms\n",
            "84:\tlearn: 32.1511173\ttotal: 274ms\tremaining: 48.3ms\n",
            "85:\tlearn: 32.0138719\ttotal: 280ms\tremaining: 45.6ms\n",
            "86:\tlearn: 31.9180979\ttotal: 284ms\tremaining: 42.5ms\n",
            "87:\tlearn: 31.7838525\ttotal: 288ms\tremaining: 39.2ms\n",
            "88:\tlearn: 31.6903229\ttotal: 292ms\tremaining: 36ms\n",
            "89:\tlearn: 31.5554620\ttotal: 295ms\tremaining: 32.8ms\n",
            "90:\tlearn: 31.4269557\ttotal: 298ms\tremaining: 29.5ms\n",
            "91:\tlearn: 30.9155222\ttotal: 301ms\tremaining: 26.2ms\n",
            "92:\tlearn: 30.8460356\ttotal: 304ms\tremaining: 22.9ms\n",
            "93:\tlearn: 30.7898598\ttotal: 307ms\tremaining: 19.6ms\n",
            "94:\tlearn: 30.6132695\ttotal: 309ms\tremaining: 16.3ms\n",
            "95:\tlearn: 30.5119453\ttotal: 312ms\tremaining: 13ms\n",
            "96:\tlearn: 30.3938508\ttotal: 315ms\tremaining: 9.75ms\n",
            "97:\tlearn: 30.2848188\ttotal: 318ms\tremaining: 6.49ms\n",
            "98:\tlearn: 30.1675450\ttotal: 321ms\tremaining: 3.24ms\n",
            "99:\tlearn: 29.8514430\ttotal: 324ms\tremaining: 0us\n"
          ]
        },
        {
          "output_type": "execute_result",
          "data": {
            "text/plain": [
              "array([0.86976661, 0.87035071, 0.864081  , 0.86465171])"
            ]
          },
          "metadata": {},
          "execution_count": 93
        }
      ]
    },
    {
      "cell_type": "code",
      "metadata": {
        "id": "7TNzZ581iu0l",
        "colab": {
          "base_uri": "https://localhost:8080/"
        },
        "outputId": "c086d642-dea7-4445-a199-1f24fb8327bf"
      },
      "source": [
        "dr1=DecisionTreeRegressor(criterion='mse',splitter='random',max_depth=9)\n",
        "dr1.fit(X_train,y_train)\n"
      ],
      "execution_count": null,
      "outputs": [
        {
          "output_type": "stream",
          "name": "stderr",
          "text": [
            "/usr/local/lib/python3.7/dist-packages/sklearn/tree/_classes.py:363: FutureWarning: Criterion 'mse' was deprecated in v1.0 and will be removed in version 1.2. Use `criterion='squared_error'` which is equivalent.\n",
            "  FutureWarning,\n"
          ]
        },
        {
          "output_type": "execute_result",
          "data": {
            "text/plain": [
              "DecisionTreeRegressor(criterion='mse', max_depth=9, splitter='random')"
            ]
          },
          "metadata": {},
          "execution_count": 95
        }
      ]
    },
    {
      "cell_type": "code",
      "metadata": {
        "id": "3UkA_KLqjQC-",
        "colab": {
          "base_uri": "https://localhost:8080/"
        },
        "outputId": "a407c3ef-ab36-42d8-dc45-2bf2d02b90cf"
      },
      "source": [
        "dr1=lgb.LGBMRegressor(learning_rate=0.09,max_depth=4)\n",
        "dr1.fit(X_train,y_train)"
      ],
      "execution_count": null,
      "outputs": [
        {
          "output_type": "execute_result",
          "data": {
            "text/plain": [
              "LGBMRegressor(learning_rate=0.09, max_depth=4)"
            ]
          },
          "metadata": {},
          "execution_count": 98
        }
      ]
    },
    {
      "cell_type": "markdown",
      "metadata": {
        "id": "nlfNofL-ReHn"
      },
      "source": [
        "saving picle file and key value pair (encoded values)"
      ]
    },
    {
      "cell_type": "code",
      "metadata": {
        "id": "BmQJmiR0RZ5x"
      },
      "source": [
        "import pickle\n",
        "pickle.dump(dr1, open('model.pkl', 'wb'))"
      ],
      "execution_count": null,
      "outputs": []
    },
    {
      "cell_type": "code",
      "metadata": {
        "id": "A3CyBnu5RkdN"
      },
      "source": [
        "import csv\n",
        "with open('address_dict.csv', 'w') as f:\n",
        "    for key in address_dict.keys():\n",
        "        f.write(\"%s,%s\\n\"%(key,address_dict[key]))\n",
        "\n",
        "with open('city_check.csv', 'w') as f:\n",
        "    for key in city_check.keys():\n",
        "        f.write(\"%s,%s\\n\"%(key,city_check[key]))\n",
        "with open('address_type.csv', 'w') as f:\n",
        "    for key in address_type_check.keys():\n",
        "        f.write(\"%s,%s\\n\"%(key,address_type_check[key]))\n"
      ],
      "execution_count": null,
      "outputs": []
    },
    {
      "cell_type": "code",
      "metadata": {
        "id": "n3Op8on4CSkm"
      },
      "source": [
        "# dictionaries with encoded value -> address_dict ,city_check"
      ],
      "execution_count": null,
      "outputs": []
    },
    {
      "cell_type": "code",
      "metadata": {
        "id": "uVnHq0VFav3K"
      },
      "source": [
        "import pickle\n",
        "loaded_model = pickle.load(open('model.pkl', 'rb'))\n"
      ],
      "execution_count": null,
      "outputs": []
    },
    {
      "cell_type": "code",
      "metadata": {
        "colab": {
          "base_uri": "https://localhost:8080/"
        },
        "id": "OznZHCXAg_Pj",
        "outputId": "17819c0b-19f0-436d-bfb8-a7d81dfdad5a"
      },
      "source": [
        "cities"
      ],
      "execution_count": null,
      "outputs": [
        {
          "output_type": "execute_result",
          "data": {
            "text/plain": [
              "array(['agra', 'noida', 'ahemdabad', 'delhi', 'chennai', 'banglore',\n",
              "       'amritsar', 'mumbai', 'lucknow', 'hyderabad'], dtype=object)"
            ]
          },
          "metadata": {},
          "execution_count": 103
        }
      ]
    },
    {
      "cell_type": "code",
      "metadata": {
        "colab": {
          "base_uri": "https://localhost:8080/",
          "height": 417
        },
        "id": "_NSk8-3UhHNM",
        "outputId": "1590f0ec-1850-47e5-e263-f875b9ce4607"
      },
      "source": [
        "df"
      ],
      "execution_count": null,
      "outputs": [
        {
          "output_type": "execute_result",
          "data": {
            "text/html": [
              "<div>\n",
              "<style scoped>\n",
              "    .dataframe tbody tr th:only-of-type {\n",
              "        vertical-align: middle;\n",
              "    }\n",
              "\n",
              "    .dataframe tbody tr th {\n",
              "        vertical-align: top;\n",
              "    }\n",
              "\n",
              "    .dataframe thead th {\n",
              "        text-align: right;\n",
              "    }\n",
              "</style>\n",
              "<table border=\"1\" class=\"dataframe\">\n",
              "  <thead>\n",
              "    <tr style=\"text-align: right;\">\n",
              "      <th></th>\n",
              "      <th>address_name</th>\n",
              "      <th>address_price</th>\n",
              "      <th>address_areaSQFT</th>\n",
              "      <th>address_bhk</th>\n",
              "      <th>address_type</th>\n",
              "      <th>city</th>\n",
              "    </tr>\n",
              "  </thead>\n",
              "  <tbody>\n",
              "    <tr>\n",
              "      <th>0</th>\n",
              "      <td>Mangrouli</td>\n",
              "      <td>14.00</td>\n",
              "      <td>891</td>\n",
              "      <td>3.0</td>\n",
              "      <td>Apartment</td>\n",
              "      <td>agra</td>\n",
              "    </tr>\n",
              "    <tr>\n",
              "      <th>1</th>\n",
              "      <td>Rakabganj</td>\n",
              "      <td>300.00</td>\n",
              "      <td>4400</td>\n",
              "      <td>5.0</td>\n",
              "      <td>Independent House</td>\n",
              "      <td>agra</td>\n",
              "    </tr>\n",
              "    <tr>\n",
              "      <th>2</th>\n",
              "      <td>Baroli Ahir</td>\n",
              "      <td>35.00</td>\n",
              "      <td>1232</td>\n",
              "      <td>3.0</td>\n",
              "      <td>Apartment</td>\n",
              "      <td>agra</td>\n",
              "    </tr>\n",
              "    <tr>\n",
              "      <th>3</th>\n",
              "      <td>New Suraksha Vihar Phase 2</td>\n",
              "      <td>31.50</td>\n",
              "      <td>890</td>\n",
              "      <td>3.0</td>\n",
              "      <td>Independent House</td>\n",
              "      <td>agra</td>\n",
              "    </tr>\n",
              "    <tr>\n",
              "      <th>4</th>\n",
              "      <td>Arjun Nagar</td>\n",
              "      <td>139.00</td>\n",
              "      <td>2250</td>\n",
              "      <td>6.0</td>\n",
              "      <td>Independent House</td>\n",
              "      <td>agra</td>\n",
              "    </tr>\n",
              "    <tr>\n",
              "      <th>...</th>\n",
              "      <td>...</td>\n",
              "      <td>...</td>\n",
              "      <td>...</td>\n",
              "      <td>...</td>\n",
              "      <td>...</td>\n",
              "      <td>...</td>\n",
              "    </tr>\n",
              "    <tr>\n",
              "      <th>39995</th>\n",
              "      <td>Cheeriyal</td>\n",
              "      <td>45.09</td>\n",
              "      <td>1503</td>\n",
              "      <td>3.0</td>\n",
              "      <td>Apartment</td>\n",
              "      <td>hyderabad</td>\n",
              "    </tr>\n",
              "    <tr>\n",
              "      <th>39996</th>\n",
              "      <td>Shamshabad</td>\n",
              "      <td>275.00</td>\n",
              "      <td>3800</td>\n",
              "      <td>5.0</td>\n",
              "      <td>Villa</td>\n",
              "      <td>hyderabad</td>\n",
              "    </tr>\n",
              "    <tr>\n",
              "      <th>39997</th>\n",
              "      <td>Sanath Nagar</td>\n",
              "      <td>124.00</td>\n",
              "      <td>2294</td>\n",
              "      <td>3.0</td>\n",
              "      <td>Apartment</td>\n",
              "      <td>hyderabad</td>\n",
              "    </tr>\n",
              "    <tr>\n",
              "      <th>39998</th>\n",
              "      <td>Banjara Hills</td>\n",
              "      <td>239.00</td>\n",
              "      <td>2085</td>\n",
              "      <td>3.0</td>\n",
              "      <td>Apartment</td>\n",
              "      <td>hyderabad</td>\n",
              "    </tr>\n",
              "    <tr>\n",
              "      <th>39999</th>\n",
              "      <td>Tellapur</td>\n",
              "      <td>116.00</td>\n",
              "      <td>1935</td>\n",
              "      <td>3.0</td>\n",
              "      <td>Apartment</td>\n",
              "      <td>hyderabad</td>\n",
              "    </tr>\n",
              "  </tbody>\n",
              "</table>\n",
              "<p>40000 rows × 6 columns</p>\n",
              "</div>"
            ],
            "text/plain": [
              "                     address_name  address_price  ...       address_type       city\n",
              "0                       Mangrouli          14.00  ...          Apartment       agra\n",
              "1                       Rakabganj         300.00  ...  Independent House       agra\n",
              "2                     Baroli Ahir          35.00  ...          Apartment       agra\n",
              "3      New Suraksha Vihar Phase 2          31.50  ...  Independent House       agra\n",
              "4                     Arjun Nagar         139.00  ...  Independent House       agra\n",
              "...                           ...            ...  ...                ...        ...\n",
              "39995                   Cheeriyal          45.09  ...          Apartment  hyderabad\n",
              "39996                  Shamshabad         275.00  ...              Villa  hyderabad\n",
              "39997                Sanath Nagar         124.00  ...          Apartment  hyderabad\n",
              "39998               Banjara Hills         239.00  ...          Apartment  hyderabad\n",
              "39999                    Tellapur         116.00  ...          Apartment  hyderabad\n",
              "\n",
              "[40000 rows x 6 columns]"
            ]
          },
          "metadata": {},
          "execution_count": 104
        }
      ]
    },
    {
      "cell_type": "code",
      "metadata": {
        "colab": {
          "base_uri": "https://localhost:8080/"
        },
        "id": "1_OTKIyhhAco",
        "outputId": "45ed4dfc-6897-459a-f2c3-2c3ea6198ccd"
      },
      "source": [
        "#price per square feet\n",
        "dict={}\n",
        "x=[]\n",
        "y=[]\n",
        "for city1 in cities:\n",
        "  d=df[df['city']==city1]\n",
        "  d=d['address_price']/d['address_areaSQFT']\n",
        "  d=d.mean()\n",
        "  d=d*100000\n",
        "  x.append(city1)\n",
        "  y.append(d)\n",
        "  dict[city1]=d\n",
        "  print(city1+\"->\"+str(d))"
      ],
      "execution_count": null,
      "outputs": [
        {
          "output_type": "stream",
          "name": "stdout",
          "text": [
            "agra->5832.465499419659\n",
            "noida->9376.570538747921\n",
            "ahemdabad->4065.517324310184\n",
            "delhi->6581.689748909152\n",
            "chennai->5029.422891151236\n",
            "banglore->6528.075357779867\n",
            "amritsar->2604.6695621972\n",
            "mumbai->17082.409059292517\n",
            "lucknow->3796.9143639557396\n",
            "hyderabad->5285.167422591979\n"
          ]
        }
      ]
    },
    {
      "cell_type": "code",
      "metadata": {
        "colab": {
          "base_uri": "https://localhost:8080/"
        },
        "id": "gDyP7IBuiPMo",
        "outputId": "64aa3a76-b3a0-4ee2-af3d-0a103d500b8d"
      },
      "source": [
        "dict"
      ],
      "execution_count": null,
      "outputs": [
        {
          "output_type": "execute_result",
          "data": {
            "text/plain": [
              "{'agra': 5832.465499419659,\n",
              " 'ahemdabad': 4065.517324310184,\n",
              " 'amritsar': 2604.6695621972,\n",
              " 'banglore': 6528.075357779867,\n",
              " 'chennai': 5029.422891151236,\n",
              " 'delhi': 6581.689748909152,\n",
              " 'hyderabad': 5285.167422591979,\n",
              " 'lucknow': 3796.9143639557396,\n",
              " 'mumbai': 17082.409059292517,\n",
              " 'noida': 9376.570538747921}"
            ]
          },
          "metadata": {},
          "execution_count": 106
        }
      ]
    },
    {
      "cell_type": "code",
      "metadata": {
        "colab": {
          "base_uri": "https://localhost:8080/",
          "height": 296
        },
        "id": "YjY9aQzRy7Bl",
        "outputId": "ea20857c-50a5-4a61-c7a0-07fbe649c1b0"
      },
      "source": [
        "import matplotlib.pyplot as plt\n",
        "import matplotlib\n",
        "plt.bar(x,y)\n",
        "plt.xlabel('city')\n",
        "plt.ylabel('Mean Price per square feet')"
      ],
      "execution_count": null,
      "outputs": [
        {
          "output_type": "execute_result",
          "data": {
            "text/plain": [
              "Text(0, 0.5, 'Mean Price per square feet')"
            ]
          },
          "metadata": {},
          "execution_count": 109
        },
        {
          "output_type": "display_data",
          "data": {
            "image/png": "[encoded data removed]",
            "text/plain": [
              "<Figure size 432x288 with 1 Axes>"
            ]
          },
          "metadata": {
            "needs_background": "light"
          }
        }
      ]
    },
    {
      "cell_type": "code",
      "metadata": {
        "colab": {
          "base_uri": "https://localhost:8080/",
          "height": 417
        },
        "id": "jq2ABvHjmwDg",
        "outputId": "7131985f-58e5-42a8-9d0a-8ab7a4c5b996"
      },
      "source": [
        "df"
      ],
      "execution_count": null,
      "outputs": [
        {
          "output_type": "execute_result",
          "data": {
            "text/html": [
              "<div>\n",
              "<style scoped>\n",
              "    .dataframe tbody tr th:only-of-type {\n",
              "        vertical-align: middle;\n",
              "    }\n",
              "\n",
              "    .dataframe tbody tr th {\n",
              "        vertical-align: top;\n",
              "    }\n",
              "\n",
              "    .dataframe thead th {\n",
              "        text-align: right;\n",
              "    }\n",
              "</style>\n",
              "<table border=\"1\" class=\"dataframe\">\n",
              "  <thead>\n",
              "    <tr style=\"text-align: right;\">\n",
              "      <th></th>\n",
              "      <th>address_name</th>\n",
              "      <th>address_price</th>\n",
              "      <th>address_areaSQFT</th>\n",
              "      <th>address_bhk</th>\n",
              "      <th>address_type</th>\n",
              "      <th>city</th>\n",
              "    </tr>\n",
              "  </thead>\n",
              "  <tbody>\n",
              "    <tr>\n",
              "      <th>0</th>\n",
              "      <td>Mangrouli</td>\n",
              "      <td>14.00</td>\n",
              "      <td>891</td>\n",
              "      <td>3.0</td>\n",
              "      <td>Apartment</td>\n",
              "      <td>agra</td>\n",
              "    </tr>\n",
              "    <tr>\n",
              "      <th>1</th>\n",
              "      <td>Rakabganj</td>\n",
              "      <td>300.00</td>\n",
              "      <td>4400</td>\n",
              "      <td>5.0</td>\n",
              "      <td>Independent House</td>\n",
              "      <td>agra</td>\n",
              "    </tr>\n",
              "    <tr>\n",
              "      <th>2</th>\n",
              "      <td>Baroli Ahir</td>\n",
              "      <td>35.00</td>\n",
              "      <td>1232</td>\n",
              "      <td>3.0</td>\n",
              "      <td>Apartment</td>\n",
              "      <td>agra</td>\n",
              "    </tr>\n",
              "    <tr>\n",
              "      <th>3</th>\n",
              "      <td>New Suraksha Vihar Phase 2</td>\n",
              "      <td>31.50</td>\n",
              "      <td>890</td>\n",
              "      <td>3.0</td>\n",
              "      <td>Independent House</td>\n",
              "      <td>agra</td>\n",
              "    </tr>\n",
              "    <tr>\n",
              "      <th>4</th>\n",
              "      <td>Arjun Nagar</td>\n",
              "      <td>139.00</td>\n",
              "      <td>2250</td>\n",
              "      <td>6.0</td>\n",
              "      <td>Independent House</td>\n",
              "      <td>agra</td>\n",
              "    </tr>\n",
              "    <tr>\n",
              "      <th>...</th>\n",
              "      <td>...</td>\n",
              "      <td>...</td>\n",
              "      <td>...</td>\n",
              "      <td>...</td>\n",
              "      <td>...</td>\n",
              "      <td>...</td>\n",
              "    </tr>\n",
              "    <tr>\n",
              "      <th>39995</th>\n",
              "      <td>Cheeriyal</td>\n",
              "      <td>45.09</td>\n",
              "      <td>1503</td>\n",
              "      <td>3.0</td>\n",
              "      <td>Apartment</td>\n",
              "      <td>hyderabad</td>\n",
              "    </tr>\n",
              "    <tr>\n",
              "      <th>39996</th>\n",
              "      <td>Shamshabad</td>\n",
              "      <td>275.00</td>\n",
              "      <td>3800</td>\n",
              "      <td>5.0</td>\n",
              "      <td>Villa</td>\n",
              "      <td>hyderabad</td>\n",
              "    </tr>\n",
              "    <tr>\n",
              "      <th>39997</th>\n",
              "      <td>Sanath Nagar</td>\n",
              "      <td>124.00</td>\n",
              "      <td>2294</td>\n",
              "      <td>3.0</td>\n",
              "      <td>Apartment</td>\n",
              "      <td>hyderabad</td>\n",
              "    </tr>\n",
              "    <tr>\n",
              "      <th>39998</th>\n",
              "      <td>Banjara Hills</td>\n",
              "      <td>239.00</td>\n",
              "      <td>2085</td>\n",
              "      <td>3.0</td>\n",
              "      <td>Apartment</td>\n",
              "      <td>hyderabad</td>\n",
              "    </tr>\n",
              "    <tr>\n",
              "      <th>39999</th>\n",
              "      <td>Tellapur</td>\n",
              "      <td>116.00</td>\n",
              "      <td>1935</td>\n",
              "      <td>3.0</td>\n",
              "      <td>Apartment</td>\n",
              "      <td>hyderabad</td>\n",
              "    </tr>\n",
              "  </tbody>\n",
              "</table>\n",
              "<p>40000 rows × 6 columns</p>\n",
              "</div>"
            ],
            "text/plain": [
              "                     address_name  address_price  ...       address_type       city\n",
              "0                       Mangrouli          14.00  ...          Apartment       agra\n",
              "1                       Rakabganj         300.00  ...  Independent House       agra\n",
              "2                     Baroli Ahir          35.00  ...          Apartment       agra\n",
              "3      New Suraksha Vihar Phase 2          31.50  ...  Independent House       agra\n",
              "4                     Arjun Nagar         139.00  ...  Independent House       agra\n",
              "...                           ...            ...  ...                ...        ...\n",
              "39995                   Cheeriyal          45.09  ...          Apartment  hyderabad\n",
              "39996                  Shamshabad         275.00  ...              Villa  hyderabad\n",
              "39997                Sanath Nagar         124.00  ...          Apartment  hyderabad\n",
              "39998               Banjara Hills         239.00  ...          Apartment  hyderabad\n",
              "39999                    Tellapur         116.00  ...          Apartment  hyderabad\n",
              "\n",
              "[40000 rows x 6 columns]"
            ]
          },
          "metadata": {},
          "execution_count": 110
        }
      ]
    },
    {
      "cell_type": "code",
      "metadata": {
        "id": "SBK6ydEZj1rX"
      },
      "source": [
        "\n",
        "def plot_scatter_chart(df,location):\n",
        "    '''\n",
        "    Function that will help us to visualize the data of the different locations \n",
        "    '''\n",
        "    bhk2 = df[ (df.address_bhk==2)]\n",
        "    bhk3 = df[ (df.address_bhk==3)]\n",
        "    bhk1 = df[ (df.address_bhk==1)]\n",
        "    bhk4 = df[ (df.address_bhk==4)]\n",
        "    bhk5 = df[(df.address_bhk==5)]\n",
        "    bhk6 = df[ (df.address_bhk==6)]\n",
        "    matplotlib.rcParams['figure.figsize'] = (10, 10)\n",
        "    plt.scatter(bhk1.address_areaSQFT, bhk1.address_price,color='blue', label='1 BHK', s=15)\n",
        "    plt.scatter(bhk2.address_areaSQFT, bhk2.address_price,color='yellow', label='2 BHK', s=15)\n",
        "    plt.scatter(bhk3.address_areaSQFT,bhk3.address_price ,color='red', label='3 BHK',s=15)\n",
        "    plt.scatter(bhk4.address_areaSQFT, bhk4.address_price,color='green', label='4 BHK', s=15)\n",
        "    plt.scatter(bhk5.address_areaSQFT, bhk5.address_price,color='black', label='5 BHK', s=15)\n",
        "    plt.scatter(bhk6.address_areaSQFT, bhk6.address_price,color='grey', label='6 BHK', s=15)\n",
        "    plt.xlabel('Total Square Feet Area')\n",
        "    plt.ylabel('Price in lakhs')\n",
        "    plt.legend()\n",
        "    plt.show()\n",
        "    print(len(bhk1.address_areaSQFT)+len(bhk2.address_areaSQFT)+len(bhk3.address_areaSQFT)+len(bhk4.address_areaSQFT)+len(bhk5.address_areaSQFT)+len(bhk6.address_areaSQFT))"
      ],
      "execution_count": null,
      "outputs": []
    },
    {
      "cell_type": "code",
      "metadata": {
        "colab": {
          "base_uri": "https://localhost:8080/",
          "height": 296
        },
        "id": "IVSADaQlpPGf",
        "outputId": "043345e4-aa42-4f45-a120-556c1d4e1454"
      },
      "source": [
        "\n",
        "bhk3 = df\n",
        "x=list(bhk3.address_areaSQFT)\n",
        "y=list(bhk3.address_price)\n",
        "plt.scatter(x,y)\n",
        "plt.xlabel('Total Square Feet Area')\n",
        "plt.ylabel('Price')\n"
      ],
      "execution_count": null,
      "outputs": [
        {
          "output_type": "execute_result",
          "data": {
            "text/plain": [
              "Text(0, 0.5, 'Price')"
            ]
          },
          "metadata": {},
          "execution_count": 112
        },
        {
          "output_type": "display_data",
          "data": {
            "image/png": "[encoded data removed]",
            "text/plain": [
              "<Figure size 432x288 with 1 Axes>"
            ]
          },
          "metadata": {
            "needs_background": "light"
          }
        }
      ]
    },
    {
      "cell_type": "code",
      "metadata": {
        "id": "0X_cq4Pn16r-"
      },
      "source": [
        "df5['price']=y\n",
        "correlation_table= []\n",
        "cat_features=['address_areaSQFT','address_bhk']"
      ],
      "execution_count": null,
      "outputs": []
    },
    {
      "cell_type": "code",
      "metadata": {
        "colab": {
          "base_uri": "https://localhost:8080/",
          "height": 406
        },
        "id": "FHJ4lk362g4L",
        "outputId": "5b62f2ae-dabd-4318-fa9f-cd889c9d4023"
      },
      "source": [
        "plt.figure(figsize=(5,5))\n",
        "df5['price']=y\n",
        "cor = df5[['address_areaSQFT','address_bhk','price']].corr()\n",
        "sns.heatmap(cor, annot=True, cmap=plt.cm.YlGnBu)\n",
        "plt.show()"
      ],
      "execution_count": null,
      "outputs": [
        {
          "output_type": "display_data",
          "data": {
            "image/png": "[encoded data removed]",
            "text/plain": [
              "<Figure size 360x360 with 2 Axes>"
            ]
          },
          "metadata": {
            "needs_background": "light"
          }
        }
      ]
    },
    {
      "cell_type": "code",
      "metadata": {
        "colab": {
          "base_uri": "https://localhost:8080/",
          "height": 879
        },
        "id": "8Hjfkqpz6bkK",
        "outputId": "b0a5cf5b-a0be-48e6-e586-225d6f7045d7"
      },
      "source": [
        "%matplotlib inline\n",
        "import matplotlib.pyplot as plt\n",
        "df5.hist(bins=50,figsize=(20,15))\n",
        "plt.show()"
      ],
      "execution_count": null,
      "outputs": [
        {
          "output_type": "display_data",
          "data": {
            "image/png": "[encoded data removed]",
            "text/plain": [
              "<Figure size 1440x1080 with 6 Axes>"
            ]
          },
          "metadata": {
            "needs_background": "light"
          }
        }
      ]
    }
  ]
}